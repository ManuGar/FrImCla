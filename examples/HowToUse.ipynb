{
  "nbformat": 4,
  "nbformat_minor": 0,
  "metadata": {
    "colab": {
      "name": "HowToUse.ipynb",
      "version": "0.3.2",
      "provenance": []
    },
    "kernelspec": {
      "name": "python3",
      "display_name": "Python 3"
    }
  },
  "cells": [
    {
      "metadata": {
        "id": "k9cG4swg6g6y",
        "colab_type": "text"
      },
      "cell_type": "markdown",
      "source": [
        "# How to use the framework\n"
      ]
    },
    {
      "metadata": {
        "id": "l0HG9q9d6g62",
        "colab_type": "text"
      },
      "cell_type": "markdown",
      "source": [
        "In case that FrImCla is not installed in your system, the first task consist in installing using pip."
      ]
    },
    {
      "metadata": {
        "id": "x57LlcIs6g64",
        "colab_type": "code",
        "outputId": "783e4daa-853f-46b0-93e4-e7b2d84db7b6",
        "colab": {
          "base_uri": "https://localhost:8080/",
          "height": 1173
        }
      },
      "cell_type": "code",
      "source": [
        "!pip install frimcla"
      ],
      "execution_count": 1,
      "outputs": [
        {
          "output_type": "stream",
          "text": [
            "Collecting frimcla\n",
            "\u001b[?25l  Downloading https://files.pythonhosted.org/packages/5a/b6/066c32bdfbd4798e541ea968ddfd6684edb2e4a73ac825555a91a61c4742/frimcla-0.0.543.tar.gz (419kB)\n",
            "\u001b[K    100% |████████████████████████████████| 419kB 7.9MB/s \n",
            "\u001b[?25hRequirement already satisfied: opencv-python in /usr/local/lib/python3.6/dist-packages (from frimcla) (3.4.5.20)\n",
            "Collecting mahotas (from frimcla)\n",
            "\u001b[?25l  Downloading https://files.pythonhosted.org/packages/b2/f8/25a67f7433146e42272ca3dfb176ac4cd374f3f97e6a001baf9af0bfff1a/mahotas-1.4.5.tar.gz (1.5MB)\n",
            "\u001b[K    100% |████████████████████████████████| 1.5MB 17.6MB/s \n",
            "\u001b[?25hRequirement already satisfied: pandas in /usr/local/lib/python3.6/dist-packages (from frimcla) (0.22.0)\n",
            "Requirement already satisfied: imutils in /usr/local/lib/python3.6/dist-packages (from frimcla) (0.5.2)\n",
            "Requirement already satisfied: scikit-image in /usr/local/lib/python3.6/dist-packages (from frimcla) (0.13.1)\n",
            "Requirement already satisfied: tabulate in /usr/local/lib/python3.6/dist-packages (from frimcla) (0.8.3)\n",
            "Requirement already satisfied: tensorflow in /usr/local/lib/python3.6/dist-packages (from frimcla) (1.13.1)\n",
            "Requirement already satisfied: matplotlib in /usr/local/lib/python3.6/dist-packages (from frimcla) (3.0.3)\n",
            "Collecting Keras==2.1.6 (from frimcla)\n",
            "\u001b[?25l  Downloading https://files.pythonhosted.org/packages/54/e8/eaff7a09349ae9bd40d3ebaf028b49f5e2392c771f294910f75bb608b241/Keras-2.1.6-py2.py3-none-any.whl (339kB)\n",
            "\u001b[K    100% |████████████████████████████████| 348kB 27.9MB/s \n",
            "\u001b[?25hCollecting commentjson (from frimcla)\n",
            "  Downloading https://files.pythonhosted.org/packages/81/63/9fafac8fb75d153deec7dee7c255905fe5e44d73e6c6788dc848bb53cc97/commentjson-0.7.1.tar.gz\n",
            "Requirement already satisfied: theano in /usr/local/lib/python3.6/dist-packages (from frimcla) (1.0.4)\n",
            "Requirement already satisfied: h5py in /usr/local/lib/python3.6/dist-packages (from frimcla) (2.8.0)\n",
            "Collecting wget (from frimcla)\n",
            "  Downloading https://files.pythonhosted.org/packages/47/6a/62e288da7bcda82b935ff0c6cfe542970f04e29c756b0e147251b2fb251f/wget-3.2.zip\n",
            "Requirement already satisfied: numpy in /usr/local/lib/python3.6/dist-packages (from frimcla) (1.14.6)\n",
            "Requirement already satisfied: scikit-learn in /usr/local/lib/python3.6/dist-packages (from frimcla) (0.20.3)\n",
            "Requirement already satisfied: pytz>=2011k in /usr/local/lib/python3.6/dist-packages (from pandas->frimcla) (2018.9)\n",
            "Requirement already satisfied: python-dateutil>=2 in /usr/local/lib/python3.6/dist-packages (from pandas->frimcla) (2.5.3)\n",
            "Requirement already satisfied: pillow>=2.1.0 in /usr/local/lib/python3.6/dist-packages (from scikit-image->frimcla) (4.1.1)\n",
            "Requirement already satisfied: PyWavelets>=0.4.0 in /usr/local/lib/python3.6/dist-packages (from scikit-image->frimcla) (1.0.2)\n",
            "Requirement already satisfied: scipy>=0.17.0 in /usr/local/lib/python3.6/dist-packages (from scikit-image->frimcla) (1.1.0)\n",
            "Requirement already satisfied: networkx>=1.8 in /usr/local/lib/python3.6/dist-packages (from scikit-image->frimcla) (2.2)\n",
            "Requirement already satisfied: six>=1.7.3 in /usr/local/lib/python3.6/dist-packages (from scikit-image->frimcla) (1.11.0)\n",
            "Requirement already satisfied: astor>=0.6.0 in /usr/local/lib/python3.6/dist-packages (from tensorflow->frimcla) (0.7.1)\n",
            "Requirement already satisfied: wheel>=0.26 in /usr/local/lib/python3.6/dist-packages (from tensorflow->frimcla) (0.33.1)\n",
            "Requirement already satisfied: gast>=0.2.0 in /usr/local/lib/python3.6/dist-packages (from tensorflow->frimcla) (0.2.2)\n",
            "Requirement already satisfied: protobuf>=3.6.1 in /usr/local/lib/python3.6/dist-packages (from tensorflow->frimcla) (3.7.0)\n",
            "Requirement already satisfied: grpcio>=1.8.6 in /usr/local/lib/python3.6/dist-packages (from tensorflow->frimcla) (1.15.0)\n",
            "Requirement already satisfied: termcolor>=1.1.0 in /usr/local/lib/python3.6/dist-packages (from tensorflow->frimcla) (1.1.0)\n",
            "Requirement already satisfied: tensorflow-estimator<1.14.0rc0,>=1.13.0 in /usr/local/lib/python3.6/dist-packages (from tensorflow->frimcla) (1.13.0)\n",
            "Requirement already satisfied: absl-py>=0.1.6 in /usr/local/lib/python3.6/dist-packages (from tensorflow->frimcla) (0.7.0)\n",
            "Requirement already satisfied: keras-applications>=1.0.6 in /usr/local/lib/python3.6/dist-packages (from tensorflow->frimcla) (1.0.7)\n",
            "Requirement already satisfied: tensorboard<1.14.0,>=1.13.0 in /usr/local/lib/python3.6/dist-packages (from tensorflow->frimcla) (1.13.1)\n",
            "Requirement already satisfied: keras-preprocessing>=1.0.5 in /usr/local/lib/python3.6/dist-packages (from tensorflow->frimcla) (1.0.9)\n",
            "Requirement already satisfied: kiwisolver>=1.0.1 in /usr/local/lib/python3.6/dist-packages (from matplotlib->frimcla) (1.0.1)\n",
            "Requirement already satisfied: cycler>=0.10 in /usr/local/lib/python3.6/dist-packages (from matplotlib->frimcla) (0.10.0)\n",
            "Requirement already satisfied: pyparsing!=2.0.4,!=2.1.2,!=2.1.6,>=2.0.1 in /usr/local/lib/python3.6/dist-packages (from matplotlib->frimcla) (2.3.1)\n",
            "Requirement already satisfied: pyyaml in /usr/local/lib/python3.6/dist-packages (from Keras==2.1.6->frimcla) (3.13)\n",
            "Requirement already satisfied: olefile in /usr/local/lib/python3.6/dist-packages (from pillow>=2.1.0->scikit-image->frimcla) (0.46)\n",
            "Requirement already satisfied: decorator>=4.3.0 in /usr/local/lib/python3.6/dist-packages (from networkx>=1.8->scikit-image->frimcla) (4.3.2)\n",
            "Requirement already satisfied: setuptools in /usr/local/lib/python3.6/dist-packages (from protobuf>=3.6.1->tensorflow->frimcla) (40.8.0)\n",
            "Requirement already satisfied: mock>=2.0.0 in /usr/local/lib/python3.6/dist-packages (from tensorflow-estimator<1.14.0rc0,>=1.13.0->tensorflow->frimcla) (2.0.0)\n",
            "Requirement already satisfied: markdown>=2.6.8 in /usr/local/lib/python3.6/dist-packages (from tensorboard<1.14.0,>=1.13.0->tensorflow->frimcla) (3.0.1)\n",
            "Requirement already satisfied: werkzeug>=0.11.15 in /usr/local/lib/python3.6/dist-packages (from tensorboard<1.14.0,>=1.13.0->tensorflow->frimcla) (0.14.1)\n",
            "Requirement already satisfied: pbr>=0.11 in /usr/local/lib/python3.6/dist-packages (from mock>=2.0.0->tensorflow-estimator<1.14.0rc0,>=1.13.0->tensorflow->frimcla) (5.1.3)\n",
            "Building wheels for collected packages: frimcla, mahotas, commentjson, wget\n",
            "  Building wheel for frimcla (setup.py) ... \u001b[?25ldone\n",
            "\u001b[?25h  Stored in directory: /root/.cache/pip/wheels/eb/16/4d/5bded41e2ca07dce0e11ef0fc31b14daf37d417c1c865e9cba\n",
            "  Building wheel for mahotas (setup.py) ... \u001b[?25ldone\n",
            "\u001b[?25h  Stored in directory: /root/.cache/pip/wheels/fb/2a/81/12bc1070527dc81ef856f9d36db9ec0a42e8c14985d005395b\n",
            "  Building wheel for commentjson (setup.py) ... \u001b[?25ldone\n",
            "\u001b[?25h  Stored in directory: /root/.cache/pip/wheels/8c/0e/36/56d4e5ddf02e0ddd1d8f9eb8d90975a5192e0155ffe28ff19c\n",
            "  Building wheel for wget (setup.py) ... \u001b[?25ldone\n",
            "\u001b[?25h  Stored in directory: /root/.cache/pip/wheels/40/15/30/7d8f7cea2902b4db79e3fea550d7d7b85ecb27ef992b618f3f\n",
            "Successfully built frimcla mahotas commentjson wget\n",
            "Installing collected packages: mahotas, Keras, commentjson, wget, frimcla\n",
            "  Found existing installation: Keras 2.2.4\n",
            "    Uninstalling Keras-2.2.4:\n",
            "      Successfully uninstalled Keras-2.2.4\n",
            "Successfully installed Keras-2.1.6 commentjson-0.7.1 frimcla-0.0.543 mahotas-1.4.5 wget-3.2\n"
          ],
          "name": "stdout"
        }
      ]
    },
    {
      "metadata": {
        "id": "8fLJc2LQ6g6_",
        "colab_type": "text"
      },
      "cell_type": "markdown",
      "source": [
        "To begin, we have to import all the classes that we will need to be able to use our framework."
      ]
    },
    {
      "metadata": {
        "id": "uTjifyh46g7A",
        "colab_type": "code",
        "outputId": "7ba56b21-d6de-4896-ffaa-3d6dd871a676",
        "colab": {
          "base_uri": "https://localhost:8080/",
          "height": 34
        }
      },
      "cell_type": "code",
      "source": [
        "import warnings\n",
        "import time\n",
        "import argparse\n",
        "from frimcla.utils.conf import Conf\n",
        "from imutils import paths\n",
        "from __future__ import print_function\n",
        "from frimcla.index_features import generateFeatures\n",
        "from frimcla.StatisticalComparison import statisticalComparison\n",
        "from frimcla.train import train\n",
        "from frimcla.prediction import prediction\n",
        "warnings.simplefilter(action=\"ignore\", category=FutureWarning)"
      ],
      "execution_count": 2,
      "outputs": [
        {
          "output_type": "stream",
          "text": [
            "Using TensorFlow backend.\n"
          ],
          "name": "stderr"
        }
      ]
    },
    {
      "metadata": {
        "id": "D51ZQMF56g7F",
        "colab_type": "text"
      },
      "cell_type": "markdown",
      "source": [
        "### Configuring the dataset path"
      ]
    },
    {
      "metadata": {
        "id": "u0hhSw9W6g7G",
        "colab_type": "text"
      },
      "cell_type": "markdown",
      "source": [
        "First of all we have to know the path which we have our dataset. The dataset must have a folder for each class that we want to predict. "
      ]
    },
    {
      "metadata": {
        "id": "Qak2xU1O6g7I",
        "colab_type": "code",
        "colab": {
          "base_uri": "https://localhost:8080/",
          "height": 5494
        },
        "outputId": "96d5a447-68e2-40f3-9b74-4558740ea739"
      },
      "cell_type": "code",
      "source": [
        "!wget \"https://drive.google.com/uc?id=1ZApIHn-EvoQ6sdgJWhgfM3rmEEXWvXRJ&export=download&authuser=0\" -O mias.zip\n",
        "!unzip mias.zip\n",
        "\n",
        "datasetPath = \"./Mias\""
      ],
      "execution_count": 3,
      "outputs": [
        {
          "output_type": "stream",
          "text": [
            "--2019-03-20 16:19:12--  https://drive.google.com/uc?id=1ZApIHn-EvoQ6sdgJWhgfM3rmEEXWvXRJ&export=download&authuser=0\n",
            "Resolving drive.google.com (drive.google.com)... 74.125.141.102, 74.125.141.139, 74.125.141.101, ...\n",
            "Connecting to drive.google.com (drive.google.com)|74.125.141.102|:443... connected.\n",
            "HTTP request sent, awaiting response... 302 Moved Temporarily\n",
            "Location: https://drive.google.com/uc?id=1ZApIHn-EvoQ6sdgJWhgfM3rmEEXWvXRJ&export=download [following]\n",
            "--2019-03-20 16:19:12--  https://drive.google.com/uc?id=1ZApIHn-EvoQ6sdgJWhgfM3rmEEXWvXRJ&export=download\n",
            "Reusing existing connection to drive.google.com:443.\n",
            "HTTP request sent, awaiting response... 302 Moved Temporarily\n",
            "Location: https://doc-0g-3s-docs.googleusercontent.com/docs/securesc/ha0ro937gcuc7l7deffksulhg5h7mbp1/bvr1g97vgg2cd3h4uob5ucc7ise1fv03/1553097600000/05147614325801676241/*/1ZApIHn-EvoQ6sdgJWhgfM3rmEEXWvXRJ?e=download [following]\n",
            "Warning: wildcards not supported in HTTP.\n",
            "--2019-03-20 16:19:15--  https://doc-0g-3s-docs.googleusercontent.com/docs/securesc/ha0ro937gcuc7l7deffksulhg5h7mbp1/bvr1g97vgg2cd3h4uob5ucc7ise1fv03/1553097600000/05147614325801676241/*/1ZApIHn-EvoQ6sdgJWhgfM3rmEEXWvXRJ?e=download\n",
            "Resolving doc-0g-3s-docs.googleusercontent.com (doc-0g-3s-docs.googleusercontent.com)... 74.125.141.132, 2607:f8b0:400c:c06::84\n",
            "Connecting to doc-0g-3s-docs.googleusercontent.com (doc-0g-3s-docs.googleusercontent.com)|74.125.141.132|:443... connected.\n",
            "HTTP request sent, awaiting response... 200 OK\n",
            "Length: unspecified [application/zip]\n",
            "Saving to: ‘mias.zip’\n",
            "\n",
            "mias.zip                [ <=>                ]   2.82M  --.-KB/s    in 0.02s   \n",
            "\n",
            "2019-03-20 16:19:15 (154 MB/s) - ‘mias.zip’ saved [2955320]\n",
            "\n",
            "Archive:  mias.zip\n",
            "   creating: Mias/\n",
            "   creating: Mias/ABNORMAL/\n",
            "  inflating: Mias/ABNORMAL/mdb001.jpg  \n",
            "  inflating: Mias/ABNORMAL/mdb005.jpg  \n",
            "  inflating: Mias/ABNORMAL/mdb010.jpg  \n",
            "  inflating: Mias/ABNORMAL/mdb012.jpg  \n",
            "  inflating: Mias/ABNORMAL/mdb013.jpg  \n",
            "  inflating: Mias/ABNORMAL/mdb015.jpg  \n",
            "  inflating: Mias/ABNORMAL/mdb017.jpg  \n",
            "  inflating: Mias/ABNORMAL/mdb019.jpg  \n",
            "  inflating: Mias/ABNORMAL/mdb021.jpg  \n",
            "  inflating: Mias/ABNORMAL/mdb023.jpg  \n",
            "  inflating: Mias/ABNORMAL/mdb028.jpg  \n",
            "  inflating: Mias/ABNORMAL/mdb030.jpg  \n",
            "  inflating: Mias/ABNORMAL/mdb032.jpg  \n",
            "  inflating: Mias/ABNORMAL/mdb058.jpg  \n",
            "  inflating: Mias/ABNORMAL/mdb063.jpg  \n",
            "  inflating: Mias/ABNORMAL/mdb069.jpg  \n",
            "  inflating: Mias/ABNORMAL/mdb072.jpg  \n",
            "  inflating: Mias/ABNORMAL/mdb075.jpg  \n",
            "  inflating: Mias/ABNORMAL/mdb080.jpg  \n",
            "  inflating: Mias/ABNORMAL/mdb081.jpg  \n",
            "  inflating: Mias/ABNORMAL/mdb083.jpg  \n",
            "  inflating: Mias/ABNORMAL/mdb090.jpg  \n",
            "  inflating: Mias/ABNORMAL/mdb091.jpg  \n",
            "  inflating: Mias/ABNORMAL/mdb092.jpg  \n",
            "  inflating: Mias/ABNORMAL/mdb095.jpg  \n",
            "  inflating: Mias/ABNORMAL/mdb097.jpg  \n",
            "  inflating: Mias/ABNORMAL/mdb102.jpg  \n",
            "  inflating: Mias/ABNORMAL/mdb104.jpg  \n",
            "  inflating: Mias/ABNORMAL/mdb105.jpg  \n",
            "  inflating: Mias/ABNORMAL/mdb107.jpg  \n",
            "  inflating: Mias/ABNORMAL/mdb110.jpg  \n",
            "  inflating: Mias/ABNORMAL/mdb115.jpg  \n",
            "  inflating: Mias/ABNORMAL/mdb117.jpg  \n",
            "  inflating: Mias/ABNORMAL/mdb120.jpg  \n",
            "  inflating: Mias/ABNORMAL/mdb121.jpg  \n",
            "  inflating: Mias/ABNORMAL/mdb124.jpg  \n",
            "  inflating: Mias/ABNORMAL/mdb125.jpg  \n",
            "  inflating: Mias/ABNORMAL/mdb126.jpg  \n",
            "  inflating: Mias/ABNORMAL/mdb127.jpg  \n",
            "  inflating: Mias/ABNORMAL/mdb130.jpg  \n",
            "  inflating: Mias/ABNORMAL/mdb132.jpg  \n",
            "  inflating: Mias/ABNORMAL/mdb134.jpg  \n",
            "  inflating: Mias/ABNORMAL/mdb141.jpg  \n",
            "  inflating: Mias/ABNORMAL/mdb142.jpg  \n",
            "  inflating: Mias/ABNORMAL/mdb144.jpg  \n",
            "  inflating: Mias/ABNORMAL/mdb145.jpg  \n",
            "  inflating: Mias/ABNORMAL/mdb150.jpg  \n",
            "  inflating: Mias/ABNORMAL/mdb152.jpg  \n",
            "  inflating: Mias/ABNORMAL/mdb155.jpg  \n",
            "  inflating: Mias/ABNORMAL/mdb158.jpg  \n",
            "  inflating: Mias/ABNORMAL/mdb160.jpg  \n",
            "  inflating: Mias/ABNORMAL/mdb163.jpg  \n",
            "  inflating: Mias/ABNORMAL/mdb165.jpg  \n",
            "  inflating: Mias/ABNORMAL/mdb167.jpg  \n",
            "  inflating: Mias/ABNORMAL/mdb170.jpg  \n",
            "  inflating: Mias/ABNORMAL/mdb175.jpg  \n",
            "  inflating: Mias/ABNORMAL/mdb178.jpg  \n",
            "  inflating: Mias/ABNORMAL/mdb179.jpg  \n",
            "  inflating: Mias/ABNORMAL/mdb181.jpg  \n",
            "  inflating: Mias/ABNORMAL/mdb184.jpg  \n",
            "  inflating: Mias/ABNORMAL/mdb186.jpg  \n",
            "  inflating: Mias/ABNORMAL/mdb188.jpg  \n",
            "  inflating: Mias/ABNORMAL/mdb190.jpg  \n",
            "  inflating: Mias/ABNORMAL/mdb191.jpg  \n",
            "  inflating: Mias/ABNORMAL/mdb193.jpg  \n",
            "  inflating: Mias/ABNORMAL/mdb195.jpg  \n",
            "  inflating: Mias/ABNORMAL/mdb199.jpg  \n",
            "  inflating: Mias/ABNORMAL/mdb202.jpg  \n",
            "  inflating: Mias/ABNORMAL/mdb204.jpg  \n",
            "  inflating: Mias/ABNORMAL/mdb206.jpg  \n",
            "  inflating: Mias/ABNORMAL/mdb207.jpg  \n",
            "  inflating: Mias/ABNORMAL/mdb209.jpg  \n",
            "  inflating: Mias/ABNORMAL/mdb211.jpg  \n",
            "  inflating: Mias/ABNORMAL/mdb213.jpg  \n",
            "  inflating: Mias/ABNORMAL/mdb218.jpg  \n",
            "  inflating: Mias/ABNORMAL/mdb219.jpg  \n",
            "  inflating: Mias/ABNORMAL/mdb222.jpg  \n",
            "  inflating: Mias/ABNORMAL/mdb223.jpg  \n",
            "  inflating: Mias/ABNORMAL/mdb226.jpg  \n",
            "  inflating: Mias/ABNORMAL/mdb227.jpg  \n",
            "  inflating: Mias/ABNORMAL/mdb231.jpg  \n",
            "  inflating: Mias/ABNORMAL/mdb236.jpg  \n",
            "  inflating: Mias/ABNORMAL/mdb239.jpg  \n",
            "  inflating: Mias/ABNORMAL/mdb240.jpg  \n",
            "  inflating: Mias/ABNORMAL/mdb244.jpg  \n",
            "  inflating: Mias/ABNORMAL/mdb248.jpg  \n",
            "  inflating: Mias/ABNORMAL/mdb249.jpg  \n",
            "  inflating: Mias/ABNORMAL/mdb252.jpg  \n",
            "  inflating: Mias/ABNORMAL/mdb253.jpg  \n",
            "  inflating: Mias/ABNORMAL/mdb256.jpg  \n",
            "  inflating: Mias/ABNORMAL/mdb264.jpg  \n",
            "  inflating: Mias/ABNORMAL/mdb265.jpg  \n",
            "  inflating: Mias/ABNORMAL/mdb267.jpg  \n",
            "  inflating: Mias/ABNORMAL/mdb270.jpg  \n",
            "  inflating: Mias/ABNORMAL/mdb271.jpg  \n",
            "  inflating: Mias/ABNORMAL/mdb290.jpg  \n",
            "  inflating: Mias/ABNORMAL/mdb312.jpg  \n",
            "  inflating: Mias/ABNORMAL/mdb314.jpg  \n",
            "   creating: Mias/NORMAL/\n",
            "  inflating: Mias/NORMAL/mdb003.jpg  \n",
            "  inflating: Mias/NORMAL/mdb004.jpg  \n",
            "  inflating: Mias/NORMAL/mdb006.jpg  \n",
            "  inflating: Mias/NORMAL/mdb007.jpg  \n",
            "  inflating: Mias/NORMAL/mdb008.jpg  \n",
            "  inflating: Mias/NORMAL/mdb009.jpg  \n",
            "  inflating: Mias/NORMAL/mdb011.jpg  \n",
            "  inflating: Mias/NORMAL/mdb014.jpg  \n",
            "  inflating: Mias/NORMAL/mdb016.jpg  \n",
            "  inflating: Mias/NORMAL/mdb018.jpg  \n",
            "  inflating: Mias/NORMAL/mdb022.jpg  \n",
            "  inflating: Mias/NORMAL/mdb024.jpg  \n",
            "  inflating: Mias/NORMAL/mdb026.jpg  \n",
            "  inflating: Mias/NORMAL/mdb027.jpg  \n",
            "  inflating: Mias/NORMAL/mdb029.jpg  \n",
            "  inflating: Mias/NORMAL/mdb031.jpg  \n",
            "  inflating: Mias/NORMAL/mdb033.jpg  \n",
            "  inflating: Mias/NORMAL/mdb034.jpg  \n",
            "  inflating: Mias/NORMAL/mdb035.jpg  \n",
            "  inflating: Mias/NORMAL/mdb036.jpg  \n",
            "  inflating: Mias/NORMAL/mdb037.jpg  \n",
            "  inflating: Mias/NORMAL/mdb038.jpg  \n",
            "  inflating: Mias/NORMAL/mdb039.jpg  \n",
            "  inflating: Mias/NORMAL/mdb040.jpg  \n",
            "  inflating: Mias/NORMAL/mdb041.jpg  \n",
            "  inflating: Mias/NORMAL/mdb042.jpg  \n",
            "  inflating: Mias/NORMAL/mdb043.jpg  \n",
            "  inflating: Mias/NORMAL/mdb044.jpg  \n",
            "  inflating: Mias/NORMAL/mdb045.jpg  \n",
            "  inflating: Mias/NORMAL/mdb046.jpg  \n",
            "  inflating: Mias/NORMAL/mdb047.jpg  \n",
            "  inflating: Mias/NORMAL/mdb048.jpg  \n",
            "  inflating: Mias/NORMAL/mdb049.jpg  \n",
            "  inflating: Mias/NORMAL/mdb050.jpg  \n",
            "  inflating: Mias/NORMAL/mdb051.jpg  \n",
            "  inflating: Mias/NORMAL/mdb052.jpg  \n",
            "  inflating: Mias/NORMAL/mdb053.jpg  \n",
            "  inflating: Mias/NORMAL/mdb054.jpg  \n",
            "  inflating: Mias/NORMAL/mdb055.jpg  \n",
            "  inflating: Mias/NORMAL/mdb056.jpg  \n",
            "  inflating: Mias/NORMAL/mdb060.jpg  \n",
            "  inflating: Mias/NORMAL/mdb061.jpg  \n",
            "  inflating: Mias/NORMAL/mdb062.jpg  \n",
            "  inflating: Mias/NORMAL/mdb064.jpg  \n",
            "  inflating: Mias/NORMAL/mdb065.jpg  \n",
            "  inflating: Mias/NORMAL/mdb066.jpg  \n",
            "  inflating: Mias/NORMAL/mdb067.jpg  \n",
            "  inflating: Mias/NORMAL/mdb068.jpg  \n",
            "  inflating: Mias/NORMAL/mdb071.jpg  \n",
            "  inflating: Mias/NORMAL/mdb073.jpg  \n",
            "  inflating: Mias/NORMAL/mdb074.jpg  \n",
            "  inflating: Mias/NORMAL/mdb076.jpg  \n",
            "  inflating: Mias/NORMAL/mdb077.jpg  \n",
            "  inflating: Mias/NORMAL/mdb078.jpg  \n",
            "  inflating: Mias/NORMAL/mdb079.jpg  \n",
            "  inflating: Mias/NORMAL/mdb082.jpg  \n",
            "  inflating: Mias/NORMAL/mdb084.jpg  \n",
            "  inflating: Mias/NORMAL/mdb085.jpg  \n",
            "  inflating: Mias/NORMAL/mdb086.jpg  \n",
            "  inflating: Mias/NORMAL/mdb087.jpg  \n",
            "  inflating: Mias/NORMAL/mdb088.jpg  \n",
            "  inflating: Mias/NORMAL/mdb089.jpg  \n",
            "  inflating: Mias/NORMAL/mdb093.jpg  \n",
            "  inflating: Mias/NORMAL/mdb094.jpg  \n",
            "  inflating: Mias/NORMAL/mdb096.jpg  \n",
            "  inflating: Mias/NORMAL/mdb098.jpg  \n",
            "  inflating: Mias/NORMAL/mdb100.jpg  \n",
            "  inflating: Mias/NORMAL/mdb101.jpg  \n",
            "  inflating: Mias/NORMAL/mdb103.jpg  \n",
            "  inflating: Mias/NORMAL/mdb106.jpg  \n",
            "  inflating: Mias/NORMAL/mdb108.jpg  \n",
            "  inflating: Mias/NORMAL/mdb109.jpg  \n",
            "  inflating: Mias/NORMAL/mdb112.jpg  \n",
            "  inflating: Mias/NORMAL/mdb113.jpg  \n",
            "  inflating: Mias/NORMAL/mdb114.jpg  \n",
            "  inflating: Mias/NORMAL/mdb116.jpg  \n",
            "  inflating: Mias/NORMAL/mdb118.jpg  \n",
            "  inflating: Mias/NORMAL/mdb119.jpg  \n",
            "  inflating: Mias/NORMAL/mdb123.jpg  \n",
            "  inflating: Mias/NORMAL/mdb128.jpg  \n",
            "  inflating: Mias/NORMAL/mdb129.jpg  \n",
            "  inflating: Mias/NORMAL/mdb131.jpg  \n",
            "  inflating: Mias/NORMAL/mdb133.jpg  \n",
            "  inflating: Mias/NORMAL/mdb135.jpg  \n",
            "  inflating: Mias/NORMAL/mdb136.jpg  \n",
            "  inflating: Mias/NORMAL/mdb137.jpg  \n",
            "  inflating: Mias/NORMAL/mdb138.jpg  \n",
            "  inflating: Mias/NORMAL/mdb139.jpg  \n",
            "  inflating: Mias/NORMAL/mdb140.jpg  \n",
            "  inflating: Mias/NORMAL/mdb143.jpg  \n",
            "  inflating: Mias/NORMAL/mdb146.jpg  \n",
            "  inflating: Mias/NORMAL/mdb147.jpg  \n",
            "  inflating: Mias/NORMAL/mdb149.jpg  \n",
            "  inflating: Mias/NORMAL/mdb151.jpg  \n",
            "  inflating: Mias/NORMAL/mdb153.jpg  \n",
            "  inflating: Mias/NORMAL/mdb154.jpg  \n",
            "  inflating: Mias/NORMAL/mdb156.jpg  \n",
            "  inflating: Mias/NORMAL/mdb157.jpg  \n",
            "  inflating: Mias/NORMAL/mdb159.jpg  \n",
            "  inflating: Mias/NORMAL/mdb161.jpg  \n",
            "  inflating: Mias/NORMAL/mdb162.jpg  \n",
            "  inflating: Mias/NORMAL/mdb164.jpg  \n",
            "  inflating: Mias/NORMAL/mdb166.jpg  \n",
            "  inflating: Mias/NORMAL/mdb168.jpg  \n",
            "  inflating: Mias/NORMAL/mdb172.jpg  \n",
            "  inflating: Mias/NORMAL/mdb173.jpg  \n",
            "  inflating: Mias/NORMAL/mdb174.jpg  \n",
            "  inflating: Mias/NORMAL/mdb176.jpg  \n",
            "  inflating: Mias/NORMAL/mdb177.jpg  \n",
            "  inflating: Mias/NORMAL/mdb180.jpg  \n",
            "  inflating: Mias/NORMAL/mdb182.jpg  \n",
            "  inflating: Mias/NORMAL/mdb183.jpg  \n",
            "  inflating: Mias/NORMAL/mdb185.jpg  \n",
            "  inflating: Mias/NORMAL/mdb189.jpg  \n",
            "  inflating: Mias/NORMAL/mdb192.jpg  \n",
            "  inflating: Mias/NORMAL/mdb194.jpg  \n",
            "  inflating: Mias/NORMAL/mdb196.jpg  \n",
            "  inflating: Mias/NORMAL/mdb197.jpg  \n",
            "  inflating: Mias/NORMAL/mdb200.jpg  \n",
            "  inflating: Mias/NORMAL/mdb201.jpg  \n",
            "  inflating: Mias/NORMAL/mdb203.jpg  \n",
            "  inflating: Mias/NORMAL/mdb205.jpg  \n",
            "  inflating: Mias/NORMAL/mdb210.jpg  \n",
            "  inflating: Mias/NORMAL/mdb212.jpg  \n",
            "  inflating: Mias/NORMAL/mdb214.jpg  \n",
            "  inflating: Mias/NORMAL/mdb215.jpg  \n",
            "  inflating: Mias/NORMAL/mdb217.jpg  \n",
            "  inflating: Mias/NORMAL/mdb220.jpg  \n",
            "  inflating: Mias/NORMAL/mdb221.jpg  \n",
            "  inflating: Mias/NORMAL/mdb224.jpg  \n",
            "  inflating: Mias/NORMAL/mdb225.jpg  \n",
            "  inflating: Mias/NORMAL/mdb228.jpg  \n",
            "  inflating: Mias/NORMAL/mdb229.jpg  \n",
            "  inflating: Mias/NORMAL/mdb230.jpg  \n",
            "  inflating: Mias/NORMAL/mdb232.jpg  \n",
            "  inflating: Mias/NORMAL/mdb234.jpg  \n",
            "  inflating: Mias/NORMAL/mdb235.jpg  \n",
            "  inflating: Mias/NORMAL/mdb237.jpg  \n",
            "  inflating: Mias/NORMAL/mdb242.jpg  \n",
            "  inflating: Mias/NORMAL/mdb243.jpg  \n",
            "  inflating: Mias/NORMAL/mdb246.jpg  \n",
            "  inflating: Mias/NORMAL/mdb247.jpg  \n",
            "  inflating: Mias/NORMAL/mdb250.jpg  \n",
            "  inflating: Mias/NORMAL/mdb251.jpg  \n",
            "  inflating: Mias/NORMAL/mdb254.jpg  \n",
            "  inflating: Mias/NORMAL/mdb255.jpg  \n",
            "  inflating: Mias/NORMAL/mdb258.jpg  \n",
            "  inflating: Mias/NORMAL/mdb259.jpg  \n",
            "  inflating: Mias/NORMAL/mdb260.jpg  \n",
            "  inflating: Mias/NORMAL/mdb261.jpg  \n",
            "  inflating: Mias/NORMAL/mdb262.jpg  \n",
            "  inflating: Mias/NORMAL/mdb263.jpg  \n",
            "  inflating: Mias/NORMAL/mdb266.jpg  \n",
            "  inflating: Mias/NORMAL/mdb268.jpg  \n",
            "  inflating: Mias/NORMAL/mdb269.jpg  \n",
            "  inflating: Mias/NORMAL/mdb272.jpg  \n",
            "  inflating: Mias/NORMAL/mdb273.jpg  \n",
            "  inflating: Mias/NORMAL/mdb275.jpg  \n",
            "  inflating: Mias/NORMAL/mdb277.jpg  \n",
            "  inflating: Mias/NORMAL/mdb278.jpg  \n",
            "  inflating: Mias/NORMAL/mdb279.jpg  \n",
            "  inflating: Mias/NORMAL/mdb280.jpg  \n",
            "  inflating: Mias/NORMAL/mdb281.jpg  \n",
            "  inflating: Mias/NORMAL/mdb282.jpg  \n",
            "  inflating: Mias/NORMAL/mdb283.jpg  \n",
            "  inflating: Mias/NORMAL/mdb284.jpg  \n",
            "  inflating: Mias/NORMAL/mdb285.jpg  \n",
            "  inflating: Mias/NORMAL/mdb286.jpg  \n",
            "  inflating: Mias/NORMAL/mdb287.jpg  \n",
            "  inflating: Mias/NORMAL/mdb288.jpg  \n",
            "  inflating: Mias/NORMAL/mdb289.jpg  \n",
            "  inflating: Mias/NORMAL/mdb291.jpg  \n",
            "  inflating: Mias/NORMAL/mdb292.jpg  \n",
            "  inflating: Mias/NORMAL/mdb293.jpg  \n",
            "  inflating: Mias/NORMAL/mdb295.jpg  \n",
            "  inflating: Mias/NORMAL/mdb296.jpg  \n",
            "  inflating: Mias/NORMAL/mdb297.jpg  \n",
            "  inflating: Mias/NORMAL/mdb298.jpg  \n",
            "  inflating: Mias/NORMAL/mdb299.jpg  \n",
            "  inflating: Mias/NORMAL/mdb300.jpg  \n",
            "  inflating: Mias/NORMAL/mdb301.jpg  \n",
            "  inflating: Mias/NORMAL/mdb302.jpg  \n",
            "  inflating: Mias/NORMAL/mdb303.jpg  \n",
            "  inflating: Mias/NORMAL/mdb304.jpg  \n",
            "  inflating: Mias/NORMAL/mdb305.jpg  \n",
            "  inflating: Mias/NORMAL/mdb306.jpg  \n",
            "  inflating: Mias/NORMAL/mdb307.jpg  \n",
            "  inflating: Mias/NORMAL/mdb308.jpg  \n",
            "  inflating: Mias/NORMAL/mdb309.jpg  \n",
            "  inflating: Mias/NORMAL/mdb310.jpg  \n",
            "  inflating: Mias/NORMAL/mdb311.jpg  \n",
            "  inflating: Mias/NORMAL/mdb313.jpg  \n",
            "  inflating: Mias/NORMAL/mdb316.jpg  \n",
            "  inflating: Mias/NORMAL/mdb317.jpg  \n",
            "  inflating: Mias/NORMAL/mdb318.jpg  \n",
            "  inflating: Mias/NORMAL/mdb319.jpg  \n",
            "  inflating: Mias/NORMAL/mdb320.jpg  \n",
            "  inflating: Mias/NORMAL/mdb321.jpg  \n"
          ],
          "name": "stdout"
        }
      ]
    },
    {
      "metadata": {
        "id": "RdwcQJUN6g7L",
        "colab_type": "text"
      },
      "cell_type": "markdown",
      "source": [
        "### Feature Extractor"
      ]
    },
    {
      "metadata": {
        "id": "FpAWBmdr6g7M",
        "colab_type": "text"
      },
      "cell_type": "markdown",
      "source": [
        "In this step we decide the feature extractor models that we are going to use with our dataset. These models will extract the most important points of the images. Then we save the points and with the classifier models that we will choose after this, we will classify the images with the classes of the dataset. Each feature extractor model has a different way to collect the most important points and for this reason we have to compare the models, because there is not a model that always fits better with the datasets."
      ]
    },
    {
      "metadata": {
        "id": "d-EX7rq36g7O",
        "colab_type": "code",
        "colab": {}
      },
      "cell_type": "code",
      "source": [
        "featureExtractors = [[\"vgg19\", \"False\"], [\"hog\"]]"
      ],
      "execution_count": 0,
      "outputs": []
    },
    {
      "metadata": {
        "id": "hXUE1Uqc6g7S",
        "colab_type": "text"
      },
      "cell_type": "markdown",
      "source": [
        "Now that we have the feature extractor models we can execute the algorithm that collect the features of the dataset for each model. The only thing that we have to do is indicate the paths of the dataset and the output and the models that we want to use for the study. The verbose parameter is to indicate whether we want to appear information about the execution on console."
      ]
    },
    {
      "metadata": {
        "scrolled": true,
        "id": "QUmSfhJr6g7U",
        "colab_type": "code",
        "colab": {
          "base_uri": "https://localhost:8080/",
          "height": 462
        },
        "outputId": "cec2aece-cda2-43d2-8753-0c217955e7f7"
      },
      "cell_type": "code",
      "source": [
        "generateFeatures(\"./\", 32, datasetPath, featureExtractors, False)"
      ],
      "execution_count": 5,
      "outputs": [
        {
          "output_type": "stream",
          "text": [
            "[INFO] loading ['vgg19', 'False']...\n",
            "WARNING:tensorflow:From /usr/local/lib/python3.6/dist-packages/tensorflow/python/framework/op_def_library.py:263: colocate_with (from tensorflow.python.framework.ops) is deprecated and will be removed in a future version.\n",
            "Instructions for updating:\n",
            "Colocations handled automatically by placer.\n",
            "Downloading data from https://github.com/fchollet/deep-learning-models/releases/download/v0.1/vgg19_weights_tf_dim_ordering_tf_kernels.h5\n",
            "574717952/574710816 [==============================] - 6s 0us/step\n",
            "[WARN] minimum init buffer not reached - 2019-03-20 16:26:56.328028\n",
            "[INFO] creating datasets... - 2019-03-20 16:26:56.328567\n",
            "[INFO] writing un-empty buffers... - 2019-03-20 16:26:56.329796\n",
            "[INFO] writing `image_ids` buffer - 2019-03-20 16:26:56.329937\n",
            "[INFO] writing `features` buffer - 2019-03-20 16:26:56.331280\n",
            "[INFO] compacting datasets... - 2019-03-20 16:26:56.335241\n",
            "[INFO] old size of `image_ids`: 296; new size: 296 - 2019-03-20 16:26:56.335729\n",
            "[INFO] old size of `features`: 296; new size: 296 - 2019-03-20 16:26:56.335834\n",
            "[INFO] loading ['hog']...\n"
          ],
          "name": "stdout"
        },
        {
          "output_type": "stream",
          "text": [
            "/usr/local/lib/python3.6/dist-packages/skimage/feature/_hog.py:119: skimage_deprecation: Default value of `block_norm`==`L1` is deprecated and will be changed to `L2-Hys` in v0.15\n",
            "  'be changed to `L2-Hys` in v0.15', skimage_deprecation)\n"
          ],
          "name": "stderr"
        },
        {
          "output_type": "stream",
          "text": [
            "[WARN] minimum init buffer not reached - 2019-03-20 16:27:03.761267\n",
            "[INFO] creating datasets... - 2019-03-20 16:27:03.761449\n",
            "[INFO] writing un-empty buffers... - 2019-03-20 16:27:03.762749\n",
            "[INFO] writing `image_ids` buffer - 2019-03-20 16:27:03.763159\n",
            "[INFO] writing `features` buffer - 2019-03-20 16:27:03.764309\n",
            "[INFO] compacting datasets... - 2019-03-20 16:27:03.824174\n",
            "[INFO] old size of `image_ids`: 296; new size: 296 - 2019-03-20 16:27:03.824427\n",
            "[INFO] old size of `features`: 296; new size: 296 - 2019-03-20 16:27:03.824779\n"
          ],
          "name": "stdout"
        }
      ]
    },
    {
      "metadata": {
        "id": "reMiP_3c6g7Z",
        "colab_type": "text"
      },
      "cell_type": "markdown",
      "source": [
        "This algorithm will create a set of files that contains the features of the images. Each file corresponds to a model of those indicated above. "
      ]
    },
    {
      "metadata": {
        "id": "x6v85V0p6g7b",
        "colab_type": "text"
      },
      "cell_type": "markdown",
      "source": [
        "### Classification models"
      ]
    },
    {
      "metadata": {
        "id": "vcvkLLPc6g7c",
        "colab_type": "text"
      },
      "cell_type": "markdown",
      "source": [
        "Once we have stored the features of the images, we have to choose the clasiffication models that we are going to use for the dataset. All these classifiers will be used for each feature extractor model to know which is the performance of every combination."
      ]
    },
    {
      "metadata": {
        "id": "IN4PPCCq6g7d",
        "colab_type": "code",
        "colab": {}
      },
      "cell_type": "code",
      "source": [
        "modelClassifiers = [ \"MLP\",\"SVM\",\"KNN\", \"LogisticRegression\", \"GradientBoost\", \"RandomForest\"]"
      ],
      "execution_count": 0,
      "outputs": []
    },
    {
      "metadata": {
        "id": "IoEb5ul16g7i",
        "colab_type": "text"
      },
      "cell_type": "markdown",
      "source": [
        "With the classifiers chosen, now that we have to do is to carry out a statistical analysis. The analysis studies and compares every combination. Once the analysis has compared all the combinations gives us the best combination of feature extractor model and classifier model and all the combinations that have not significant differencies with the best result.  "
      ]
    },
    {
      "metadata": {
        "id": "5Nd6zKwE6g7j",
        "colab_type": "text"
      },
      "cell_type": "markdown",
      "source": [
        "### Performance measures"
      ]
    },
    {
      "metadata": {
        "id": "amjYVdJT6g7l",
        "colab_type": "text"
      },
      "cell_type": "markdown",
      "source": [
        "We have to select a performance measure to know which is the best model. In this case, there are five different measures (accuracy, recall, precision, auroc and f1). The user have to select only one of the five measures. Accuracy is the default measure."
      ]
    },
    {
      "metadata": {
        "id": "pZM7AoVa6g7m",
        "colab_type": "code",
        "colab": {}
      },
      "cell_type": "code",
      "source": [
        "measure = \"accuracy\""
      ],
      "execution_count": 0,
      "outputs": []
    },
    {
      "metadata": {
        "scrolled": true,
        "id": "noCQlH2J6g7r",
        "colab_type": "code",
        "outputId": "7836ebe2-ac96-4b34-aa54-186e0fef5c70",
        "colab": {
          "base_uri": "https://localhost:8080/",
          "height": 1229
        }
      },
      "cell_type": "code",
      "source": [
        "statisticalComparison(\"./output\", datasetPath, featureExtractors, modelClassifiers, measure, 10, False)"
      ],
      "execution_count": 8,
      "outputs": [
        {
          "output_type": "stream",
          "text": [
            "The combination(hog-SVM) is not allowed\n",
            "The combination(hog-KNN) is not allowed\n",
            "The combination(hog-LogisticRegression) is not allowed\n"
          ],
          "name": "stdout"
        },
        {
          "output_type": "stream",
          "text": [
            "/usr/local/lib/python3.6/dist-packages/sklearn/externals/joblib/externals/loky/process_executor.py:706: UserWarning: A worker stopped while some jobs were given to the executor. This can be caused by a too short worker timeout or by a memory leak.\n",
            "  \"timeout or by a memory leak.\", UserWarning\n"
          ],
          "name": "stderr"
        },
        {
          "output_type": "display_data",
          "data": {
            "image/png": "[encoded data removed]",
            "text/plain": [
              "<Figure size 576x396 with 1 Axes>"
            ]
          },
          "metadata": {
            "tags": []
          }
        },
        {
          "output_type": "display_data",
          "data": {
            "image/png": "[encoded data removed]",
            "text/plain": [
              "<Figure size 576x396 with 1 Axes>"
            ]
          },
          "metadata": {
            "tags": []
          }
        },
        {
          "output_type": "display_data",
          "data": {
            "image/png": "[encoded data removed]",
            "text/plain": [
              "<Figure size 576x396 with 1 Axes>"
            ]
          },
          "metadata": {
            "tags": []
          }
        }
      ]
    },
    {
      "metadata": {
        "id": "zMMpPRpk6g7y",
        "colab_type": "text"
      },
      "cell_type": "markdown",
      "source": [
        "### Training the best model"
      ]
    },
    {
      "metadata": {
        "id": "a5vZsqhI6g7z",
        "colab_type": "text"
      },
      "cell_type": "markdown",
      "source": [
        "Finally, we have to train the resulting combination. In this step, we only train the best model with all the images of the datset. In this case we do not split the dataset in test and train data, we need all the images to train and improve the results of the model. \n",
        "\n",
        "In this function FrImCla asks the user if he/she wants a web application or not (Y if the user wants the webapp). This web application uses the best model selected by FrImCla for this problem. The application generated is very simple and only contains a text box and a button to predict the class of new images. FrImCla generates a zip file that must be decompressed to be used. Inside the folder the user has to open a new terminal in this path and run the following command:\n",
        "\n",
        "`python3 FlaskApp/app.py`\n",
        "\n",
        "The comand executes the web application in http://localhost:5000/ To use the application the user has to write open the link in his/her browser.\n",
        "\n"
      ]
    },
    {
      "metadata": {
        "id": "0feQXP5Z6g71",
        "colab_type": "code",
        "outputId": "0cc3534b-d87c-4d06-92e2-63b140c0787e",
        "colab": {
          "base_uri": "https://localhost:8080/",
          "height": 119
        }
      },
      "cell_type": "code",
      "source": [
        "train(\"./output\", datasetPath, 1)"
      ],
      "execution_count": 9,
      "outputs": [
        {
          "output_type": "stream",
          "text": [
            "[INFO] gathering train/test splits...\n",
            "[INFO] tuning hyperparameters...\n",
            "[INFO] best hyperparameters: {'C': 10000.0}\n",
            "[INFO] dumping classifier...\n",
            "Do you want to generate a web app to classify the images with the best combination? y/n\n",
            "y\n"
          ],
          "name": "stdout"
        }
      ]
    },
    {
      "metadata": {
        "id": "5Ot6HuGm6g77",
        "colab_type": "text"
      },
      "cell_type": "markdown",
      "source": [
        "Once we have the model trained, we can predict the class of the new images.\n",
        "\n",
        "\n",
        "If you want to download the web application you have to execute the following code."
      ]
    },
    {
      "metadata": {
        "id": "KTL4bGNXM6dX",
        "colab_type": "code",
        "colab": {}
      },
      "cell_type": "code",
      "source": [
        "from google.colab import files\n",
        "files.download('./output/Mias/webApp.zip') "
      ],
      "execution_count": 0,
      "outputs": []
    },
    {
      "metadata": {
        "id": "JpjNwRwU6g78",
        "colab_type": "text"
      },
      "cell_type": "markdown",
      "source": [
        "### Prediction"
      ]
    },
    {
      "metadata": {
        "id": "7BagQBC66g7-",
        "colab_type": "text"
      },
      "cell_type": "markdown",
      "source": [
        "Now, with the best model trained we can predict the classes of our images. For this task, we have developed another algorithm to use the model. This execution will give us the predicted class of the image that we choose. \n",
        "\n",
        "If the combination of feature extractor and machine learning algorithm is not the best, FrImCla ask the user in the command window if he wants to continue with this combination. To continue with the prediction he has to tell Y (yes)."
      ]
    },
    {
      "metadata": {
        "id": "WgmCxAZb6g7_",
        "colab_type": "code",
        "colab": {
          "base_uri": "https://localhost:8080/",
          "height": 326
        },
        "outputId": "54cff4c7-db4d-4757-b738-b0660fcd9ead"
      },
      "cell_type": "code",
      "source": [
        "image = \"./Mias/NORMAL/mdb035.jpg\"\n",
        "featureExtractor = [\"vgg19\", \"False\"]\n",
        "classifier = \"MLP\"\n",
        "\n",
        "# prediction(image, \"./\", datasetPath, featureExtractor, classifier)\n",
        "prediction(featureExtractor, classifier, image, \".\", datasetPath)"
      ],
      "execution_count": 18,
      "outputs": [
        {
          "output_type": "stream",
          "text": [
            "[INFO] loading model...\n",
            "This is not the best model. Are you sure you want to predict with it?\n",
            "y\n"
          ],
          "name": "stdout"
        },
        {
          "output_type": "stream",
          "text": [
            "/usr/local/lib/python3.6/dist-packages/sklearn/neural_network/multilayer_perceptron.py:562: ConvergenceWarning: Stochastic Optimizer: Maximum iterations (200) reached and the optimization hasn't converged yet.\n",
            "  % self.max_iter, ConvergenceWarning)\n",
            "/usr/local/lib/python3.6/dist-packages/sklearn/neural_network/multilayer_perceptron.py:562: ConvergenceWarning: Stochastic Optimizer: Maximum iterations (200) reached and the optimization hasn't converged yet.\n",
            "  % self.max_iter, ConvergenceWarning)\n",
            "/usr/local/lib/python3.6/dist-packages/sklearn/neural_network/multilayer_perceptron.py:562: ConvergenceWarning: Stochastic Optimizer: Maximum iterations (200) reached and the optimization hasn't converged yet.\n",
            "  % self.max_iter, ConvergenceWarning)\n",
            "/usr/local/lib/python3.6/dist-packages/sklearn/neural_network/multilayer_perceptron.py:562: ConvergenceWarning: Stochastic Optimizer: Maximum iterations (200) reached and the optimization hasn't converged yet.\n",
            "  % self.max_iter, ConvergenceWarning)\n",
            "/usr/local/lib/python3.6/dist-packages/sklearn/neural_network/multilayer_perceptron.py:562: ConvergenceWarning: Stochastic Optimizer: Maximum iterations (200) reached and the optimization hasn't converged yet.\n",
            "  % self.max_iter, ConvergenceWarning)\n",
            "/usr/local/lib/python3.6/dist-packages/sklearn/neural_network/multilayer_perceptron.py:562: ConvergenceWarning: Stochastic Optimizer: Maximum iterations (200) reached and the optimization hasn't converged yet.\n",
            "  % self.max_iter, ConvergenceWarning)\n"
          ],
          "name": "stderr"
        },
        {
          "output_type": "stream",
          "text": [
            "[INFO] loading ['vgg19', 'False']...\n",
            "[INFO] class predicted for the image NORMAL:mdb035.jpg: ['NORMAL']\n"
          ],
          "name": "stdout"
        }
      ]
    }
  ]
}