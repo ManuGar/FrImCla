{
  "nbformat": 4,
  "nbformat_minor": 0,
  "metadata": {
    "colab": {
      "name": "HowToUse.ipynb",
      "version": "0.3.2",
      "provenance": []
    },
    "kernelspec": {
      "display_name": "Python 2",
      "language": "python",
      "name": "python2"
    }
  },
  "cells": [
    {
      "metadata": {
        "id": "k9cG4swg6g6y",
        "colab_type": "text"
      },
      "cell_type": "markdown",
      "source": [
        "# How to use the framework\n"
      ]
    },
    {
      "metadata": {
        "id": "l0HG9q9d6g62",
        "colab_type": "text"
      },
      "cell_type": "markdown",
      "source": [
        "In case that FrImCla is not installed in your system, the first task consist in installing using pip."
      ]
    },
    {
      "metadata": {
        "id": "x57LlcIs6g64",
        "colab_type": "code",
        "colab": {},
        "outputId": "aa4fa247-d1a0-47bb-e76c-e8e75696dc2d"
      },
      "cell_type": "code",
      "source": [
        "!pip install frimcla"
      ],
      "execution_count": 0,
      "outputs": [
        {
          "output_type": "stream",
          "text": [
            "Requirement already satisfied: frimcla in /home/magarcd/Escritorio/frimcla (0.0.531)\n",
            "Requirement already satisfied: opencv-python in /usr/local/lib/python2.7/dist-packages (from frimcla) (3.4.1.15)\n",
            "Requirement already satisfied: mahotas in /usr/local/lib/python2.7/dist-packages (from frimcla) (1.4.4)\n",
            "Requirement already satisfied: pandas in /usr/local/lib/python2.7/dist-packages (from frimcla) (0.23.0)\n",
            "Requirement already satisfied: imutils in /usr/local/lib/python2.7/dist-packages (from frimcla) (0.4.6)\n",
            "Requirement already satisfied: scikit-image in /usr/lib/python2.7/dist-packages (from frimcla) (0.13.1)\n",
            "Requirement already satisfied: tabulate in /usr/local/lib/python2.7/dist-packages (from frimcla) (0.8.2)\n",
            "Requirement already satisfied: tensorflow in /usr/local/lib/python2.7/dist-packages (from frimcla) (1.8.0)\n",
            "Requirement already satisfied: matplotlib in /usr/local/lib/python2.7/dist-packages (from frimcla) (2.0.2)\n",
            "Requirement already satisfied: guppy in /usr/local/lib/python2.7/dist-packages (from frimcla) (0.1.10)\n",
            "Requirement already satisfied: Keras==2.1.6 in /usr/local/lib/python2.7/dist-packages (from frimcla) (2.1.6)\n",
            "Requirement already satisfied: commentjson in /usr/local/lib/python2.7/dist-packages (from frimcla) (0.6)\n",
            "Requirement already satisfied: theano in /usr/local/lib/python2.7/dist-packages (from frimcla) (1.0.2)\n",
            "Requirement already satisfied: h5py in /usr/local/lib/python2.7/dist-packages (from frimcla) (2.7.1)\n",
            "Requirement already satisfied: wget in /usr/local/lib/python2.7/dist-packages (from frimcla) (3.2)\n",
            "Requirement already satisfied: numpy in /usr/lib/python2.7/dist-packages (from frimcla) (1.13.3)\n",
            "Requirement already satisfied: scikit-learn in /usr/local/lib/python2.7/dist-packages/scikit_learn-0.19.1-py2.7-linux-x86_64.egg (from frimcla) (0.19.1)\n",
            "Requirement already satisfied: pytz>=2011k in /usr/lib/python2.7/dist-packages (from pandas->frimcla) (2018.3)\n",
            "Requirement already satisfied: python-dateutil>=2.5.0 in /usr/lib/python2.7/dist-packages (from pandas->frimcla) (2.6.1)\n",
            "Requirement already satisfied: PyWavelets>=0.4.0 in /usr/lib/python2.7/dist-packages (from scikit-image->frimcla) (0.5.1)\n",
            "Requirement already satisfied: networkx>=1.8 in /usr/lib/python2.7/dist-packages (from scikit-image->frimcla) (1.11)\n",
            "Requirement already satisfied: pillow>=2.1.0 in /usr/local/lib/python2.7/dist-packages (from scikit-image->frimcla) (5.1.0)\n",
            "Requirement already satisfied: six>=1.7.3 in /usr/local/lib/python2.7/dist-packages (from scikit-image->frimcla) (1.11.0)\n",
            "Requirement already satisfied: grpcio>=1.8.6 in /usr/local/lib/python2.7/dist-packages (from tensorflow->frimcla) (1.12.0)\n",
            "Requirement already satisfied: mock>=2.0.0 in /usr/local/lib/python2.7/dist-packages (from tensorflow->frimcla) (2.0.0)\n",
            "Requirement already satisfied: protobuf>=3.4.0 in /usr/local/lib/python2.7/dist-packages (from tensorflow->frimcla) (3.5.2.post1)\n",
            "Requirement already satisfied: gast>=0.2.0 in /usr/local/lib/python2.7/dist-packages (from tensorflow->frimcla) (0.2.0)\n",
            "Requirement already satisfied: wheel in /usr/local/lib/python2.7/dist-packages (from tensorflow->frimcla) (0.31.1)\n",
            "Requirement already satisfied: absl-py>=0.1.6 in /usr/local/lib/python2.7/dist-packages (from tensorflow->frimcla) (0.2.1)\n",
            "Requirement already satisfied: backports.weakref>=1.0rc1 in /usr/local/lib/python2.7/dist-packages (from tensorflow->frimcla) (1.0.post1)\n",
            "Requirement already satisfied: enum34>=1.1.6 in /usr/local/lib/python2.7/dist-packages (from tensorflow->frimcla) (1.1.6)\n",
            "Requirement already satisfied: tensorboard<1.9.0,>=1.8.0 in /usr/local/lib/python2.7/dist-packages (from tensorflow->frimcla) (1.8.0)\n",
            "Requirement already satisfied: termcolor>=1.1.0 in /usr/local/lib/python2.7/dist-packages (from tensorflow->frimcla) (1.1.0)\n",
            "Requirement already satisfied: astor>=0.6.0 in /usr/local/lib/python2.7/dist-packages (from tensorflow->frimcla) (0.6.2)\n",
            "Requirement already satisfied: cycler>=0.10 in /usr/lib/python2.7/dist-packages (from matplotlib->frimcla) (0.10.0)\n",
            "Requirement already satisfied: pyparsing!=2.0.4,!=2.1.2,!=2.1.6,>=1.5.6 in /usr/lib/python2.7/dist-packages (from matplotlib->frimcla) (2.2.0)\n",
            "Requirement already satisfied: subprocess32 in /usr/lib/python2.7/dist-packages (from matplotlib->frimcla) (3.2.7)\n",
            "Requirement already satisfied: functools32 in /usr/local/lib/python2.7/dist-packages (from matplotlib->frimcla) (3.2.3.post2)\n",
            "Requirement already satisfied: pyyaml in /usr/local/lib/python2.7/dist-packages (from Keras==2.1.6->frimcla) (3.12)\n",
            "Requirement already satisfied: scipy>=0.14 in /usr/local/lib/python2.7/dist-packages/scipy-1.1.0-py2.7-linux-x86_64.egg (from Keras==2.1.6->frimcla) (1.1.0)\n",
            "Requirement already satisfied: futures>=2.2.0 in /usr/local/lib/python2.7/dist-packages (from grpcio>=1.8.6->tensorflow->frimcla) (3.2.0)\n",
            "Requirement already satisfied: funcsigs>=1; python_version < \"3.3\" in /usr/local/lib/python2.7/dist-packages (from mock>=2.0.0->tensorflow->frimcla) (1.0.2)\n",
            "Requirement already satisfied: pbr>=0.11 in /usr/local/lib/python2.7/dist-packages (from mock>=2.0.0->tensorflow->frimcla) (4.0.3)\n",
            "Requirement already satisfied: setuptools in /usr/local/lib/python2.7/dist-packages (from protobuf>=3.4.0->tensorflow->frimcla) (39.2.0)\n",
            "Requirement already satisfied: bleach==1.5.0 in /usr/local/lib/python2.7/dist-packages (from tensorboard<1.9.0,>=1.8.0->tensorflow->frimcla) (1.5.0)\n",
            "Requirement already satisfied: html5lib==0.9999999 in /usr/local/lib/python2.7/dist-packages (from tensorboard<1.9.0,>=1.8.0->tensorflow->frimcla) (0.9999999)\n",
            "Requirement already satisfied: werkzeug>=0.11.10 in /usr/local/lib/python2.7/dist-packages (from tensorboard<1.9.0,>=1.8.0->tensorflow->frimcla) (0.14.1)\n",
            "Requirement already satisfied: markdown>=2.6.8 in /usr/local/lib/python2.7/dist-packages (from tensorboard<1.9.0,>=1.8.0->tensorflow->frimcla) (2.6.11)\n"
          ],
          "name": "stdout"
        }
      ]
    },
    {
      "metadata": {
        "id": "8fLJc2LQ6g6_",
        "colab_type": "text"
      },
      "cell_type": "markdown",
      "source": [
        "To begin, we have to import all the classes that we will need to be able to use our framework."
      ]
    },
    {
      "metadata": {
        "id": "uTjifyh46g7A",
        "colab_type": "code",
        "colab": {},
        "outputId": "a7a3e06b-25be-4c5e-87b2-6f1341ccc6eb"
      },
      "cell_type": "code",
      "source": [
        "import warnings\n",
        "import time\n",
        "import argparse\n",
        "from frimcla.utils.conf import Conf\n",
        "from imutils import paths\n",
        "from __future__ import print_function\n",
        "from frimcla.index_features import generateFeatures\n",
        "from frimcla.StatisticalComparison import statisticalComparison\n",
        "from frimcla.train import train\n",
        "from frimcla.prediction import prediction\n",
        "warnings.simplefilter(action=\"ignore\", category=FutureWarning)"
      ],
      "execution_count": 0,
      "outputs": [
        {
          "output_type": "error",
          "ename": "RuntimeError",
          "evalue": "module compiled against API version 0xc but this version of numpy is 0xb",
          "traceback": [
            "\u001b[0;31m---------------------------------------------------------------------------\u001b[0m",
            "\u001b[0;31mRuntimeError\u001b[0m                              Traceback (most recent call last)",
            "\u001b[0;31mRuntimeError\u001b[0m: module compiled against API version 0xc but this version of numpy is 0xb"
          ]
        },
        {
          "output_type": "error",
          "ename": "RuntimeError",
          "evalue": "module compiled against API version 0xc but this version of numpy is 0xb",
          "traceback": [
            "\u001b[0;31m---------------------------------------------------------------------------\u001b[0m",
            "\u001b[0;31mRuntimeError\u001b[0m                              Traceback (most recent call last)",
            "\u001b[0;31mRuntimeError\u001b[0m: module compiled against API version 0xc but this version of numpy is 0xb"
          ]
        },
        {
          "output_type": "stream",
          "text": [
            "/usr/local/lib/python2.7/dist-packages/scikit_learn-0.19.1-py2.7-linux-x86_64.egg/sklearn/cross_validation.py:41: DeprecationWarning: This module was deprecated in version 0.18 in favor of the model_selection module into which all the refactored classes and functions are moved. Also note that the interface of the new CV iterators are different from that of this module. This module will be removed in 0.20.\n",
            "  \"This module will be removed in 0.20.\", DeprecationWarning)\n",
            "Using TensorFlow backend.\n"
          ],
          "name": "stderr"
        }
      ]
    },
    {
      "metadata": {
        "id": "D51ZQMF56g7F",
        "colab_type": "text"
      },
      "cell_type": "markdown",
      "source": [
        "### Configuring the dataset path"
      ]
    },
    {
      "metadata": {
        "id": "u0hhSw9W6g7G",
        "colab_type": "text"
      },
      "cell_type": "markdown",
      "source": [
        "First of all we have to know the path which we have our dataset. The dataset must have a folder for each class that we want to predict. "
      ]
    },
    {
      "metadata": {
        "id": "Qak2xU1O6g7I",
        "colab_type": "code",
        "colab": {}
      },
      "cell_type": "code",
      "source": [
        "!wget \"https://drive.google.com/uc?id=1ZApIHn-EvoQ6sdgJWhgfM3rmEEXWvXRJ&export=download&authuser=0\" -O mias.zip\n",
        "!unzip mias.zip\n",
        "\n",
        "datasetPath = \"./Mias\""
      ],
      "execution_count": 0,
      "outputs": []
    },
    {
      "metadata": {
        "id": "RdwcQJUN6g7L",
        "colab_type": "text"
      },
      "cell_type": "markdown",
      "source": [
        "### Feature Extractor"
      ]
    },
    {
      "metadata": {
        "id": "FpAWBmdr6g7M",
        "colab_type": "text"
      },
      "cell_type": "markdown",
      "source": [
        "In this step we decide the feature extractor models that we are going to use with our dataset. These models will extract the most important points of the images. Then we save the points and with the classifier models that we will choose after this, we will classify the images with the classes of the dataset. Each feature extractor model has a different way to collect the most important points and for this reason we have to compare the models, because there is not a model that always fits better with the datasets."
      ]
    },
    {
      "metadata": {
        "id": "d-EX7rq36g7O",
        "colab_type": "code",
        "colab": {}
      },
      "cell_type": "code",
      "source": [
        "featureExtractors = [[\"vgg19\", \"False\"], [\"hog\"]]"
      ],
      "execution_count": 0,
      "outputs": []
    },
    {
      "metadata": {
        "id": "hXUE1Uqc6g7S",
        "colab_type": "text"
      },
      "cell_type": "markdown",
      "source": [
        "Now that we have the feature extractor models we can execute the algorithm that collect the features of the dataset for each model. The only thing that we have to do is indicate the paths of the dataset and the output and the models that we want to use for the study. The verbose parameter is to indicate whether we want to appear information about the execution on console."
      ]
    },
    {
      "metadata": {
        "scrolled": true,
        "id": "QUmSfhJr6g7U",
        "colab_type": "code",
        "colab": {}
      },
      "cell_type": "code",
      "source": [
        "generateFeatures(\"./\", 32, datasetPath, featureExtractors, False)"
      ],
      "execution_count": 0,
      "outputs": []
    },
    {
      "metadata": {
        "id": "reMiP_3c6g7Z",
        "colab_type": "text"
      },
      "cell_type": "markdown",
      "source": [
        "This algorithm will create a set of files that contains the features of the images. Each file corresponds to a model of those indicated above. "
      ]
    },
    {
      "metadata": {
        "id": "x6v85V0p6g7b",
        "colab_type": "text"
      },
      "cell_type": "markdown",
      "source": [
        "### Classification models"
      ]
    },
    {
      "metadata": {
        "id": "vcvkLLPc6g7c",
        "colab_type": "text"
      },
      "cell_type": "markdown",
      "source": [
        "Once we have stored the features of the images, we have to choose the clasiffication models that we are going to use for the dataset. All these classifiers will be used for each feature extractor model to know which is the performance of every combination."
      ]
    },
    {
      "metadata": {
        "id": "IN4PPCCq6g7d",
        "colab_type": "code",
        "colab": {}
      },
      "cell_type": "code",
      "source": [
        "modelClassifiers = [ \"MLP\",\"SVM\",\"KNN\", \"LogisticRegression\", \"GradientBoost\", \"RandomForest\"]"
      ],
      "execution_count": 0,
      "outputs": []
    },
    {
      "metadata": {
        "id": "IoEb5ul16g7i",
        "colab_type": "text"
      },
      "cell_type": "markdown",
      "source": [
        "With the classifiers chosen, now that we have to do is to carry out a statistical analysis. The analysis studies and compares every combination. Once the analysis has compared all the combinations gives us the best combination of feature extractor model and classifier model and all the combinations that have not significant differencies with the best result.  "
      ]
    },
    {
      "metadata": {
        "id": "5Nd6zKwE6g7j",
        "colab_type": "text"
      },
      "cell_type": "markdown",
      "source": [
        "### Performance measures"
      ]
    },
    {
      "metadata": {
        "id": "amjYVdJT6g7l",
        "colab_type": "text"
      },
      "cell_type": "markdown",
      "source": [
        "We have to select a performance measure to know which is the best model. In this case, there are five different measures (accuracy, recall, precision, auroc and f1). The user have to select only one of the five measures. Accuracy is the default measure."
      ]
    },
    {
      "metadata": {
        "id": "pZM7AoVa6g7m",
        "colab_type": "code",
        "colab": {}
      },
      "cell_type": "code",
      "source": [
        "measure = \"accuracy\""
      ],
      "execution_count": 0,
      "outputs": []
    },
    {
      "metadata": {
        "scrolled": true,
        "id": "noCQlH2J6g7r",
        "colab_type": "code",
        "colab": {},
        "outputId": "c8bfc432-dba8-407f-976f-31090944d59a"
      },
      "cell_type": "code",
      "source": [
        "statisticalComparison(\"./\", datasetPath, featureExtractors, modelClassifiers, measure, 10, False)"
      ],
      "execution_count": 0,
      "outputs": [
        {
          "output_type": "display_data",
          "data": {
            "image/png": "[encoded data removed]",
            "text/plain": [
              "<matplotlib.figure.Figure at 0x7efe11bd7f50>"
            ]
          },
          "metadata": {
            "tags": []
          }
        },
        {
          "output_type": "display_data",
          "data": {
            "image/png": "[encoded data removed]",
            "text/plain": [
              "<matplotlib.figure.Figure at 0x7efdf69a6890>"
            ]
          },
          "metadata": {
            "tags": []
          }
        },
        {
          "output_type": "display_data",
          "data": {
            "image/png": "[encoded data removed]",
            "text/plain": [
              "<matplotlib.figure.Figure at 0x7efdf66561d0>"
            ]
          },
          "metadata": {
            "tags": []
          }
        }
      ]
    },
    {
      "metadata": {
        "id": "zMMpPRpk6g7y",
        "colab_type": "text"
      },
      "cell_type": "markdown",
      "source": [
        "### Training the best model"
      ]
    },
    {
      "metadata": {
        "id": "a5vZsqhI6g7z",
        "colab_type": "text"
      },
      "cell_type": "markdown",
      "source": [
        "Finally, we have to train the resulting combination. In this step, we only train the best model with all the images of the datset. In this case we do not split the dataset in test and train data, we need all the images to train and improve the results of the model. \n",
        "\n",
        "In this function FrImCla asks the user if he/she wants a web application or not (Y if the user wants the webapp). This web application uses the best model selected by FrImCla for this problem. The application generated is very simple and only contains a text box and a button to predict the class of new images. FrImCla generates a zip file that must be decompressed to be used. Inside the folder the user has to open a new terminal in this path and run the following command:\n",
        "\n",
        "`python3 FlaskApp/app.py`\n",
        "\n",
        "The comand executes the web application in http://localhost:5000/ To use the application the user has to write open the link in his/her browser.\n",
        "\n"
      ]
    },
    {
      "metadata": {
        "id": "0feQXP5Z6g71",
        "colab_type": "code",
        "colab": {},
        "outputId": "9a283219-862e-405a-cf49-773c51e9cb51"
      },
      "cell_type": "code",
      "source": [
        "train(\"./\", datasetPath, 1)"
      ],
      "execution_count": 0,
      "outputs": [
        {
          "output_type": "stream",
          "text": [
            "y\n"
          ],
          "name": "stdout"
        }
      ]
    },
    {
      "metadata": {
        "id": "5Ot6HuGm6g77",
        "colab_type": "text"
      },
      "cell_type": "markdown",
      "source": [
        "Once we have the model trained, we can predict the class of the new images.\n",
        "\n",
        "\n",
        "If you want to download the web application you have to execute the following code."
      ]
    },
    {
      "metadata": {
        "id": "KTL4bGNXM6dX",
        "colab_type": "code",
        "colab": {}
      },
      "cell_type": "code",
      "source": [
        "from google.colab import files\n",
        "files.download('./output/Mias/web.zip') "
      ],
      "execution_count": 0,
      "outputs": []
    },
    {
      "metadata": {
        "id": "JpjNwRwU6g78",
        "colab_type": "text"
      },
      "cell_type": "markdown",
      "source": [
        "### Prediction"
      ]
    },
    {
      "metadata": {
        "id": "7BagQBC66g7-",
        "colab_type": "text"
      },
      "cell_type": "markdown",
      "source": [
        "Now, with the best model trained we can predict the classes of our images. For this task, we have developed another algorithm to use the model. This execution will give us the predicted class of the image that we choose. \n",
        "\n",
        "If the combination of feature extractor and machine learning algorithm is not the best, FrImCla ask the user in the command window if he wants to continue with this combination. To continue with the prediction he has to tell Y (yes)."
      ]
    },
    {
      "metadata": {
        "id": "WgmCxAZb6g7_",
        "colab_type": "code",
        "colab": {}
      },
      "cell_type": "code",
      "source": [
        "image = \"/home/magarcd/Escritorio/dataset/PetImagesTest/1.jpg\"\n",
        "featureExtractor = [\"vgg19\", \"False\"]\n",
        "classifier = \"MLP\"\n",
        "\n",
        "# prediction(image, \"./\", datasetPath, featureExtractor, classifier)\n",
        "prediction(featureExtractor, classifier, image, \".\", datasetPath)"
      ],
      "execution_count": 0,
      "outputs": []
    }
  ]
}