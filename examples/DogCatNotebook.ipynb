{
  "nbformat": 4,
  "nbformat_minor": 0,
  "metadata": {
    "colab": {
      "name": "MalariaNotebook.ipynb",
      "version": "0.3.2",
      "provenance": []
    },
    "kernelspec": {
      "display_name": "Python 3",
      "language": "python",
      "name": "python3"
    }
  },
  "cells": [
    {
      "cell_type": "markdown",
      "metadata": {
        "id": "tzwH_22si6jD",
        "colab_type": "text"
      },
      "source": [
        "To speed the execution procces, Colaboraty has an option to use GPU. This option is selected by default."
      ]
    },
    {
      "cell_type": "markdown",
      "metadata": {
        "colab_type": "text",
        "id": "3lhwD1csO22V"
      },
      "source": [
        "# How to study the dogs and cats dataset"
      ]
    },
    {
      "cell_type": "markdown",
      "metadata": {
        "colab_type": "text",
        "id": "3P5TMWjXO22Z"
      },
      "source": [
        "In this notebook, we illustrate how FrImCla can be employed to classify images. We have to train the framework to make these classifications. This is a simple example to show how to use FrImCla. We train the models with a dogs and cats dataset of only 600 images (300 images per class).\n",
        "\n",
        "With this notebook we want to show and explain non-expert users the methods they have to use to run FrImCla. "
      ]
    },
    {
      "cell_type": "code",
      "metadata": {
        "colab_type": "code",
        "id": "OT5lZnMsO22a",
        "outputId": "5f20b70e-469e-4304-b535-1501363119f1",
        "colab": {
          "base_uri": "https://localhost:8080/",
          "height": 10662
        }
      },
      "source": [
        "!wget \"https://drive.google.com/uc?id=1nMhMINs75FEIW2bAgmSbW1OqUV1Cqs3b&export=download&authuser=0\" -O DogCat.zip\n",
        "!unzip DogCat.zip"
      ],
      "execution_count": 0,
      "outputs": [
        {
          "output_type": "stream",
          "text": [
            "--2019-04-09 08:54:22--  https://drive.google.com/uc?id=1nMhMINs75FEIW2bAgmSbW1OqUV1Cqs3b&export=download&authuser=0\n",
            "Resolving drive.google.com (drive.google.com)... 74.125.195.101, 74.125.195.102, 74.125.195.100, ...\n",
            "Connecting to drive.google.com (drive.google.com)|74.125.195.101|:443... connected.\n",
            "HTTP request sent, awaiting response... 302 Moved Temporarily\n",
            "Location: https://drive.google.com/uc?id=1nMhMINs75FEIW2bAgmSbW1OqUV1Cqs3b&export=download [following]\n",
            "--2019-04-09 08:54:22--  https://drive.google.com/uc?id=1nMhMINs75FEIW2bAgmSbW1OqUV1Cqs3b&export=download\n",
            "Reusing existing connection to drive.google.com:443.\n",
            "HTTP request sent, awaiting response... 302 Moved Temporarily\n",
            "Location: https://doc-04-3s-docs.googleusercontent.com/docs/securesc/ha0ro937gcuc7l7deffksulhg5h7mbp1/ftbpt1j0a2kgt56incqn7jlrgvf0brtu/1554796800000/05147614325801676241/*/1nMhMINs75FEIW2bAgmSbW1OqUV1Cqs3b?e=download [following]\n",
            "Warning: wildcards not supported in HTTP.\n",
            "--2019-04-09 08:54:24--  https://doc-04-3s-docs.googleusercontent.com/docs/securesc/ha0ro937gcuc7l7deffksulhg5h7mbp1/ftbpt1j0a2kgt56incqn7jlrgvf0brtu/1554796800000/05147614325801676241/*/1nMhMINs75FEIW2bAgmSbW1OqUV1Cqs3b?e=download\n",
            "Resolving doc-04-3s-docs.googleusercontent.com (doc-04-3s-docs.googleusercontent.com)... 74.125.197.132, 2607:f8b0:400e:c03::84\n",
            "Connecting to doc-04-3s-docs.googleusercontent.com (doc-04-3s-docs.googleusercontent.com)|74.125.197.132|:443... connected.\n",
            "HTTP request sent, awaiting response... 200 OK\n",
            "Length: unspecified [application/zip]\n",
            "Saving to: ‘DogCat.zip’\n",
            "\n",
            "DogCat.zip              [    <=>             ]  19.08M  18.4MB/s    in 1.0s    \n",
            "\n",
            "2019-04-09 08:54:26 (18.4 MB/s) - ‘DogCat.zip’ saved [20004566]\n",
            "\n",
            "Archive:  DogCat.zip\n",
            "   creating: DogCat/\n",
            "   creating: DogCat/dog/\n",
            "  inflating: DogCat/dog/397.jpg      \n",
            "  inflating: DogCat/dog/398.jpg      \n",
            "  inflating: DogCat/dog/399.jpg      \n",
            "  inflating: DogCat/dog/400.jpg      \n",
            "  inflating: DogCat/dog/401.jpg      \n",
            "  inflating: DogCat/dog/402.jpg      \n",
            "  inflating: DogCat/dog/403.jpg      \n",
            "  inflating: DogCat/dog/404.jpg      \n",
            "  inflating: DogCat/dog/405.jpg      \n",
            "  inflating: DogCat/dog/406.jpg      \n",
            "  inflating: DogCat/dog/407.jpg      \n",
            "  inflating: DogCat/dog/408.jpg      \n",
            "  inflating: DogCat/dog/409.jpg      \n",
            "  inflating: DogCat/dog/410.jpg      \n",
            "  inflating: DogCat/dog/411.jpg      \n",
            "  inflating: DogCat/dog/415.jpg      \n",
            "  inflating: DogCat/dog/416.jpg      \n",
            "  inflating: DogCat/dog/417.jpg      \n",
            "  inflating: DogCat/dog/418.jpg      \n",
            "  inflating: DogCat/dog/419.jpg      \n",
            "  inflating: DogCat/dog/420.jpg      \n",
            "  inflating: DogCat/dog/421.jpg      \n",
            "  inflating: DogCat/dog/422.jpg      \n",
            "  inflating: DogCat/dog/423.jpg      \n",
            "  inflating: DogCat/dog/424.jpg      \n",
            "  inflating: DogCat/dog/425.jpg      \n",
            "  inflating: DogCat/dog/426.jpg      \n",
            "  inflating: DogCat/dog/427.jpg      \n",
            "  inflating: DogCat/dog/428.jpg      \n",
            "  inflating: DogCat/dog/429.jpg      \n",
            "  inflating: DogCat/dog/433.jpg      \n",
            "  inflating: DogCat/dog/434.jpg      \n",
            "  inflating: DogCat/dog/435.jpg      \n",
            "  inflating: DogCat/dog/436.jpg      \n",
            "  inflating: DogCat/dog/437.jpg      \n",
            "  inflating: DogCat/dog/438.jpg      \n",
            "  inflating: DogCat/dog/439.jpg      \n",
            "  inflating: DogCat/dog/440.jpg      \n",
            "  inflating: DogCat/dog/441.jpg      \n",
            "  inflating: DogCat/dog/442.jpg      \n",
            "  inflating: DogCat/dog/443.jpg      \n",
            "  inflating: DogCat/dog/444.jpg      \n",
            "  inflating: DogCat/dog/445.jpg      \n",
            "  inflating: DogCat/dog/446.jpg      \n",
            "  inflating: DogCat/dog/447.jpg      \n",
            "  inflating: DogCat/dog/451.jpg      \n",
            "  inflating: DogCat/dog/452.jpg      \n",
            "  inflating: DogCat/dog/453.jpg      \n",
            "  inflating: DogCat/dog/454.jpg      \n",
            "  inflating: DogCat/dog/455.jpg      \n",
            "  inflating: DogCat/dog/456.jpg      \n",
            "  inflating: DogCat/dog/457.jpg      \n",
            "  inflating: DogCat/dog/458.jpg      \n",
            "  inflating: DogCat/dog/459.jpg      \n",
            "  inflating: DogCat/dog/460.jpg      \n",
            "  inflating: DogCat/dog/461.jpg      \n",
            "  inflating: DogCat/dog/462.jpg      \n",
            "  inflating: DogCat/dog/463.jpg      \n",
            "  inflating: DogCat/dog/464.jpg      \n",
            "  inflating: DogCat/dog/465.jpg      \n",
            "  inflating: DogCat/dog/469.jpg      \n",
            "  inflating: DogCat/dog/470.jpg      \n",
            "  inflating: DogCat/dog/471.jpg      \n",
            "  inflating: DogCat/dog/472.jpg      \n",
            "  inflating: DogCat/dog/473.jpg      \n",
            "  inflating: DogCat/dog/474.jpg      \n",
            "  inflating: DogCat/dog/475.jpg      \n",
            "  inflating: DogCat/dog/476.jpg      \n",
            "  inflating: DogCat/dog/477.jpg      \n",
            "  inflating: DogCat/dog/478.jpg      \n",
            "  inflating: DogCat/dog/479.jpg      \n",
            "  inflating: DogCat/dog/480.jpg      \n",
            "  inflating: DogCat/dog/481.jpg      \n",
            "  inflating: DogCat/dog/482.jpg      \n",
            "  inflating: DogCat/dog/483.jpg      \n",
            "  inflating: DogCat/dog/487.jpg      \n",
            "  inflating: DogCat/dog/488.jpg      \n",
            "  inflating: DogCat/dog/489.jpg      \n",
            "  inflating: DogCat/dog/490.jpg      \n",
            "  inflating: DogCat/dog/491.jpg      \n",
            "  inflating: DogCat/dog/492.jpg      \n",
            "  inflating: DogCat/dog/493.jpg      \n",
            "  inflating: DogCat/dog/494.jpg      \n",
            "  inflating: DogCat/dog/495.jpg      \n",
            "  inflating: DogCat/dog/496.jpg      \n",
            "  inflating: DogCat/dog/497.jpg      \n",
            "  inflating: DogCat/dog/498.jpg      \n",
            "  inflating: DogCat/dog/499.jpg      \n",
            "  inflating: DogCat/dog/500.jpg      \n",
            "  inflating: DogCat/dog/501.jpg      \n",
            "  inflating: DogCat/dog/505.jpg      \n",
            "  inflating: DogCat/dog/506.jpg      \n",
            "  inflating: DogCat/dog/507.jpg      \n",
            "  inflating: DogCat/dog/508.jpg      \n",
            "  inflating: DogCat/dog/509.jpg      \n",
            "  inflating: DogCat/dog/510.jpg      \n",
            "  inflating: DogCat/dog/511.jpg      \n",
            "  inflating: DogCat/dog/512.jpg      \n",
            "  inflating: DogCat/dog/513.jpg      \n",
            "  inflating: DogCat/dog/514.jpg      \n",
            "  inflating: DogCat/dog/515.jpg      \n",
            "  inflating: DogCat/dog/516.jpg      \n",
            "  inflating: DogCat/dog/517.jpg      \n",
            "  inflating: DogCat/dog/518.jpg      \n",
            "  inflating: DogCat/dog/519.jpg      \n",
            "  inflating: DogCat/dog/523.jpg      \n",
            "  inflating: DogCat/dog/524.jpg      \n",
            "  inflating: DogCat/dog/525.jpg      \n",
            "  inflating: DogCat/dog/526.jpg      \n",
            "  inflating: DogCat/dog/527.jpg      \n",
            "  inflating: DogCat/dog/528.jpg      \n",
            "  inflating: DogCat/dog/529.jpg      \n",
            "  inflating: DogCat/dog/530.jpg      \n",
            "  inflating: DogCat/dog/531.jpg      \n",
            "  inflating: DogCat/dog/532.jpg      \n",
            "  inflating: DogCat/dog/533.jpg      \n",
            "  inflating: DogCat/dog/534.jpg      \n",
            "  inflating: DogCat/dog/535.jpg      \n",
            "  inflating: DogCat/dog/536.jpg      \n",
            "  inflating: DogCat/dog/537.jpg      \n",
            "  inflating: DogCat/dog/541.jpg      \n",
            "  inflating: DogCat/dog/542.jpg      \n",
            "  inflating: DogCat/dog/543.jpg      \n",
            "  inflating: DogCat/dog/544.jpg      \n",
            "  inflating: DogCat/dog/545.jpg      \n",
            "  inflating: DogCat/dog/546.jpg      \n",
            "  inflating: DogCat/dog/547.jpg      \n",
            "  inflating: DogCat/dog/548.jpg      \n",
            "  inflating: DogCat/dog/549.jpg      \n",
            "  inflating: DogCat/dog/550.jpg      \n",
            "  inflating: DogCat/dog/551.jpg      \n",
            "  inflating: DogCat/dog/552.jpg      \n",
            "  inflating: DogCat/dog/553.jpg      \n",
            "  inflating: DogCat/dog/554.jpg      \n",
            "  inflating: DogCat/dog/555.jpg      \n",
            "  inflating: DogCat/dog/559.jpg      \n",
            "  inflating: DogCat/dog/560.jpg      \n",
            "  inflating: DogCat/dog/561.jpg      \n",
            "  inflating: DogCat/dog/562.jpg      \n",
            "  inflating: DogCat/dog/563.jpg      \n",
            "  inflating: DogCat/dog/564.jpg      \n",
            "  inflating: DogCat/dog/565.jpg      \n",
            "  inflating: DogCat/dog/566.jpg      \n",
            "  inflating: DogCat/dog/567.jpg      \n",
            "  inflating: DogCat/dog/568.jpg      \n",
            "  inflating: DogCat/dog/569.jpg      \n",
            "  inflating: DogCat/dog/570.jpg      \n",
            "  inflating: DogCat/dog/571.jpg      \n",
            "  inflating: DogCat/dog/572.jpg      \n",
            "  inflating: DogCat/dog/573.jpg      \n",
            "  inflating: DogCat/dog/577.jpg      \n",
            "  inflating: DogCat/dog/578.jpg      \n",
            "  inflating: DogCat/dog/579.jpg      \n",
            "  inflating: DogCat/dog/580.jpg      \n",
            "  inflating: DogCat/dog/581.jpg      \n",
            "  inflating: DogCat/dog/582.jpg      \n",
            "  inflating: DogCat/dog/583.jpg      \n",
            "  inflating: DogCat/dog/584.jpg      \n",
            "  inflating: DogCat/dog/585.jpg      \n",
            "  inflating: DogCat/dog/586.jpg      \n",
            "  inflating: DogCat/dog/587.jpg      \n",
            "  inflating: DogCat/dog/588.jpg      \n",
            "  inflating: DogCat/dog/589.jpg      \n",
            "  inflating: DogCat/dog/590.jpg      \n",
            "  inflating: DogCat/dog/591.jpg      \n",
            "  inflating: DogCat/dog/595.jpg      \n",
            "  inflating: DogCat/dog/596.jpg      \n",
            "  inflating: DogCat/dog/597.jpg      \n",
            "  inflating: DogCat/dog/598.jpg      \n",
            "  inflating: DogCat/dog/599.jpg      \n",
            "  inflating: DogCat/dog/600.jpg      \n",
            "  inflating: DogCat/dog/601.jpg      \n",
            "  inflating: DogCat/dog/602.jpg      \n",
            "  inflating: DogCat/dog/603.jpg      \n",
            "  inflating: DogCat/dog/604.jpg      \n",
            "  inflating: DogCat/dog/605.jpg      \n",
            "  inflating: DogCat/dog/606.jpg      \n",
            "  inflating: DogCat/dog/607.jpg      \n",
            "  inflating: DogCat/dog/608.jpg      \n",
            "  inflating: DogCat/dog/609.jpg      \n",
            "  inflating: DogCat/dog/613.jpg      \n",
            "  inflating: DogCat/dog/614.jpg      \n",
            "  inflating: DogCat/dog/615.jpg      \n",
            "  inflating: DogCat/dog/616.jpg      \n",
            "  inflating: DogCat/dog/617.jpg      \n",
            "  inflating: DogCat/dog/618.jpg      \n",
            "  inflating: DogCat/dog/619.jpg      \n",
            "  inflating: DogCat/dog/620.jpg      \n",
            "  inflating: DogCat/dog/621.jpg      \n",
            "  inflating: DogCat/dog/622.jpg      \n",
            "  inflating: DogCat/dog/623.jpg      \n",
            "  inflating: DogCat/dog/624.jpg      \n",
            "  inflating: DogCat/dog/625.jpg      \n",
            "  inflating: DogCat/dog/626.jpg      \n",
            "  inflating: DogCat/dog/627.jpg      \n",
            "  inflating: DogCat/dog/631.jpg      \n",
            "  inflating: DogCat/dog/632.jpg      \n",
            "  inflating: DogCat/dog/633.jpg      \n",
            "  inflating: DogCat/dog/634.jpg      \n",
            "  inflating: DogCat/dog/635.jpg      \n",
            "  inflating: DogCat/dog/636.jpg      \n",
            "  inflating: DogCat/dog/637.jpg      \n",
            "  inflating: DogCat/dog/638.jpg      \n",
            "  inflating: DogCat/dog/639.jpg      \n",
            "  inflating: DogCat/dog/640.jpg      \n",
            "  inflating: DogCat/dog/641.jpg      \n",
            "  inflating: DogCat/dog/642.jpg      \n",
            "  inflating: DogCat/dog/643.jpg      \n",
            "  inflating: DogCat/dog/644.jpg      \n",
            "  inflating: DogCat/dog/645.jpg      \n",
            "  inflating: DogCat/dog/649.jpg      \n",
            "  inflating: DogCat/dog/650.jpg      \n",
            "  inflating: DogCat/dog/651.jpg      \n",
            "  inflating: DogCat/dog/652.jpg      \n",
            "  inflating: DogCat/dog/653.jpg      \n",
            "  inflating: DogCat/dog/654.jpg      \n",
            "  inflating: DogCat/dog/655.jpg      \n",
            "  inflating: DogCat/dog/656.jpg      \n",
            "  inflating: DogCat/dog/657.jpg      \n",
            "  inflating: DogCat/dog/658.jpg      \n",
            "  inflating: DogCat/dog/659.jpg      \n",
            "  inflating: DogCat/dog/660.jpg      \n",
            "  inflating: DogCat/dog/661.jpg      \n",
            "  inflating: DogCat/dog/662.jpg      \n",
            "  inflating: DogCat/dog/663.jpg      \n",
            "  inflating: DogCat/dog/667.jpg      \n",
            "  inflating: DogCat/dog/668.jpg      \n",
            "  inflating: DogCat/dog/669.jpg      \n",
            "  inflating: DogCat/dog/670.jpg      \n",
            "  inflating: DogCat/dog/671.jpg      \n",
            "  inflating: DogCat/dog/672.jpg      \n",
            "  inflating: DogCat/dog/673.jpg      \n",
            "  inflating: DogCat/dog/674.jpg      \n",
            "  inflating: DogCat/dog/675.jpg      \n",
            "  inflating: DogCat/dog/676.jpg      \n",
            "  inflating: DogCat/dog/677.jpg      \n",
            "  inflating: DogCat/dog/678.jpg      \n",
            "  inflating: DogCat/dog/679.jpg      \n",
            "  inflating: DogCat/dog/680.jpg      \n",
            "  inflating: DogCat/dog/681.jpg      \n",
            "  inflating: DogCat/dog/685.jpg      \n",
            "  inflating: DogCat/dog/686.jpg      \n",
            "  inflating: DogCat/dog/687.jpg      \n",
            "  inflating: DogCat/dog/688.jpg      \n",
            "  inflating: DogCat/dog/689.jpg      \n",
            "  inflating: DogCat/dog/690.jpg      \n",
            "  inflating: DogCat/dog/691.jpg      \n",
            "  inflating: DogCat/dog/692.jpg      \n",
            "  inflating: DogCat/dog/693.jpg      \n",
            "  inflating: DogCat/dog/694.jpg      \n",
            "  inflating: DogCat/dog/695.jpg      \n",
            "  inflating: DogCat/dog/696.jpg      \n",
            "  inflating: DogCat/dog/697.jpg      \n",
            "  inflating: DogCat/dog/698.jpg      \n",
            "  inflating: DogCat/dog/699.jpg      \n",
            "  inflating: DogCat/dog/5046.jpg     \n",
            "  inflating: DogCat/dog/5047.jpg     \n",
            "  inflating: DogCat/dog/5048.jpg     \n",
            "  inflating: DogCat/dog/5049.jpg     \n",
            "  inflating: DogCat/dog/5050.jpg     \n",
            "  inflating: DogCat/dog/5051.jpg     \n",
            "  inflating: DogCat/dog/5064.jpg     \n",
            "  inflating: DogCat/dog/5065.jpg     \n",
            "  inflating: DogCat/dog/5066.jpg     \n",
            "  inflating: DogCat/dog/5067.jpg     \n",
            "  inflating: DogCat/dog/5068.jpg     \n",
            "  inflating: DogCat/dog/5069.jpg     \n",
            "  inflating: DogCat/dog/5082.jpg     \n",
            "  inflating: DogCat/dog/5083.jpg     \n",
            "  inflating: DogCat/dog/5084.jpg     \n",
            "  inflating: DogCat/dog/5085.jpg     \n",
            "  inflating: DogCat/dog/5086.jpg     \n",
            "  inflating: DogCat/dog/5087.jpg     \n",
            "  inflating: DogCat/dog/dog.0.jpg    \n",
            "  inflating: DogCat/dog/dog.1.jpg    \n",
            "  inflating: DogCat/dog/dog.2.jpg    \n",
            "  inflating: DogCat/dog/dog.3.jpg    \n",
            "  inflating: DogCat/dog/dog.4.jpg    \n",
            "  inflating: DogCat/dog/dog.5.jpg    \n",
            "  inflating: DogCat/dog/dog.6.jpg    \n",
            "  inflating: DogCat/dog/dog.7.jpg    \n",
            "  inflating: DogCat/dog/dog.8.jpg    \n",
            "  inflating: DogCat/dog/dog.9.jpg    \n",
            "  inflating: DogCat/dog/dog.10.jpg   \n",
            "  inflating: DogCat/dog/dog.11.jpg   \n",
            "  inflating: DogCat/dog/dog.12.jpg   \n",
            "  inflating: DogCat/dog/dog.13.jpg   \n",
            "  inflating: DogCat/dog/dog.14.jpg   \n",
            "  inflating: DogCat/dog/dog.15.jpg   \n",
            "  inflating: DogCat/dog/dog.16.jpg   \n",
            "  inflating: DogCat/dog/dog.17.jpg   \n",
            "  inflating: DogCat/dog/dog.18.jpg   \n",
            "  inflating: DogCat/dog/dog.19.jpg   \n",
            "  inflating: DogCat/dog/dog.20.jpg   \n",
            "  inflating: DogCat/dog/dog.21.jpg   \n",
            "  inflating: DogCat/dog/dog.22.jpg   \n",
            "  inflating: DogCat/dog/dog.23.jpg   \n",
            "  inflating: DogCat/dog/dog.24.jpg   \n",
            "  inflating: DogCat/dog/dog.25.jpg   \n",
            "  inflating: DogCat/dog/dog.26.jpg   \n",
            "   creating: DogCat/cat/\n",
            "  inflating: DogCat/cat/219.jpg      \n",
            "  inflating: DogCat/cat/220.jpg      \n",
            "  inflating: DogCat/cat/221.jpg      \n",
            "  inflating: DogCat/cat/222.jpg      \n",
            "  inflating: DogCat/cat/223.jpg      \n",
            "  inflating: DogCat/cat/224.jpg      \n",
            "  inflating: DogCat/cat/225.jpg      \n",
            "  inflating: DogCat/cat/226.jpg      \n",
            "  inflating: DogCat/cat/227.jpg      \n",
            "  inflating: DogCat/cat/228.jpg      \n",
            "  inflating: DogCat/cat/230.jpg      \n",
            "  inflating: DogCat/cat/231.jpg      \n",
            "  inflating: DogCat/cat/232.jpg      \n",
            "  inflating: DogCat/cat/237.jpg      \n",
            "  inflating: DogCat/cat/238.jpg      \n",
            "  inflating: DogCat/cat/239.jpg      \n",
            "  inflating: DogCat/cat/240.jpg      \n",
            "  inflating: DogCat/cat/241.jpg      \n",
            "  inflating: DogCat/cat/242.jpg      \n",
            "  inflating: DogCat/cat/243.jpg      \n",
            "  inflating: DogCat/cat/244.jpg      \n",
            "  inflating: DogCat/cat/245.jpg      \n",
            "  inflating: DogCat/cat/246.jpg      \n",
            "  inflating: DogCat/cat/247.jpg      \n",
            "  inflating: DogCat/cat/248.jpg      \n",
            "  inflating: DogCat/cat/249.jpg      \n",
            "  inflating: DogCat/cat/250.jpg      \n",
            "  inflating: DogCat/cat/255.jpg      \n",
            "  inflating: DogCat/cat/256.jpg      \n",
            "  inflating: DogCat/cat/257.jpg      \n",
            "  inflating: DogCat/cat/258.jpg      \n",
            "  inflating: DogCat/cat/259.jpg      \n",
            "  inflating: DogCat/cat/260.jpg      \n",
            "  inflating: DogCat/cat/261.jpg      \n",
            "  inflating: DogCat/cat/262.jpg      \n",
            "  inflating: DogCat/cat/263.jpg      \n",
            "  inflating: DogCat/cat/264.jpg      \n",
            "  inflating: DogCat/cat/265.jpg      \n",
            "  inflating: DogCat/cat/266.jpg      \n",
            "  inflating: DogCat/cat/267.jpg      \n",
            "  inflating: DogCat/cat/268.jpg      \n",
            "  inflating: DogCat/cat/273.jpg      \n",
            "  inflating: DogCat/cat/274.jpg      \n",
            "  inflating: DogCat/cat/275.jpg      \n",
            "  inflating: DogCat/cat/276.jpg      \n",
            "  inflating: DogCat/cat/277.jpg      \n",
            "  inflating: DogCat/cat/278.jpg      \n",
            "  inflating: DogCat/cat/280.jpg      \n",
            "  inflating: DogCat/cat/281.jpg      \n",
            "  inflating: DogCat/cat/282.jpg      \n",
            "  inflating: DogCat/cat/283.jpg      \n",
            "  inflating: DogCat/cat/284.jpg      \n",
            "  inflating: DogCat/cat/285.jpg      \n",
            "  inflating: DogCat/cat/286.jpg      \n",
            "  inflating: DogCat/cat/291.jpg      \n",
            "  inflating: DogCat/cat/292.jpg      \n",
            "  inflating: DogCat/cat/293.jpg      \n",
            "  inflating: DogCat/cat/294.jpg      \n",
            "  inflating: DogCat/cat/295.jpg      \n",
            "  inflating: DogCat/cat/296.jpg      \n",
            "  inflating: DogCat/cat/297.jpg      \n",
            "  inflating: DogCat/cat/298.jpg      \n",
            "  inflating: DogCat/cat/299.jpg      \n",
            "  inflating: DogCat/cat/300.jpg      \n",
            "  inflating: DogCat/cat/301.jpg      \n",
            "  inflating: DogCat/cat/302.jpg      \n",
            "  inflating: DogCat/cat/303.jpg      \n",
            "  inflating: DogCat/cat/304.jpg      \n",
            "  inflating: DogCat/cat/309.jpg      \n",
            "  inflating: DogCat/cat/310.jpg      \n",
            "  inflating: DogCat/cat/311.jpg      \n",
            "  inflating: DogCat/cat/312.jpg      \n",
            "  inflating: DogCat/cat/313.jpg      \n",
            "  inflating: DogCat/cat/314.jpg      \n",
            "  inflating: DogCat/cat/315.jpg      \n",
            "  inflating: DogCat/cat/316.jpg      \n",
            "  inflating: DogCat/cat/317.jpg      \n",
            "  inflating: DogCat/cat/318.jpg      \n",
            "  inflating: DogCat/cat/319.jpg      \n",
            "  inflating: DogCat/cat/320.jpg      \n",
            "  inflating: DogCat/cat/321.jpg      \n",
            "  inflating: DogCat/cat/322.jpg      \n",
            "  inflating: DogCat/cat/327.jpg      \n",
            "  inflating: DogCat/cat/328.jpg      \n",
            "  inflating: DogCat/cat/329.jpg      \n",
            "  inflating: DogCat/cat/330.jpg      \n",
            "  inflating: DogCat/cat/331.jpg      \n",
            "  inflating: DogCat/cat/332.jpg      \n",
            "  inflating: DogCat/cat/333.jpg      \n",
            "  inflating: DogCat/cat/334.jpg      \n",
            "  inflating: DogCat/cat/335.jpg      \n",
            "  inflating: DogCat/cat/336.jpg      \n",
            "  inflating: DogCat/cat/337.jpg      \n",
            "  inflating: DogCat/cat/338.jpg      \n",
            "  inflating: DogCat/cat/339.jpg      \n",
            "  inflating: DogCat/cat/340.jpg      \n",
            "  inflating: DogCat/cat/345.jpg      \n",
            "  inflating: DogCat/cat/346.jpg      \n",
            "  inflating: DogCat/cat/347.jpg      \n",
            "  inflating: DogCat/cat/348.jpg      \n",
            "  inflating: DogCat/cat/349.jpg      \n",
            "  inflating: DogCat/cat/350.jpg      \n",
            "  inflating: DogCat/cat/351.jpg      \n",
            "  inflating: DogCat/cat/352.jpg      \n",
            "  inflating: DogCat/cat/353.jpg      \n",
            "  inflating: DogCat/cat/354.jpg      \n",
            "  inflating: DogCat/cat/355.jpg      \n",
            "  inflating: DogCat/cat/356.jpg      \n",
            "  inflating: DogCat/cat/357.jpg      \n",
            "  inflating: DogCat/cat/363.jpg      \n",
            "  inflating: DogCat/cat/364.jpg      \n",
            "  inflating: DogCat/cat/365.jpg      \n",
            "  inflating: DogCat/cat/366.jpg      \n",
            "  inflating: DogCat/cat/367.jpg      \n",
            "  inflating: DogCat/cat/368.jpg      \n",
            "  inflating: DogCat/cat/369.jpg      \n",
            "  inflating: DogCat/cat/370.jpg      \n",
            "  inflating: DogCat/cat/371.jpg      \n",
            "  inflating: DogCat/cat/372.jpg      \n",
            "  inflating: DogCat/cat/373.jpg      \n",
            "  inflating: DogCat/cat/374.jpg      \n",
            "  inflating: DogCat/cat/375.jpg      \n",
            "  inflating: DogCat/cat/376.jpg      \n",
            "  inflating: DogCat/cat/381.jpg      \n",
            "  inflating: DogCat/cat/382.jpg      \n",
            "  inflating: DogCat/cat/383.jpg      \n",
            "  inflating: DogCat/cat/384.jpg      \n",
            "  inflating: DogCat/cat/385.jpg      \n",
            "  inflating: DogCat/cat/386.jpg      \n",
            "  inflating: DogCat/cat/387.jpg      \n",
            "  inflating: DogCat/cat/388.jpg      \n",
            "  inflating: DogCat/cat/389.jpg      \n",
            "  inflating: DogCat/cat/390.jpg      \n",
            "  inflating: DogCat/cat/391.jpg      \n",
            "  inflating: DogCat/cat/392.jpg      \n",
            "  inflating: DogCat/cat/393.jpg      \n",
            "  inflating: DogCat/cat/394.jpg      \n",
            "  inflating: DogCat/cat/399.jpg      \n",
            "  inflating: DogCat/cat/400.jpg      \n",
            "  inflating: DogCat/cat/401.jpg      \n",
            "  inflating: DogCat/cat/402.jpg      \n",
            "  inflating: DogCat/cat/403.jpg      \n",
            "  inflating: DogCat/cat/404.jpg      \n",
            "  inflating: DogCat/cat/405.jpg      \n",
            "  inflating: DogCat/cat/406.jpg      \n",
            "  inflating: DogCat/cat/407.jpg      \n",
            "  inflating: DogCat/cat/408.jpg      \n",
            "  inflating: DogCat/cat/409.jpg      \n",
            "  inflating: DogCat/cat/410.jpg      \n",
            "  inflating: DogCat/cat/411.jpg      \n",
            "  inflating: DogCat/cat/412.jpg      \n",
            "  inflating: DogCat/cat/417.jpg      \n",
            "  inflating: DogCat/cat/419.jpg      \n",
            "  inflating: DogCat/cat/420.jpg      \n",
            "  inflating: DogCat/cat/421.jpg      \n",
            "  inflating: DogCat/cat/422.jpg      \n",
            "  inflating: DogCat/cat/423.jpg      \n",
            "  inflating: DogCat/cat/424.jpg      \n",
            "  inflating: DogCat/cat/425.jpg      \n",
            "  inflating: DogCat/cat/426.jpg      \n",
            "  inflating: DogCat/cat/427.jpg      \n",
            "  inflating: DogCat/cat/428.jpg      \n",
            "  inflating: DogCat/cat/429.jpg      \n",
            "  inflating: DogCat/cat/430.jpg      \n",
            "  inflating: DogCat/cat/435.jpg      \n",
            "  inflating: DogCat/cat/436.jpg      \n",
            "  inflating: DogCat/cat/437.jpg      \n",
            "  inflating: DogCat/cat/438.jpg      \n",
            "  inflating: DogCat/cat/439.jpg      \n",
            "  inflating: DogCat/cat/440.jpg      \n",
            "  inflating: DogCat/cat/441.jpg      \n",
            "  inflating: DogCat/cat/442.jpg      \n",
            "  inflating: DogCat/cat/443.jpg      \n",
            "  inflating: DogCat/cat/444.jpg      \n",
            "  inflating: DogCat/cat/445.jpg      \n",
            "  inflating: DogCat/cat/446.jpg      \n",
            "  inflating: DogCat/cat/447.jpg      \n",
            "  inflating: DogCat/cat/448.jpg      \n",
            "  inflating: DogCat/cat/453.jpg      \n",
            "  inflating: DogCat/cat/454.jpg      \n",
            "  inflating: DogCat/cat/455.jpg      \n",
            "  inflating: DogCat/cat/456.jpg      \n",
            "  inflating: DogCat/cat/457.jpg      \n",
            "  inflating: DogCat/cat/458.jpg      \n",
            "  inflating: DogCat/cat/459.jpg      \n",
            "  inflating: DogCat/cat/460.jpg      \n",
            "  inflating: DogCat/cat/461.jpg      \n",
            "  inflating: DogCat/cat/462.jpg      \n",
            "  inflating: DogCat/cat/463.jpg      \n",
            "  inflating: DogCat/cat/464.jpg      \n",
            "  inflating: DogCat/cat/465.jpg      \n",
            "  inflating: DogCat/cat/466.jpg      \n",
            "  inflating: DogCat/cat/471.jpg      \n",
            "  inflating: DogCat/cat/472.jpg      \n",
            "  inflating: DogCat/cat/473.jpg      \n",
            "  inflating: DogCat/cat/474.jpg      \n",
            "  inflating: DogCat/cat/475.jpg      \n",
            "  inflating: DogCat/cat/476.jpg      \n",
            "  inflating: DogCat/cat/477.jpg      \n",
            "  inflating: DogCat/cat/478.jpg      \n",
            "  inflating: DogCat/cat/479.jpg      \n",
            "  inflating: DogCat/cat/481.jpg      \n",
            "  inflating: DogCat/cat/482.jpg      \n",
            "  inflating: DogCat/cat/483.jpg      \n",
            "  inflating: DogCat/cat/484.jpg      \n",
            "  inflating: DogCat/cat/489.jpg      \n",
            "  inflating: DogCat/cat/490.jpg      \n",
            "  inflating: DogCat/cat/491.jpg      \n",
            "  inflating: DogCat/cat/492.jpg      \n",
            "  inflating: DogCat/cat/493.jpg      \n",
            "  inflating: DogCat/cat/494.jpg      \n",
            "  inflating: DogCat/cat/495.jpg      \n",
            "  inflating: DogCat/cat/496.jpg      \n",
            "  inflating: DogCat/cat/497.jpg      \n",
            "  inflating: DogCat/cat/498.jpg      \n",
            "  inflating: DogCat/cat/499.jpg      \n",
            "  inflating: DogCat/cat/500.jpg      \n",
            "  inflating: DogCat/cat/501.jpg      \n",
            "  inflating: DogCat/cat/502.jpg      \n",
            "  inflating: DogCat/cat/507.jpg      \n",
            "  inflating: DogCat/cat/508.jpg      \n",
            "  inflating: DogCat/cat/509.jpg      \n",
            "  inflating: DogCat/cat/510.jpg      \n",
            "  inflating: DogCat/cat/511.jpg      \n",
            "  inflating: DogCat/cat/512.jpg      \n",
            "  inflating: DogCat/cat/513.jpg      \n",
            "  inflating: DogCat/cat/514.jpg      \n",
            "  inflating: DogCat/cat/515.jpg      \n",
            "  inflating: DogCat/cat/516.jpg      \n",
            "  inflating: DogCat/cat/517.jpg      \n",
            "  inflating: DogCat/cat/518.jpg      \n",
            "  inflating: DogCat/cat/519.jpg      \n",
            "  inflating: DogCat/cat/520.jpg      \n",
            "  inflating: DogCat/cat/525.jpg      \n",
            "  inflating: DogCat/cat/526.jpg      \n",
            "  inflating: DogCat/cat/527.jpg      \n",
            "  inflating: DogCat/cat/528.jpg      \n",
            "  inflating: DogCat/cat/529.jpg      \n",
            "  inflating: DogCat/cat/530.jpg      \n",
            "  inflating: DogCat/cat/531.jpg      \n",
            "  inflating: DogCat/cat/532.jpg      \n",
            "  inflating: DogCat/cat/533.jpg      \n",
            "  inflating: DogCat/cat/534.jpg      \n",
            "  inflating: DogCat/cat/535.jpg      \n",
            "  inflating: DogCat/cat/536.jpg      \n",
            "  inflating: DogCat/cat/537.jpg      \n",
            "  inflating: DogCat/cat/538.jpg      \n",
            "  inflating: DogCat/cat/543.jpg      \n",
            "  inflating: DogCat/cat/544.jpg      \n",
            "  inflating: DogCat/cat/545.jpg      \n",
            "  inflating: DogCat/cat/547.jpg      \n",
            "  inflating: DogCat/cat/548.jpg      \n",
            "  inflating: DogCat/cat/549.jpg      \n",
            "  inflating: DogCat/cat/550.jpg      \n",
            "  inflating: DogCat/cat/551.jpg      \n",
            "  inflating: DogCat/cat/552.jpg      \n",
            "  inflating: DogCat/cat/553.jpg      \n",
            "  inflating: DogCat/cat/554.jpg      \n",
            "  inflating: DogCat/cat/555.jpg      \n",
            "  inflating: DogCat/cat/556.jpg      \n",
            "  inflating: DogCat/cat/561.jpg      \n",
            "  inflating: DogCat/cat/562.jpg      \n",
            "  inflating: DogCat/cat/563.jpg      \n",
            "  inflating: DogCat/cat/564.jpg      \n",
            "  inflating: DogCat/cat/565.jpg      \n",
            "  inflating: DogCat/cat/566.jpg      \n",
            "  inflating: DogCat/cat/567.jpg      \n",
            "  inflating: DogCat/cat/568.jpg      \n",
            "  inflating: DogCat/cat/569.jpg      \n",
            "  inflating: DogCat/cat/570.jpg      \n",
            "  inflating: DogCat/cat/571.jpg      \n",
            "  inflating: DogCat/cat/572.jpg      \n",
            "  inflating: DogCat/cat/573.jpg      \n",
            "  inflating: DogCat/cat/574.jpg      \n",
            "  inflating: DogCat/cat/cat.0.jpg    \n",
            "  inflating: DogCat/cat/cat.1.jpg    \n",
            "  inflating: DogCat/cat/cat.2.jpg    \n",
            "  inflating: DogCat/cat/cat.3.jpg    \n",
            "  inflating: DogCat/cat/cat.4.jpg    \n",
            "  inflating: DogCat/cat/cat.5.jpg    \n",
            "  inflating: DogCat/cat/cat.7.jpg    \n",
            "  inflating: DogCat/cat/cat.8.jpg    \n",
            "  inflating: DogCat/cat/cat.9.jpg    \n",
            "  inflating: DogCat/cat/cat.10.jpg   \n",
            "  inflating: DogCat/cat/cat.11.jpg   \n",
            "  inflating: DogCat/cat/cat.12.jpg   \n",
            "  inflating: DogCat/cat/cat.13.jpg   \n",
            "  inflating: DogCat/cat/cat.14.jpg   \n",
            "  inflating: DogCat/cat/cat.15.jpg   \n",
            "  inflating: DogCat/cat/cat.16.jpg   \n",
            "  inflating: DogCat/cat/cat.17.jpg   \n",
            "  inflating: DogCat/cat/cat.18.jpg   \n",
            "  inflating: DogCat/cat/cat.19.jpg   \n",
            "  inflating: DogCat/cat/cat.20.jpg   \n",
            "  inflating: DogCat/cat/cat.21.jpg   \n",
            "  inflating: DogCat/cat/cat.22.jpg   \n",
            "  inflating: DogCat/cat/cat.23.jpg   \n",
            "  inflating: DogCat/cat/cat.24.jpg   \n",
            "  inflating: DogCat/cat/cat.25.jpg   \n",
            "  inflating: DogCat/cat/cat.26.jpg   \n"
          ],
          "name": "stdout"
        }
      ]
    },
    {
      "cell_type": "markdown",
      "metadata": {
        "colab_type": "text",
        "id": "ashqFE3iO22e"
      },
      "source": [
        "In case that FrImCla is not installed in your system, the first task consist in installing using pip."
      ]
    },
    {
      "cell_type": "code",
      "metadata": {
        "colab_type": "code",
        "id": "T1syQvt_O22f",
        "outputId": "926d0ba9-0b38-4da0-c889-297f493ad1af",
        "colab": {
          "base_uri": "https://localhost:8080/",
          "height": 1173
        }
      },
      "source": [
        "!pip install frimcla"
      ],
      "execution_count": 0,
      "outputs": [
        {
          "output_type": "stream",
          "text": [
            "Collecting frimcla\n",
            "\u001b[?25l  Downloading https://files.pythonhosted.org/packages/5a/b6/066c32bdfbd4798e541ea968ddfd6684edb2e4a73ac825555a91a61c4742/frimcla-0.0.543.tar.gz (419kB)\n",
            "\u001b[K    100% |████████████████████████████████| 419kB 13.7MB/s \n",
            "\u001b[?25hRequirement already satisfied: opencv-python in /usr/local/lib/python3.6/dist-packages (from frimcla) (3.4.5.20)\n",
            "Collecting mahotas (from frimcla)\n",
            "\u001b[?25l  Downloading https://files.pythonhosted.org/packages/b2/f8/25a67f7433146e42272ca3dfb176ac4cd374f3f97e6a001baf9af0bfff1a/mahotas-1.4.5.tar.gz (1.5MB)\n",
            "\u001b[K    100% |████████████████████████████████| 1.5MB 19.1MB/s \n",
            "\u001b[?25hRequirement already satisfied: pandas in /usr/local/lib/python3.6/dist-packages (from frimcla) (0.22.0)\n",
            "Requirement already satisfied: imutils in /usr/local/lib/python3.6/dist-packages (from frimcla) (0.5.2)\n",
            "Requirement already satisfied: scikit-image in /usr/local/lib/python3.6/dist-packages (from frimcla) (0.13.1)\n",
            "Requirement already satisfied: tabulate in /usr/local/lib/python3.6/dist-packages (from frimcla) (0.8.3)\n",
            "Requirement already satisfied: tensorflow in /usr/local/lib/python3.6/dist-packages (from frimcla) (1.13.1)\n",
            "Requirement already satisfied: matplotlib in /usr/local/lib/python3.6/dist-packages (from frimcla) (3.0.3)\n",
            "Collecting Keras==2.1.6 (from frimcla)\n",
            "\u001b[?25l  Downloading https://files.pythonhosted.org/packages/54/e8/eaff7a09349ae9bd40d3ebaf028b49f5e2392c771f294910f75bb608b241/Keras-2.1.6-py2.py3-none-any.whl (339kB)\n",
            "\u001b[K    100% |████████████████████████████████| 348kB 25.7MB/s \n",
            "\u001b[?25hCollecting commentjson (from frimcla)\n",
            "  Downloading https://files.pythonhosted.org/packages/81/63/9fafac8fb75d153deec7dee7c255905fe5e44d73e6c6788dc848bb53cc97/commentjson-0.7.1.tar.gz\n",
            "Requirement already satisfied: theano in /usr/local/lib/python3.6/dist-packages (from frimcla) (1.0.4)\n",
            "Requirement already satisfied: h5py in /usr/local/lib/python3.6/dist-packages (from frimcla) (2.8.0)\n",
            "Collecting wget (from frimcla)\n",
            "  Downloading https://files.pythonhosted.org/packages/47/6a/62e288da7bcda82b935ff0c6cfe542970f04e29c756b0e147251b2fb251f/wget-3.2.zip\n",
            "Requirement already satisfied: numpy in /usr/local/lib/python3.6/dist-packages (from frimcla) (1.14.6)\n",
            "Requirement already satisfied: scikit-learn in /usr/local/lib/python3.6/dist-packages (from frimcla) (0.20.3)\n",
            "Requirement already satisfied: python-dateutil>=2 in /usr/local/lib/python3.6/dist-packages (from pandas->frimcla) (2.5.3)\n",
            "Requirement already satisfied: pytz>=2011k in /usr/local/lib/python3.6/dist-packages (from pandas->frimcla) (2018.9)\n",
            "Requirement already satisfied: scipy>=0.17.0 in /usr/local/lib/python3.6/dist-packages (from scikit-image->frimcla) (1.1.0)\n",
            "Requirement already satisfied: six>=1.7.3 in /usr/local/lib/python3.6/dist-packages (from scikit-image->frimcla) (1.11.0)\n",
            "Requirement already satisfied: pillow>=2.1.0 in /usr/local/lib/python3.6/dist-packages (from scikit-image->frimcla) (4.1.1)\n",
            "Requirement already satisfied: networkx>=1.8 in /usr/local/lib/python3.6/dist-packages (from scikit-image->frimcla) (2.2)\n",
            "Requirement already satisfied: PyWavelets>=0.4.0 in /usr/local/lib/python3.6/dist-packages (from scikit-image->frimcla) (1.0.2)\n",
            "Requirement already satisfied: wheel>=0.26 in /usr/local/lib/python3.6/dist-packages (from tensorflow->frimcla) (0.33.1)\n",
            "Requirement already satisfied: keras-preprocessing>=1.0.5 in /usr/local/lib/python3.6/dist-packages (from tensorflow->frimcla) (1.0.9)\n",
            "Requirement already satisfied: tensorflow-estimator<1.14.0rc0,>=1.13.0 in /usr/local/lib/python3.6/dist-packages (from tensorflow->frimcla) (1.13.0)\n",
            "Requirement already satisfied: keras-applications>=1.0.6 in /usr/local/lib/python3.6/dist-packages (from tensorflow->frimcla) (1.0.7)\n",
            "Requirement already satisfied: tensorboard<1.14.0,>=1.13.0 in /usr/local/lib/python3.6/dist-packages (from tensorflow->frimcla) (1.13.1)\n",
            "Requirement already satisfied: grpcio>=1.8.6 in /usr/local/lib/python3.6/dist-packages (from tensorflow->frimcla) (1.15.0)\n",
            "Requirement already satisfied: termcolor>=1.1.0 in /usr/local/lib/python3.6/dist-packages (from tensorflow->frimcla) (1.1.0)\n",
            "Requirement already satisfied: gast>=0.2.0 in /usr/local/lib/python3.6/dist-packages (from tensorflow->frimcla) (0.2.2)\n",
            "Requirement already satisfied: protobuf>=3.6.1 in /usr/local/lib/python3.6/dist-packages (from tensorflow->frimcla) (3.7.1)\n",
            "Requirement already satisfied: absl-py>=0.1.6 in /usr/local/lib/python3.6/dist-packages (from tensorflow->frimcla) (0.7.1)\n",
            "Requirement already satisfied: astor>=0.6.0 in /usr/local/lib/python3.6/dist-packages (from tensorflow->frimcla) (0.7.1)\n",
            "Requirement already satisfied: cycler>=0.10 in /usr/local/lib/python3.6/dist-packages (from matplotlib->frimcla) (0.10.0)\n",
            "Requirement already satisfied: kiwisolver>=1.0.1 in /usr/local/lib/python3.6/dist-packages (from matplotlib->frimcla) (1.0.1)\n",
            "Requirement already satisfied: pyparsing!=2.0.4,!=2.1.2,!=2.1.6,>=2.0.1 in /usr/local/lib/python3.6/dist-packages (from matplotlib->frimcla) (2.3.1)\n",
            "Requirement already satisfied: pyyaml in /usr/local/lib/python3.6/dist-packages (from Keras==2.1.6->frimcla) (3.13)\n",
            "Requirement already satisfied: olefile in /usr/local/lib/python3.6/dist-packages (from pillow>=2.1.0->scikit-image->frimcla) (0.46)\n",
            "Requirement already satisfied: decorator>=4.3.0 in /usr/local/lib/python3.6/dist-packages (from networkx>=1.8->scikit-image->frimcla) (4.4.0)\n",
            "Requirement already satisfied: mock>=2.0.0 in /usr/local/lib/python3.6/dist-packages (from tensorflow-estimator<1.14.0rc0,>=1.13.0->tensorflow->frimcla) (2.0.0)\n",
            "Requirement already satisfied: markdown>=2.6.8 in /usr/local/lib/python3.6/dist-packages (from tensorboard<1.14.0,>=1.13.0->tensorflow->frimcla) (3.1)\n",
            "Requirement already satisfied: werkzeug>=0.11.15 in /usr/local/lib/python3.6/dist-packages (from tensorboard<1.14.0,>=1.13.0->tensorflow->frimcla) (0.15.2)\n",
            "Requirement already satisfied: setuptools in /usr/local/lib/python3.6/dist-packages (from protobuf>=3.6.1->tensorflow->frimcla) (40.9.0)\n",
            "Requirement already satisfied: pbr>=0.11 in /usr/local/lib/python3.6/dist-packages (from mock>=2.0.0->tensorflow-estimator<1.14.0rc0,>=1.13.0->tensorflow->frimcla) (5.1.3)\n",
            "Building wheels for collected packages: frimcla, mahotas, commentjson, wget\n",
            "  Building wheel for frimcla (setup.py) ... \u001b[?25ldone\n",
            "\u001b[?25h  Stored in directory: /root/.cache/pip/wheels/eb/16/4d/5bded41e2ca07dce0e11ef0fc31b14daf37d417c1c865e9cba\n",
            "  Building wheel for mahotas (setup.py) ... \u001b[?25ldone\n",
            "\u001b[?25h  Stored in directory: /root/.cache/pip/wheels/fb/2a/81/12bc1070527dc81ef856f9d36db9ec0a42e8c14985d005395b\n",
            "  Building wheel for commentjson (setup.py) ... \u001b[?25ldone\n",
            "\u001b[?25h  Stored in directory: /root/.cache/pip/wheels/8c/0e/36/56d4e5ddf02e0ddd1d8f9eb8d90975a5192e0155ffe28ff19c\n",
            "  Building wheel for wget (setup.py) ... \u001b[?25ldone\n",
            "\u001b[?25h  Stored in directory: /root/.cache/pip/wheels/40/15/30/7d8f7cea2902b4db79e3fea550d7d7b85ecb27ef992b618f3f\n",
            "Successfully built frimcla mahotas commentjson wget\n",
            "Installing collected packages: mahotas, Keras, commentjson, wget, frimcla\n",
            "  Found existing installation: Keras 2.2.4\n",
            "    Uninstalling Keras-2.2.4:\n",
            "      Successfully uninstalled Keras-2.2.4\n",
            "Successfully installed Keras-2.1.6 commentjson-0.7.1 frimcla-0.0.543 mahotas-1.4.5 wget-3.2\n"
          ],
          "name": "stdout"
        }
      ]
    },
    {
      "cell_type": "markdown",
      "metadata": {
        "colab_type": "text",
        "id": "RbqqKITTO22n"
      },
      "source": [
        "We need some libraries to execute this framework and obtain the results. "
      ]
    },
    {
      "cell_type": "code",
      "metadata": {
        "colab_type": "code",
        "id": "ZGCgbftyO22o",
        "outputId": "ecf1348d-8ee1-484d-c17b-bfe0877b2b70",
        "colab": {
          "base_uri": "https://localhost:8080/",
          "height": 34
        }
      },
      "source": [
        "from frimcla.index_features import generateFeatures\n",
        "from frimcla.StatisticalComparison import statisticalComparison\n",
        "from frimcla.train import train\n",
        "from frimcla.prediction import prediction"
      ],
      "execution_count": 0,
      "outputs": [
        {
          "output_type": "stream",
          "text": [
            "Using TensorFlow backend.\n"
          ],
          "name": "stderr"
        }
      ]
    },
    {
      "cell_type": "markdown",
      "metadata": {
        "colab_type": "text",
        "id": "0clBM1JbO22r"
      },
      "source": [
        "### Configuring the variables of the program"
      ]
    },
    {
      "cell_type": "markdown",
      "metadata": {
        "colab_type": "text",
        "id": "jyrVp9TXO22s"
      },
      "source": [
        "First of all, we have to indicate the variables that the program need such as the path of the dataset, the models you want to use,..."
      ]
    },
    {
      "cell_type": "code",
      "metadata": {
        "id": "25ILxPaEKEhe",
        "colab_type": "code",
        "colab": {}
      },
      "source": [
        "datasetPath = \"./DogCat\"\n",
        "outputPath = \"./output\""
      ],
      "execution_count": 0,
      "outputs": []
    },
    {
      "cell_type": "markdown",
      "metadata": {
        "id": "tCMnKpdwKGLg",
        "colab_type": "text"
      },
      "source": [
        "####Advanced parameters"
      ]
    },
    {
      "cell_type": "code",
      "metadata": {
        "colab_type": "code",
        "id": "WI8fIZatO22t",
        "colab": {}
      },
      "source": [
        "batchSize = 32 \n",
        "verbose = False\n",
        "# measure = \"accuracy\" #You can use accuracy, f1, auroc, precision or recall \n",
        "trainingSize = 1\n",
        "nSteps=10"
      ],
      "execution_count": 0,
      "outputs": []
    },
    {
      "cell_type": "code",
      "metadata": {
        "id": "2_QEYEoFICGh",
        "colab_type": "code",
        "colab": {}
      },
      "source": [
        "Measure = 'accuracy' #@param [\"accuracy\", \"f1\", \"auroc\", \"precision\", \"recall\"]"
      ],
      "execution_count": 0,
      "outputs": []
    },
    {
      "cell_type": "markdown",
      "metadata": {
        "id": "LY_XmSatcoWb",
        "colab_type": "text"
      },
      "source": [
        "In the next section we have to select the feature extractors that we want to use (It is mandatory to **select at least one option**)"
      ]
    },
    {
      "cell_type": "code",
      "metadata": {
        "id": "xC1tIUTHcJS5",
        "colab_type": "code",
        "colab": {},
        "cellView": "form"
      },
      "source": [
        "VGG16 = True #@param {type:\"boolean\"}\n",
        "VGG19 = True #@param {type:\"boolean\"}\n",
        "ResNet = True #@param {type:\"boolean\"}\n",
        "Inception = True #@param {type:\"boolean\"}\n",
        "GoogleNet = True #@param {type:\"boolean\"}\n",
        "Overfeat = True #@param {type:\"boolean\"}\n",
        "Xception = True #@param {type:\"boolean\"}\n",
        "Densenet = True #@param {type:\"boolean\"}\n",
        "LAB888 = True #@param {type:\"boolean\"}\n",
        "LAB444 = True #@param {type:\"boolean\"}\n",
        "HSV888 = True #@param {type:\"boolean\"}\n",
        "HSV444 = True #@param {type:\"boolean\"}\n",
        "Haralick = True #@param {type:\"boolean\"}\n",
        "Hog = True #@param {type:\"boolean\"}\n",
        "Haarhog = True #@param {type:\"boolean\"}\n",
        "\n",
        "featureExtractors = []\n",
        "\n",
        "if VGG19 :\n",
        "  featureExtractors.append([\"vgg19\",\"False\"])\n",
        "if VGG16 :\n",
        "  featureExtractors.append([\"vgg16\",\"False\"])\n",
        "if ResNet :\n",
        "  featureExtractors.append([\"resnet\",\"False\"])\n",
        "if Inception :\n",
        "  featureExtractors.append([\"inception\",\"False\"])\n",
        "if GoogleNet :\n",
        "  featureExtractors.append([\"googlenet\"])\n",
        "if Overfeat :\n",
        "  featureExtractors.append([\"overfeat\",\"[-3]\"])\n",
        "if Xception :\n",
        "  featureExtractors.append([\"xception\",\"False\"])\n",
        "if Densenet :\n",
        "  featureExtractors.append([\"densenet\"])\n",
        "if LAB888 :\n",
        "  featureExtractors.append([\"lab888\"])\n",
        "if LAB444 :\n",
        "  featureExtractors.append([\"lab444\",\"4,4,4\"])\n",
        "if HSV888 :\n",
        "  featureExtractors.append([\"hsv888\"])\n",
        "if HSV444 :\n",
        "  featureExtractors.append([\"hsv444\",\"4,4,4\"])\n",
        "if Haralick :\n",
        "  featureExtractors.append([\"haralick\"])\n",
        "if Hog :\n",
        "  featureExtractors.append([\"hog\"])\n",
        "if Haarhog :\n",
        "  featureExtractors.append([\"haarhog\"])"
      ],
      "execution_count": 0,
      "outputs": []
    },
    {
      "cell_type": "markdown",
      "metadata": {
        "id": "eZffUt_sc3gu",
        "colab_type": "text"
      },
      "source": [
        "Now we have to indicate the classifier models that we want to use (It is mandatory to **select at least one option**)"
      ]
    },
    {
      "cell_type": "code",
      "metadata": {
        "id": "bbw1FIEJc4U2",
        "colab_type": "code",
        "colab": {}
      },
      "source": [
        "MLP = True #@param {type:\"boolean\"}\n",
        "SVM = True #@param {type:\"boolean\"}\n",
        "KNN = True #@param {type:\"boolean\"}\n",
        "LogisticRegression = True #@param {type:\"boolean\"}\n",
        "GradientBoost = True #@param {type:\"boolean\"}\n",
        "RandomForest = True #@param {type:\"boolean\"}\n",
        "\n",
        "modelClassifiers = []\n",
        "\n",
        "\n",
        "if MLP :\n",
        "  modelClassifiers.append(\"MLP\")\n",
        "if SVM :\n",
        "  modelClassifiers.append(\"SVM\")\n",
        "if KNN :\n",
        "  modelClassifiers.append(\"KNN\")\n",
        "if LogisticRegression :\n",
        "  modelClassifiers.append(\"LogisticRegression\")\n",
        "if GradientBoost :\n",
        "  modelClassifiers.append(\"GradientBoost\")\n",
        "if RandomForest :\n",
        "  modelClassifiers.append(\"RandomForest\")"
      ],
      "execution_count": 0,
      "outputs": []
    },
    {
      "cell_type": "markdown",
      "metadata": {
        "colab_type": "text",
        "id": "33iuVKcuO22x"
      },
      "source": [
        "### Generating the features"
      ]
    },
    {
      "cell_type": "markdown",
      "metadata": {
        "colab_type": "text",
        "id": "VUNPItgCO22y"
      },
      "source": [
        "At this step we stored the features of each image of the dataset. These features depend on the model used at this moment because each model stores different features of the image. "
      ]
    },
    {
      "cell_type": "code",
      "metadata": {
        "colab_type": "code",
        "id": "b6gvckU1O220",
        "outputId": "f1d9f428-c8e6-4f24-ac6c-cb7f8bf98668",
        "colab": {
          "base_uri": "https://localhost:8080/",
          "height": 275
        }
      },
      "source": [
        "generateFeatures(outputPath, batchSize, datasetPath, featureExtractors, verbose)"
      ],
      "execution_count": 0,
      "outputs": [
        {
          "output_type": "stream",
          "text": [
            "[INFO] loading ['inception', 'False']...\n",
            "WARNING:tensorflow:From /usr/local/lib/python3.6/dist-packages/tensorflow/python/framework/op_def_library.py:263: colocate_with (from tensorflow.python.framework.ops) is deprecated and will be removed in a future version.\n",
            "Instructions for updating:\n",
            "Colocations handled automatically by placer.\n",
            "Downloading data from https://github.com/fchollet/deep-learning-models/releases/download/v0.5/inception_v3_weights_tf_dim_ordering_tf_kernels.h5\n",
            "96116736/96112376 [==============================] - 3s 0us/step\n",
            "[WARN] minimum init buffer not reached - 2019-04-09 09:02:58.304987\n",
            "[INFO] creating datasets... - 2019-04-09 09:02:58.305250\n",
            "[INFO] writing un-empty buffers... - 2019-04-09 09:02:58.306379\n",
            "[INFO] writing `image_ids` buffer - 2019-04-09 09:02:58.307077\n",
            "[INFO] writing `features` buffer - 2019-04-09 09:02:58.308632\n",
            "[INFO] compacting datasets... - 2019-04-09 09:02:58.315537\n",
            "[INFO] old size of `image_ids`: 600; new size: 600 - 2019-04-09 09:02:58.315707\n",
            "[INFO] old size of `features`: 600; new size: 600 - 2019-04-09 09:02:58.315793\n"
          ],
          "name": "stdout"
        }
      ]
    },
    {
      "cell_type": "markdown",
      "metadata": {
        "colab_type": "text",
        "id": "u1PJ7nhvO229"
      },
      "source": [
        "### Statistical analysis"
      ]
    },
    {
      "cell_type": "markdown",
      "metadata": {
        "colab_type": "text",
        "id": "lhSVvFbcO22-"
      },
      "source": [
        "Now with the features of all the images of each model we can perform a statistical analysis to know which of this models has the best performace."
      ]
    },
    {
      "cell_type": "code",
      "metadata": {
        "colab_type": "code",
        "id": "LZE4lxmxO22_",
        "outputId": "19e146f7-66b8-4bf0-cb37-1f03bee2cae1",
        "colab": {
          "base_uri": "https://localhost:8080/",
          "height": 386
        }
      },
      "source": [
        "statisticalComparison(outputPath, datasetPath, featureExtractors, modelClassifiers, measure, nSteps, verbose)"
      ],
      "execution_count": 0,
      "outputs": [
        {
          "output_type": "display_data",
          "data": {
            "image/png": "[encoded data removed]",
            "text/plain": [
              "<Figure size 576x396 with 1 Axes>"
            ]
          },
          "metadata": {
            "tags": []
          }
        }
      ]
    },
    {
      "cell_type": "markdown",
      "metadata": {
        "colab_type": "text",
        "id": "U1m73-GtO23D"
      },
      "source": [
        "### Train the model"
      ]
    },
    {
      "cell_type": "markdown",
      "metadata": {
        "colab_type": "text",
        "id": "3h_WKMkIO23E"
      },
      "source": [
        "The study gives us as result the best model and indicates if there are significant differences between this and the rest of the models. With this information, we can train the best model and return as a result of the framework to the user."
      ]
    },
    {
      "cell_type": "code",
      "metadata": {
        "colab_type": "code",
        "id": "Lw11WyDFO23G",
        "outputId": "4f9a0027-72ca-4459-d0ac-17286f9b09dd",
        "colab": {
          "base_uri": "https://localhost:8080/",
          "height": 153
        }
      },
      "source": [
        "train(outputPath, datasetPath, trainingSize)"
      ],
      "execution_count": 0,
      "outputs": [
        {
          "output_type": "stream",
          "text": [
            "/usr/local/lib/python3.6/dist-packages/sklearn/neural_network/multilayer_perceptron.py:562: ConvergenceWarning: Stochastic Optimizer: Maximum iterations (200) reached and the optimization hasn't converged yet.\n",
            "  % self.max_iter, ConvergenceWarning)\n",
            "/usr/local/lib/python3.6/dist-packages/sklearn/neural_network/multilayer_perceptron.py:562: ConvergenceWarning: Stochastic Optimizer: Maximum iterations (200) reached and the optimization hasn't converged yet.\n",
            "  % self.max_iter, ConvergenceWarning)\n"
          ],
          "name": "stderr"
        },
        {
          "output_type": "stream",
          "text": [
            "[INFO] best hyperparameters: {'activation': 'relu', 'alpha': 0, 'learning_rate': 'invscaling', 'momentum': 0.99, 'solver': 'lbfgs'}\n",
            "[INFO] dumping classifier...\n",
            "Do you want to generate a web app to classify the images with the best combination? y/n\n",
            "y\n"
          ],
          "name": "stdout"
        }
      ]
    },
    {
      "cell_type": "markdown",
      "metadata": {
        "colab_type": "text",
        "id": "tf8yavh2O23J"
      },
      "source": [
        "### Predict the class of the images"
      ]
    },
    {
      "cell_type": "markdown",
      "metadata": {
        "colab_type": "text",
        "id": "-HsfMflEO23K"
      },
      "source": [
        "Finally, we have the best model and we can use it to predict the class of our images. To do this we have to use the following command and we have to define the feature extractor and the classifier. The prediction will store in the predictionResults file."
      ]
    },
    {
      "cell_type": "code",
      "metadata": {
        "colab_type": "code",
        "id": "uHwmSwDqO23L",
        "outputId": "be54dc33-ea12-4d58-c61c-0d32726b8c01",
        "colab": {
          "base_uri": "https://localhost:8080/",
          "height": 68
        }
      },
      "source": [
        "image = \"./DogCat/dog/488.jpg\"\n",
        "featExt = [\"inception\", \"False\"]\n",
        "classi = \"MLP\"\n",
        "prediction(featExt, classi, image, outputPath, datasetPath)"
      ],
      "execution_count": 0,
      "outputs": [
        {
          "output_type": "stream",
          "text": [
            "[INFO] loading model...\n",
            "[INFO] loading ['inception', 'False']...\n",
            "[INFO] class predicted for the image dog:488.jpg: ['dog']\n"
          ],
          "name": "stdout"
        }
      ]
    },
    {
      "cell_type": "code",
      "metadata": {
        "colab_type": "code",
        "id": "nWoWOV-fas_5",
        "outputId": "68ea8d00-3428-4c3f-f40b-e11a32abb535",
        "colab": {
          "base_uri": "https://localhost:8080/",
          "height": 51
        }
      },
      "source": [
        "!cat output/DogCat/predictionResults.csv"
      ],
      "execution_count": 0,
      "outputs": [
        {
          "output_type": "stream",
          "text": [
            "image_id, /DogCat\n",
            "dog:488.jpg, 1\r\n"
          ],
          "name": "stdout"
        }
      ]
    }
  ]
}