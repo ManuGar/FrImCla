{
  "nbformat": 4,
  "nbformat_minor": 0,
  "metadata": {
    "colab": {
      "name": "HowToPredictImageClass.ipynb",
      "version": "0.3.2",
      "provenance": []
    },
    "kernelspec": {
      "display_name": "Python 2",
      "language": "python",
      "name": "python2"
    }
  },
  "cells": [
    {
      "metadata": {
        "id": "Dsa3Fcxg6g55",
        "colab_type": "text"
      },
      "cell_type": "markdown",
      "source": [
        "# How to know the class of an image"
      ]
    },
    {
      "metadata": {
        "id": "jvkCaRje6g6H",
        "colab_type": "text"
      },
      "cell_type": "markdown",
      "source": [
        "In case that FrImCla is not installed in your system, the first task consist in installing using pip."
      ]
    },
    {
      "metadata": {
        "id": "QKHKhwGR6g6O",
        "colab_type": "code",
        "colab": {},
        "outputId": "b4569e47-dec1-4043-a456-d46a961146b1"
      },
      "cell_type": "code",
      "source": [
        "!pip install frimcla"
      ],
      "execution_count": 0,
      "outputs": [
        {
          "output_type": "stream",
          "text": [
            "Requirement already satisfied: frimcla in /home/magarcd/Escritorio/frimcla (0.0.530)\n",
            "Requirement already satisfied: opencv-python in /usr/local/lib/python2.7/dist-packages (from frimcla) (3.4.1.15)\n",
            "Requirement already satisfied: mahotas in /usr/local/lib/python2.7/dist-packages (from frimcla) (1.4.4)\n",
            "Requirement already satisfied: pandas in /usr/local/lib/python2.7/dist-packages (from frimcla) (0.23.0)\n",
            "Requirement already satisfied: imutils in /usr/local/lib/python2.7/dist-packages (from frimcla) (0.4.6)\n",
            "Requirement already satisfied: scikit-image in /usr/lib/python2.7/dist-packages (from frimcla) (0.13.1)\n",
            "Requirement already satisfied: tabulate in /usr/local/lib/python2.7/dist-packages (from frimcla) (0.8.2)\n",
            "Requirement already satisfied: tensorflow in /usr/local/lib/python2.7/dist-packages (from frimcla) (1.8.0)\n",
            "Requirement already satisfied: matplotlib in /usr/local/lib/python2.7/dist-packages (from frimcla) (2.0.2)\n",
            "Requirement already satisfied: guppy in /usr/local/lib/python2.7/dist-packages (from frimcla) (0.1.10)\n",
            "Requirement already satisfied: Keras==2.1.6 in /usr/local/lib/python2.7/dist-packages (from frimcla) (2.1.6)\n",
            "Requirement already satisfied: commentjson in /usr/local/lib/python2.7/dist-packages (from frimcla) (0.6)\n",
            "Requirement already satisfied: theano in /usr/local/lib/python2.7/dist-packages (from frimcla) (1.0.2)\n",
            "Requirement already satisfied: h5py in /usr/local/lib/python2.7/dist-packages (from frimcla) (2.7.1)\n",
            "Requirement already satisfied: wget in /usr/local/lib/python2.7/dist-packages (from frimcla) (3.2)\n",
            "Requirement already satisfied: numpy in /usr/lib/python2.7/dist-packages (from frimcla) (1.13.3)\n",
            "Requirement already satisfied: scikit-learn in /usr/local/lib/python2.7/dist-packages/scikit_learn-0.19.1-py2.7-linux-x86_64.egg (from frimcla) (0.19.1)\n",
            "Requirement already satisfied: pytz>=2011k in /usr/lib/python2.7/dist-packages (from pandas->frimcla) (2018.3)\n",
            "Requirement already satisfied: python-dateutil>=2.5.0 in /usr/lib/python2.7/dist-packages (from pandas->frimcla) (2.6.1)\n",
            "Requirement already satisfied: PyWavelets>=0.4.0 in /usr/lib/python2.7/dist-packages (from scikit-image->frimcla) (0.5.1)\n",
            "Requirement already satisfied: networkx>=1.8 in /usr/lib/python2.7/dist-packages (from scikit-image->frimcla) (1.11)\n",
            "Requirement already satisfied: pillow>=2.1.0 in /usr/local/lib/python2.7/dist-packages (from scikit-image->frimcla) (5.1.0)\n",
            "Requirement already satisfied: six>=1.7.3 in /usr/local/lib/python2.7/dist-packages (from scikit-image->frimcla) (1.11.0)\n",
            "Requirement already satisfied: grpcio>=1.8.6 in /usr/local/lib/python2.7/dist-packages (from tensorflow->frimcla) (1.12.0)\n",
            "Requirement already satisfied: mock>=2.0.0 in /usr/local/lib/python2.7/dist-packages (from tensorflow->frimcla) (2.0.0)\n",
            "Requirement already satisfied: protobuf>=3.4.0 in /usr/local/lib/python2.7/dist-packages (from tensorflow->frimcla) (3.5.2.post1)\n",
            "Requirement already satisfied: gast>=0.2.0 in /usr/local/lib/python2.7/dist-packages (from tensorflow->frimcla) (0.2.0)\n",
            "Requirement already satisfied: wheel in /usr/local/lib/python2.7/dist-packages (from tensorflow->frimcla) (0.31.1)\n",
            "Requirement already satisfied: absl-py>=0.1.6 in /usr/local/lib/python2.7/dist-packages (from tensorflow->frimcla) (0.2.1)\n",
            "Requirement already satisfied: backports.weakref>=1.0rc1 in /usr/local/lib/python2.7/dist-packages (from tensorflow->frimcla) (1.0.post1)\n",
            "Requirement already satisfied: enum34>=1.1.6 in /usr/local/lib/python2.7/dist-packages (from tensorflow->frimcla) (1.1.6)\n",
            "Requirement already satisfied: tensorboard<1.9.0,>=1.8.0 in /usr/local/lib/python2.7/dist-packages (from tensorflow->frimcla) (1.8.0)\n",
            "Requirement already satisfied: termcolor>=1.1.0 in /usr/local/lib/python2.7/dist-packages (from tensorflow->frimcla) (1.1.0)\n",
            "Requirement already satisfied: astor>=0.6.0 in /usr/local/lib/python2.7/dist-packages (from tensorflow->frimcla) (0.6.2)\n",
            "Requirement already satisfied: cycler>=0.10 in /usr/lib/python2.7/dist-packages (from matplotlib->frimcla) (0.10.0)\n",
            "Requirement already satisfied: pyparsing!=2.0.4,!=2.1.2,!=2.1.6,>=1.5.6 in /usr/lib/python2.7/dist-packages (from matplotlib->frimcla) (2.2.0)\n",
            "Requirement already satisfied: subprocess32 in /usr/lib/python2.7/dist-packages (from matplotlib->frimcla) (3.2.7)\n",
            "Requirement already satisfied: functools32 in /usr/local/lib/python2.7/dist-packages (from matplotlib->frimcla) (3.2.3.post2)\n",
            "Requirement already satisfied: pyyaml in /usr/local/lib/python2.7/dist-packages (from Keras==2.1.6->frimcla) (3.12)\n",
            "Requirement already satisfied: scipy>=0.14 in /usr/local/lib/python2.7/dist-packages/scipy-1.1.0-py2.7-linux-x86_64.egg (from Keras==2.1.6->frimcla) (1.1.0)\n",
            "Requirement already satisfied: futures>=2.2.0 in /usr/local/lib/python2.7/dist-packages (from grpcio>=1.8.6->tensorflow->frimcla) (3.2.0)\n",
            "Requirement already satisfied: funcsigs>=1; python_version < \"3.3\" in /usr/local/lib/python2.7/dist-packages (from mock>=2.0.0->tensorflow->frimcla) (1.0.2)\n",
            "Requirement already satisfied: pbr>=0.11 in /usr/local/lib/python2.7/dist-packages (from mock>=2.0.0->tensorflow->frimcla) (4.0.3)\n",
            "Requirement already satisfied: setuptools in /usr/local/lib/python2.7/dist-packages (from protobuf>=3.4.0->tensorflow->frimcla) (39.2.0)\n",
            "Requirement already satisfied: bleach==1.5.0 in /usr/local/lib/python2.7/dist-packages (from tensorboard<1.9.0,>=1.8.0->tensorflow->frimcla) (1.5.0)\n",
            "Requirement already satisfied: html5lib==0.9999999 in /usr/local/lib/python2.7/dist-packages (from tensorboard<1.9.0,>=1.8.0->tensorflow->frimcla) (0.9999999)\n",
            "Requirement already satisfied: werkzeug>=0.11.10 in /usr/local/lib/python2.7/dist-packages (from tensorboard<1.9.0,>=1.8.0->tensorflow->frimcla) (0.14.1)\n",
            "Requirement already satisfied: markdown>=2.6.8 in /usr/local/lib/python2.7/dist-packages (from tensorboard<1.9.0,>=1.8.0->tensorflow->frimcla) (2.6.11)\n"
          ],
          "name": "stdout"
        }
      ]
    },
    {
      "metadata": {
        "id": "pHYBx6ME6g6n",
        "colab_type": "text"
      },
      "cell_type": "markdown",
      "source": [
        "First of all, we have to import the classes that we need to make the predictions of the images. "
      ]
    },
    {
      "metadata": {
        "id": "ur_9p5YV6g6p",
        "colab_type": "code",
        "colab": {},
        "outputId": "5b44ec5b-7252-405c-8613-7061a8db9c4d"
      },
      "cell_type": "code",
      "source": [
        "from frimcla.prediction import prediction"
      ],
      "execution_count": 0,
      "outputs": [
        {
          "output_type": "stream",
          "text": [
            "/usr/local/lib/python2.7/dist-packages/scikit_learn-0.19.1-py2.7-linux-x86_64.egg/sklearn/cross_validation.py:41: DeprecationWarning: This module was deprecated in version 0.18 in favor of the model_selection module into which all the refactored classes and functions are moved. Also note that the interface of the new CV iterators are different from that of this module. This module will be removed in 0.20.\n",
            "  \"This module will be removed in 0.20.\", DeprecationWarning)\n",
            "Using TensorFlow backend.\n"
          ],
          "name": "stderr"
        },
        {
          "output_type": "error",
          "ename": "RuntimeError",
          "evalue": "module compiled against API version 0xc but this version of numpy is 0xb",
          "traceback": [
            "\u001b[0;31m---------------------------------------------------------------------------\u001b[0m",
            "\u001b[0;31mRuntimeError\u001b[0m                              Traceback (most recent call last)",
            "\u001b[0;31mRuntimeError\u001b[0m: module compiled against API version 0xc but this version of numpy is 0xb"
          ]
        },
        {
          "output_type": "error",
          "ename": "RuntimeError",
          "evalue": "module compiled against API version 0xc but this version of numpy is 0xb",
          "traceback": [
            "\u001b[0;31m---------------------------------------------------------------------------\u001b[0m",
            "\u001b[0;31mRuntimeError\u001b[0m                              Traceback (most recent call last)",
            "\u001b[0;31mRuntimeError\u001b[0m: module compiled against API version 0xc but this version of numpy is 0xb"
          ]
        }
      ]
    },
    {
      "metadata": {
        "id": "fmc8Nt0T6g6z",
        "colab_type": "text"
      },
      "cell_type": "markdown",
      "source": [
        "For this task, we need images to predict."
      ]
    },
    {
      "metadata": {
        "id": "prH9eRr46g60",
        "colab_type": "code",
        "colab": {}
      },
      "cell_type": "code",
      "source": [
        "!wget \"https://drive.google.com/uc?id=1nMhMINs75FEIW2bAgmSbW1OqUV1Cqs3b&export=download&authuser=0\" -O DogCat.zip\n",
        "!unzip DogCat.zip"
      ],
      "execution_count": 0,
      "outputs": []
    },
    {
      "metadata": {
        "id": "PTcvoqfF6g64",
        "colab_type": "text"
      },
      "cell_type": "markdown",
      "source": [
        "Now, we are going to create the variables for using the algorithm. "
      ]
    },
    {
      "metadata": {
        "id": "kfteszIe6g65",
        "colab_type": "code",
        "colab": {}
      },
      "cell_type": "code",
      "source": [
        "image = \"DogCat/cat/cat.10.jpg\"\n",
        "resultsPath = \"examples\"\n",
        "datasetPath = \"DogCat\"\n",
        "fetureExtractor = [\"inception\", \"False\"]\n",
        "classifier = \"SVM\""
      ],
      "execution_count": 0,
      "outputs": []
    },
    {
      "metadata": {
        "id": "xlaoTleR6g68",
        "colab_type": "text"
      },
      "cell_type": "markdown",
      "source": [
        "Image is the path where there is the image that we want to predict it class. Results path is the path where there is stored which is the best model of the statistical analysis. Dataset path is the path we we have our dataset, it is used to know th path of the model. "
      ]
    },
    {
      "metadata": {
        "id": "ez5b7qjh6g6-",
        "colab_type": "text"
      },
      "cell_type": "markdown",
      "source": [
        "At this time, we have defined the variables that the algorithm need. Now we have to use it to know which is the predicted class. \n",
        "As the user has not done the process of creating the best model, FrImCla will tell him in the command window that he has not chosen the best combination. To continue with the prediction he has to tell Y (yes)."
      ]
    },
    {
      "metadata": {
        "id": "3MeJLdiB6g7A",
        "colab_type": "code",
        "colab": {},
        "outputId": "db69c1bd-42d6-45c6-b0a7-b8a2bbfbec2e"
      },
      "cell_type": "code",
      "source": [
        "prediction(fetureExtractor, classifier, image, resultsPath, datasetPath)"
      ],
      "execution_count": 0,
      "outputs": [
        {
          "output_type": "stream",
          "text": [
            "y\n"
          ],
          "name": "stdout"
        }
      ]
    }
  ]
}