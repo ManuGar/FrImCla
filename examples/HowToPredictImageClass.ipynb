{
 "cells": [
  {
   "cell_type": "markdown",
   "metadata": {},
   "source": [
    "# How to know the class of an image"
   ]
  },
  {
   "cell_type": "markdown",
   "metadata": {},
   "source": [
    "In case that FrImCla is not installed in your system, the first task consist in installing using pip."
   ]
  },
  {
   "cell_type": "code",
   "execution_count": 1,
   "metadata": {},
   "outputs": [
    {
     "name": "stdout",
     "output_type": "stream",
     "text": [
      "Requirement already satisfied: frimcla in /home/magarcd/Escritorio/frimcla (0.0.530)\n",
      "Requirement already satisfied: opencv-python in /usr/local/lib/python2.7/dist-packages (from frimcla) (3.4.1.15)\n",
      "Requirement already satisfied: mahotas in /usr/local/lib/python2.7/dist-packages (from frimcla) (1.4.4)\n",
      "Requirement already satisfied: pandas in /usr/local/lib/python2.7/dist-packages (from frimcla) (0.23.0)\n",
      "Requirement already satisfied: imutils in /usr/local/lib/python2.7/dist-packages (from frimcla) (0.4.6)\n",
      "Requirement already satisfied: scikit-image in /usr/lib/python2.7/dist-packages (from frimcla) (0.13.1)\n",
      "Requirement already satisfied: tabulate in /usr/local/lib/python2.7/dist-packages (from frimcla) (0.8.2)\n",
      "Requirement already satisfied: tensorflow in /usr/local/lib/python2.7/dist-packages (from frimcla) (1.8.0)\n",
      "Requirement already satisfied: matplotlib in /usr/local/lib/python2.7/dist-packages (from frimcla) (2.0.2)\n",
      "Requirement already satisfied: guppy in /usr/local/lib/python2.7/dist-packages (from frimcla) (0.1.10)\n",
      "Requirement already satisfied: Keras==2.1.6 in /usr/local/lib/python2.7/dist-packages (from frimcla) (2.1.6)\n",
      "Requirement already satisfied: commentjson in /usr/local/lib/python2.7/dist-packages (from frimcla) (0.6)\n",
      "Requirement already satisfied: theano in /usr/local/lib/python2.7/dist-packages (from frimcla) (1.0.2)\n",
      "Requirement already satisfied: h5py in /usr/local/lib/python2.7/dist-packages (from frimcla) (2.7.1)\n",
      "Requirement already satisfied: wget in /usr/local/lib/python2.7/dist-packages (from frimcla) (3.2)\n",
      "Requirement already satisfied: numpy in /usr/lib/python2.7/dist-packages (from frimcla) (1.13.3)\n",
      "Requirement already satisfied: scikit-learn in /usr/local/lib/python2.7/dist-packages/scikit_learn-0.19.1-py2.7-linux-x86_64.egg (from frimcla) (0.19.1)\n",
      "Requirement already satisfied: pytz>=2011k in /usr/lib/python2.7/dist-packages (from pandas->frimcla) (2018.3)\n",
      "Requirement already satisfied: python-dateutil>=2.5.0 in /usr/lib/python2.7/dist-packages (from pandas->frimcla) (2.6.1)\n",
      "Requirement already satisfied: PyWavelets>=0.4.0 in /usr/lib/python2.7/dist-packages (from scikit-image->frimcla) (0.5.1)\n",
      "Requirement already satisfied: networkx>=1.8 in /usr/lib/python2.7/dist-packages (from scikit-image->frimcla) (1.11)\n",
      "Requirement already satisfied: pillow>=2.1.0 in /usr/local/lib/python2.7/dist-packages (from scikit-image->frimcla) (5.1.0)\n",
      "Requirement already satisfied: six>=1.7.3 in /usr/local/lib/python2.7/dist-packages (from scikit-image->frimcla) (1.11.0)\n",
      "Requirement already satisfied: grpcio>=1.8.6 in /usr/local/lib/python2.7/dist-packages (from tensorflow->frimcla) (1.12.0)\n",
      "Requirement already satisfied: mock>=2.0.0 in /usr/local/lib/python2.7/dist-packages (from tensorflow->frimcla) (2.0.0)\n",
      "Requirement already satisfied: protobuf>=3.4.0 in /usr/local/lib/python2.7/dist-packages (from tensorflow->frimcla) (3.5.2.post1)\n",
      "Requirement already satisfied: gast>=0.2.0 in /usr/local/lib/python2.7/dist-packages (from tensorflow->frimcla) (0.2.0)\n",
      "Requirement already satisfied: wheel in /usr/local/lib/python2.7/dist-packages (from tensorflow->frimcla) (0.31.1)\n",
      "Requirement already satisfied: absl-py>=0.1.6 in /usr/local/lib/python2.7/dist-packages (from tensorflow->frimcla) (0.2.1)\n",
      "Requirement already satisfied: backports.weakref>=1.0rc1 in /usr/local/lib/python2.7/dist-packages (from tensorflow->frimcla) (1.0.post1)\n",
      "Requirement already satisfied: enum34>=1.1.6 in /usr/local/lib/python2.7/dist-packages (from tensorflow->frimcla) (1.1.6)\n",
      "Requirement already satisfied: tensorboard<1.9.0,>=1.8.0 in /usr/local/lib/python2.7/dist-packages (from tensorflow->frimcla) (1.8.0)\n",
      "Requirement already satisfied: termcolor>=1.1.0 in /usr/local/lib/python2.7/dist-packages (from tensorflow->frimcla) (1.1.0)\n",
      "Requirement already satisfied: astor>=0.6.0 in /usr/local/lib/python2.7/dist-packages (from tensorflow->frimcla) (0.6.2)\n",
      "Requirement already satisfied: cycler>=0.10 in /usr/lib/python2.7/dist-packages (from matplotlib->frimcla) (0.10.0)\n",
      "Requirement already satisfied: pyparsing!=2.0.4,!=2.1.2,!=2.1.6,>=1.5.6 in /usr/lib/python2.7/dist-packages (from matplotlib->frimcla) (2.2.0)\n",
      "Requirement already satisfied: subprocess32 in /usr/lib/python2.7/dist-packages (from matplotlib->frimcla) (3.2.7)\n",
      "Requirement already satisfied: functools32 in /usr/local/lib/python2.7/dist-packages (from matplotlib->frimcla) (3.2.3.post2)\n",
      "Requirement already satisfied: pyyaml in /usr/local/lib/python2.7/dist-packages (from Keras==2.1.6->frimcla) (3.12)\n",
      "Requirement already satisfied: scipy>=0.14 in /usr/local/lib/python2.7/dist-packages/scipy-1.1.0-py2.7-linux-x86_64.egg (from Keras==2.1.6->frimcla) (1.1.0)\n",
      "Requirement already satisfied: futures>=2.2.0 in /usr/local/lib/python2.7/dist-packages (from grpcio>=1.8.6->tensorflow->frimcla) (3.2.0)\n",
      "Requirement already satisfied: funcsigs>=1; python_version < \"3.3\" in /usr/local/lib/python2.7/dist-packages (from mock>=2.0.0->tensorflow->frimcla) (1.0.2)\n",
      "Requirement already satisfied: pbr>=0.11 in /usr/local/lib/python2.7/dist-packages (from mock>=2.0.0->tensorflow->frimcla) (4.0.3)\n",
      "Requirement already satisfied: setuptools in /usr/local/lib/python2.7/dist-packages (from protobuf>=3.4.0->tensorflow->frimcla) (39.2.0)\n",
      "Requirement already satisfied: bleach==1.5.0 in /usr/local/lib/python2.7/dist-packages (from tensorboard<1.9.0,>=1.8.0->tensorflow->frimcla) (1.5.0)\n",
      "Requirement already satisfied: html5lib==0.9999999 in /usr/local/lib/python2.7/dist-packages (from tensorboard<1.9.0,>=1.8.0->tensorflow->frimcla) (0.9999999)\n",
      "Requirement already satisfied: werkzeug>=0.11.10 in /usr/local/lib/python2.7/dist-packages (from tensorboard<1.9.0,>=1.8.0->tensorflow->frimcla) (0.14.1)\n",
      "Requirement already satisfied: markdown>=2.6.8 in /usr/local/lib/python2.7/dist-packages (from tensorboard<1.9.0,>=1.8.0->tensorflow->frimcla) (2.6.11)\n"
     ]
    }
   ],
   "source": [
    "!pip install frimcla"
   ]
  },
  {
   "cell_type": "markdown",
   "metadata": {},
   "source": [
    "First of all, we have to import the classes that we need to make the predictions of the images. "
   ]
  },
  {
   "cell_type": "code",
   "execution_count": 2,
   "metadata": {},
   "outputs": [
    {
     "name": "stderr",
     "output_type": "stream",
     "text": [
      "/usr/local/lib/python2.7/dist-packages/scikit_learn-0.19.1-py2.7-linux-x86_64.egg/sklearn/cross_validation.py:41: DeprecationWarning: This module was deprecated in version 0.18 in favor of the model_selection module into which all the refactored classes and functions are moved. Also note that the interface of the new CV iterators are different from that of this module. This module will be removed in 0.20.\n",
      "  \"This module will be removed in 0.20.\", DeprecationWarning)\n",
      "Using TensorFlow backend.\n"
     ]
    },
    {
     "ename": "RuntimeError",
     "evalue": "module compiled against API version 0xc but this version of numpy is 0xb",
     "output_type": "error",
     "traceback": [
      "\u001b[0;31m---------------------------------------------------------------------------\u001b[0m",
      "\u001b[0;31mRuntimeError\u001b[0m                              Traceback (most recent call last)",
      "\u001b[0;31mRuntimeError\u001b[0m: module compiled against API version 0xc but this version of numpy is 0xb"
     ]
    },
    {
     "ename": "RuntimeError",
     "evalue": "module compiled against API version 0xc but this version of numpy is 0xb",
     "output_type": "error",
     "traceback": [
      "\u001b[0;31m---------------------------------------------------------------------------\u001b[0m",
      "\u001b[0;31mRuntimeError\u001b[0m                              Traceback (most recent call last)",
      "\u001b[0;31mRuntimeError\u001b[0m: module compiled against API version 0xc but this version of numpy is 0xb"
     ]
    }
   ],
   "source": [
    "from frimcla.prediction import prediction"
   ]
  },
  {
   "cell_type": "markdown",
   "metadata": {},
   "source": [
    "For this task, we need images to predict."
   ]
  },
  {
   "cell_type": "code",
   "execution_count": null,
   "metadata": {},
   "outputs": [],
   "source": [
    "!wget \"https://drive.google.com/uc?id=1nMhMINs75FEIW2bAgmSbW1OqUV1Cqs3b&export=download&authuser=0\" -O DogCat.zip\n",
    "!unzip DogCat.zip"
   ]
  },
  {
   "cell_type": "markdown",
   "metadata": {},
   "source": [
    "Now, we are going to create the variables for using the algorithm. "
   ]
  },
  {
   "cell_type": "code",
   "execution_count": 3,
   "metadata": {},
   "outputs": [],
   "source": [
    "image = \"DogCat/cat/cat.10.jpg\"\n",
    "resultsPath = \"examples\"\n",
    "datasetPath = \"DogCat\"\n",
    "fetureExtractor = [\"inception\", \"False\"]\n",
    "classifier = \"SVM\""
   ]
  },
  {
   "cell_type": "markdown",
   "metadata": {},
   "source": [
    "Image is the path where there is the image that we want to predict it class. Results path is the path where there is stored which is the best model of the statistical analysis. Dataset path is the path we we have our dataset, it is used to know th path of the model. "
   ]
  },
  {
   "cell_type": "markdown",
   "metadata": {},
   "source": [
    "At this time, we have defined the variables that the algorithm need. Now we have to use it to know which is the predicted class. \n",
    "As the user has not done the process of creating the best model, FrImCla will tell him in the command window that he has not chosen the best combination. To continue with the prediction he has to tell Y (yes)."
   ]
  },
  {
   "cell_type": "code",
   "execution_count": 4,
   "metadata": {},
   "outputs": [
    {
     "name": "stdout",
     "output_type": "stream",
     "text": [
      "y\n"
     ]
    }
   ],
   "source": [
    "prediction(fetureExtractor, classifier, image, resultsPath, datasetPath)"
   ]
  }
 ],
 "metadata": {
  "kernelspec": {
   "display_name": "Python 2",
   "language": "python",
   "name": "python2"
  },
  "language_info": {
   "codemirror_mode": {
    "name": "ipython",
    "version": 2
   },
   "file_extension": ".py",
   "mimetype": "text/x-python",
   "name": "python",
   "nbconvert_exporter": "python",
   "pygments_lexer": "ipython2",
   "version": "2.7.15rc1"
  }
 },
 "nbformat": 4,
 "nbformat_minor": 2
}
