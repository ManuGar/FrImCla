{
  "nbformat": 4,
  "nbformat_minor": 0,
  "metadata": {
    "colab": {
      "name": "MelanomaNotebook.ipynb",
      "version": "0.3.2",
      "provenance": []
    },
    "kernelspec": {
      "name": "python3",
      "display_name": "Python 3"
    }
  },
  "cells": [
    {
      "metadata": {
        "id": "jJQbIGkV9GoB",
        "colab_type": "text"
      },
      "cell_type": "markdown",
      "source": [
        "# How to study the melanoma dataset"
      ]
    },
    {
      "metadata": {
        "id": "uDGi-lUF9GoF",
        "colab_type": "text"
      },
      "cell_type": "markdown",
      "source": [
        "In this notebook, we illustrate how FrImCla can be employed to classify images. We have to train the framework to make these classifications. In particular, we use the datset privided for the ISBI 2017 challenge: Skin Lesion Analysis Towards Melanoma Detection - from now on we will call this dataset, the Melanoma dataset.\n",
        "\n",
        "The Melanoma training dataset consist in 2000 dermoscopic images, including 374 \"melanoma\", 254 \"seborrheic keratosis\", and the remainder as bening nevi (1372). This dataset can be downloaded by executing the following command."
      ]
    },
    {
      "metadata": {
        "id": "xF4zNpTO9GoH",
        "colab_type": "code",
        "colab": {}
      },
      "cell_type": "code",
      "source": [
        "!wget https://www.dropbox.com/s/ajcu5rkxp2fr0js/melanoma.zip?dl=0 -O melanoma.zip\n",
        "!unzip melanoma.zip"
      ],
      "execution_count": 0,
      "outputs": []
    },
    {
      "metadata": {
        "id": "kGEJEdi49GoN",
        "colab_type": "text"
      },
      "cell_type": "markdown",
      "source": [
        "In case that FrImCla is not installed in your system, the first task consist in installing using pip."
      ]
    },
    {
      "metadata": {
        "id": "10h1131I9GoO",
        "colab_type": "code",
        "colab": {},
        "outputId": "8a15e840-1813-4962-b7b6-fd1f82f35f06"
      },
      "cell_type": "code",
      "source": [
        "!pip install frimcla"
      ],
      "execution_count": 0,
      "outputs": [
        {
          "output_type": "stream",
          "text": [
            "Collecting frimcla\n",
            "\u001b[31m  Could not find a version that satisfies the requirement frimcla (from versions: )\u001b[0m\n",
            "\u001b[31mNo matching distribution found for frimcla\u001b[0m\n"
          ],
          "name": "stdout"
        }
      ]
    },
    {
      "metadata": {
        "id": "kFwGQdhO9GoW",
        "colab_type": "text"
      },
      "cell_type": "markdown",
      "source": [
        "This time we have to go through the process of study the best model of the melanoma dataset (with a technique called data augmentation)."
      ]
    },
    {
      "metadata": {
        "id": "NQ7huOCd9GoX",
        "colab_type": "text"
      },
      "cell_type": "markdown",
      "source": [
        "We need some libraries to execute this framework and obtain the results. "
      ]
    },
    {
      "metadata": {
        "id": "5XlYkMJ59GoZ",
        "colab_type": "code",
        "colab": {}
      },
      "cell_type": "code",
      "source": [
        "from FrImCla.index_features import generateFeatures\n",
        "from FrImCla.StatisticalComparison import statisticalComparison\n",
        "from FrImCla.train import train"
      ],
      "execution_count": 0,
      "outputs": []
    },
    {
      "metadata": {
        "id": "Usa-0Jw09Goc",
        "colab_type": "text"
      },
      "cell_type": "markdown",
      "source": [
        "### Configuring the variables of the program"
      ]
    },
    {
      "metadata": {
        "id": "3SAGsob69God",
        "colab_type": "text"
      },
      "cell_type": "markdown",
      "source": [
        "First of all, we have to indicate the variables that the program need such as the path of the dataset, the models you want to use,..."
      ]
    },
    {
      "metadata": {
        "id": "mjGBQgbW9Goe",
        "colab_type": "code",
        "colab": {}
      },
      "cell_type": "code",
      "source": [
        "datasetPath = \"melanoma\"\n",
        "outputPath = \"output\"\n",
        "featureExtractors = [[\"inception\", \"False\"]]\n",
        "batchSize = 32 \n",
        "verbose = False\n",
        "modelClassifiers = [ \"MLP\",\"SVM\",\"KNN\"] #You can use MLP, SVM, KNN , LogisticRegression or RandomForest\n",
        "measure = \"accuracy\" #You can use accuracy, f1, auroc, precision or recall \n",
        "trainingSize = 1\n"
      ],
      "execution_count": 0,
      "outputs": []
    },
    {
      "metadata": {
        "id": "umEEYsLf9Goi",
        "colab_type": "text"
      },
      "cell_type": "markdown",
      "source": [
        "This variables are used to configure the envoirement of the program. We have to know where the user wants to store de results or where is the dataset that user wants to study."
      ]
    },
    {
      "metadata": {
        "id": "uspkaoxv9Gok",
        "colab_type": "text"
      },
      "cell_type": "markdown",
      "source": [
        "### Generating the features"
      ]
    },
    {
      "metadata": {
        "id": "3Nic25BZ9Gom",
        "colab_type": "text"
      },
      "cell_type": "markdown",
      "source": [
        "At this step we stored the features of each image of the dataset. These features depend on the model used at this moment because each model stores different features of the image. "
      ]
    },
    {
      "metadata": {
        "id": "ZcR0opQg9Goo",
        "colab_type": "code",
        "colab": {}
      },
      "cell_type": "code",
      "source": [
        "generateFeatures(outputPath, batchSize, datasetPath, featureExtractors, verbose)"
      ],
      "execution_count": 0,
      "outputs": []
    },
    {
      "metadata": {
        "id": "pbBRz0UR9Gou",
        "colab_type": "text"
      },
      "cell_type": "markdown",
      "source": [
        "### Statistical analysis"
      ]
    },
    {
      "metadata": {
        "id": "ccQoINKq9Gov",
        "colab_type": "text"
      },
      "cell_type": "markdown",
      "source": [
        "Now with the features of all the images of each model we can perform a statistical analysis to know which of this models has the best performace."
      ]
    },
    {
      "metadata": {
        "id": "NnciLBg09Go0",
        "colab_type": "code",
        "colab": {}
      },
      "cell_type": "code",
      "source": [
        "statisticalComparison(outputPath, datasetPath, featureExtractors, modelClassifiers, measure, verbose)"
      ],
      "execution_count": 0,
      "outputs": []
    },
    {
      "metadata": {
        "id": "69D5p9ld9Go_",
        "colab_type": "text"
      },
      "cell_type": "markdown",
      "source": [
        "### Train the model"
      ]
    },
    {
      "metadata": {
        "id": "UZ97vsPC9GpB",
        "colab_type": "text"
      },
      "cell_type": "markdown",
      "source": [
        "The study gives us as result the best model and indicates if there are significant differences between this and the rest of the models. With this information, we can train the best model and return as a result of the framework to the user."
      ]
    },
    {
      "metadata": {
        "id": "HXz8ovUD9GpE",
        "colab_type": "code",
        "colab": {}
      },
      "cell_type": "code",
      "source": [
        "train(outputPath, datasetPath, trainingSize)"
      ],
      "execution_count": 0,
      "outputs": []
    },
    {
      "metadata": {
        "id": "5k2Ohhi-9GpK",
        "colab_type": "text"
      },
      "cell_type": "markdown",
      "source": [
        "### Predict the class of the images"
      ]
    },
    {
      "metadata": {
        "id": "7xIdZj9v9GpL",
        "colab_type": "text"
      },
      "cell_type": "markdown",
      "source": [
        "Finally, we have the best model and we can use it to predict the class of our images. To do this we have to use the following command and we have to define the feature extractor and the classifier."
      ]
    },
    {
      "metadata": {
        "id": "95HwHuVF9GpM",
        "colab_type": "code",
        "colab": {}
      },
      "cell_type": "code",
      "source": [
        "image = \"negat.jpg\"\n",
        "featExt = [\"inception\", \"False\"]\n",
        "classi = \"MLP\"\n",
        "prediction(featExt, classi, image, outputPath, datasetPath)"
      ],
      "execution_count": 0,
      "outputs": []
    }
  ]
}