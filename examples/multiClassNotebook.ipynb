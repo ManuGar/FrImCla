{
 "cells": [
  {
   "cell_type": "markdown",
   "metadata": {
    "colab_type": "text",
    "id": "tzwH_22si6jD"
   },
   "source": [
    "To speed the execution procces, Colaboraty has an option to use GPU. This option is selected by default."
   ]
  },
  {
   "cell_type": "markdown",
   "metadata": {
    "colab_type": "text",
    "id": "3lhwD1csO22V"
   },
   "source": [
    "# MultiLabel classification"
   ]
  },
  {
   "cell_type": "markdown",
   "metadata": {
    "colab_type": "text",
    "id": "3P5TMWjXO22Z"
   },
   "source": [
    "In this notebook, we illustrate how FrImCla can be employed for multi-label classification. We have to train the framework to make these classifications. This is a simple example to show how to use FrImCla. We train the models with a fragment of the [cloths dataset](https://www.pyimagesearch.com/2018/05/07/multi-label-classification-with-keras/).\n",
    "\n",
    "With this notebook we want to show and explain non-expert users the methods they have to use to run FrImCla. "
   ]
  },
  {
   "cell_type": "code",
   "execution_count": null,
   "metadata": {
    "colab": {
     "base_uri": "https://localhost:8080/",
     "height": 10662
    },
    "colab_type": "code",
    "id": "OT5lZnMsO22a",
    "outputId": "5f20b70e-469e-4304-b535-1501363119f1"
   },
   "outputs": [],
   "source": [
    "!wget \"https://www.dropbox.com/s/6s3a2ezgwf22615/cloths.zip?dl=0\" -O cloths.zip\n",
    "!unzip cloths.zip"
   ]
  },
  {
   "cell_type": "markdown",
   "metadata": {
    "colab_type": "text",
    "id": "ashqFE3iO22e"
   },
   "source": [
    "In case that FrImCla is not installed in your system, the first task consist in installing using pip."
   ]
  },
  {
   "cell_type": "code",
   "execution_count": null,
   "metadata": {
    "colab": {
     "base_uri": "https://localhost:8080/",
     "height": 1173
    },
    "colab_type": "code",
    "id": "T1syQvt_O22f",
    "outputId": "926d0ba9-0b38-4da0-c889-297f493ad1af"
   },
   "outputs": [],
   "source": [
    "!pip install frimcla"
   ]
  },
  {
   "cell_type": "markdown",
   "metadata": {
    "colab_type": "text",
    "id": "RbqqKITTO22n"
   },
   "source": [
    "We need some libraries to execute this framework and obtain the results. "
   ]
  },
  {
   "cell_type": "code",
   "execution_count": null,
   "metadata": {
    "colab": {
     "base_uri": "https://localhost:8080/",
     "height": 34
    },
    "colab_type": "code",
    "id": "ZGCgbftyO22o",
    "outputId": "ecf1348d-8ee1-484d-c17b-bfe0877b2b70"
   },
   "outputs": [],
   "source": [
    "from frimcla.index_features import generateFeatures\n",
    "from frimcla.StatisticalComparison import statisticalComparison\n",
    "from frimcla.train import train\n",
    "from frimcla.prediction import prediction"
   ]
  },
  {
   "cell_type": "markdown",
   "metadata": {
    "colab_type": "text",
    "id": "0clBM1JbO22r"
   },
   "source": [
    "### Configuring the variables of the program"
   ]
  },
  {
   "cell_type": "markdown",
   "metadata": {
    "colab_type": "text",
    "id": "jyrVp9TXO22s"
   },
   "source": [
    "First of all, we have to indicate the variables that the program need such as the path of the dataset, the models you want to use,..."
   ]
  },
  {
   "cell_type": "code",
   "execution_count": null,
   "metadata": {
    "colab": {},
    "colab_type": "code",
    "id": "25ILxPaEKEhe"
   },
   "outputs": [],
   "source": [
    "datasetPath = \"./cloths\"\n",
    "outputPath = \"./output\""
   ]
  },
  {
   "cell_type": "markdown",
   "metadata": {
    "colab_type": "text",
    "id": "tCMnKpdwKGLg"
   },
   "source": [
    "#### Advanced parameters\n",
    "\n",
    "You can use the following parameters by default."
   ]
  },
  {
   "cell_type": "code",
   "execution_count": null,
   "metadata": {
    "colab": {},
    "colab_type": "code",
    "id": "WI8fIZatO22t"
   },
   "outputs": [],
   "source": [
    "batchSize = 32 \n",
    "verbose = False\n",
    "trainingSize = 1\n",
    "nSteps=10"
   ]
  },
  {
   "cell_type": "code",
   "execution_count": null,
   "metadata": {
    "cellView": "form",
    "colab": {},
    "colab_type": "code",
    "id": "2_QEYEoFICGh"
   },
   "outputs": [],
   "source": [
    "measure = 'accuracy' #@param [\"accuracy\", \"f1\", \"auroc\", \"precision\", \"recall\"]"
   ]
  },
  {
   "cell_type": "markdown",
   "metadata": {
    "colab_type": "text",
    "id": "LY_XmSatcoWb"
   },
   "source": [
    "In the next section we have to select the feature extractors that we want to use (It is mandatory to **select at least one option**)"
   ]
  },
  {
   "cell_type": "code",
   "execution_count": null,
   "metadata": {
    "cellView": "form",
    "colab": {},
    "colab_type": "code",
    "id": "xC1tIUTHcJS5"
   },
   "outputs": [],
   "source": [
    "VGG16 = True #@param {type:\"boolean\"}\n",
    "VGG19 = True #@param {type:\"boolean\"}\n",
    "ResNet = True #@param {type:\"boolean\"}\n",
    "Inception = True #@param {type:\"boolean\"}\n",
    "GoogleNet = True #@param {type:\"boolean\"}\n",
    "Overfeat = True #@param {type:\"boolean\"}\n",
    "Xception = True #@param {type:\"boolean\"}\n",
    "Densenet = True #@param {type:\"boolean\"}\n",
    "LAB888 = True #@param {type:\"boolean\"}\n",
    "LAB444 = True #@param {type:\"boolean\"}\n",
    "HSV888 = True #@param {type:\"boolean\"}\n",
    "HSV444 = True #@param {type:\"boolean\"}\n",
    "Haralick = True #@param {type:\"boolean\"}\n",
    "Hog = True #@param {type:\"boolean\"}\n",
    "Haarhog = True #@param {type:\"boolean\"}\n",
    "\n",
    "featureExtractors = []\n",
    "\n",
    "if VGG19 :\n",
    "  featureExtractors.append([\"vgg19\",\"False\"])\n",
    "if VGG16 :\n",
    "  featureExtractors.append([\"vgg16\",\"False\"])\n",
    "if ResNet :\n",
    "  featureExtractors.append([\"resnet\",\"False\"])\n",
    "if Inception :\n",
    "  featureExtractors.append([\"inception\",\"False\"])\n",
    "if GoogleNet :\n",
    "  featureExtractors.append([\"googlenet\"])\n",
    "if Overfeat :\n",
    "  featureExtractors.append([\"overfeat\",\"[-3]\"])\n",
    "if Xception :\n",
    "  featureExtractors.append([\"xception\",\"False\"])\n",
    "if Densenet :\n",
    "  featureExtractors.append([\"densenet\"])\n",
    "if LAB888 :\n",
    "  featureExtractors.append([\"lab888\"])\n",
    "if LAB444 :\n",
    "  featureExtractors.append([\"lab444\",\"4,4,4\"])\n",
    "if HSV888 :\n",
    "  featureExtractors.append([\"hsv888\"])\n",
    "if HSV444 :\n",
    "  featureExtractors.append([\"hsv444\",\"4,4,4\"])\n",
    "if Haralick :\n",
    "  featureExtractors.append([\"haralick\"])\n",
    "if Hog :\n",
    "  featureExtractors.append([\"hog\"])\n",
    "if Haarhog :\n",
    "  featureExtractors.append([\"haarhog\"])"
   ]
  },
  {
   "cell_type": "markdown",
   "metadata": {
    "colab_type": "text",
    "id": "eZffUt_sc3gu"
   },
   "source": [
    "Now we have to indicate the classifier models that we want to use (It is mandatory to **select at least one option**)"
   ]
  },
  {
   "cell_type": "code",
   "execution_count": null,
   "metadata": {
    "cellView": "form",
    "colab": {},
    "colab_type": "code",
    "id": "bbw1FIEJc4U2"
   },
   "outputs": [],
   "source": [
    "MLP = True #@param {type:\"boolean\"}\n",
    "SVM = True #@param {type:\"boolean\"}\n",
    "KNN = True #@param {type:\"boolean\"}\n",
    "LogisticRegression = True #@param {type:\"boolean\"}\n",
    "GradientBoost = True #@param {type:\"boolean\"}\n",
    "RandomForest = True #@param {type:\"boolean\"}\n",
    "\n",
    "modelClassifiers = []\n",
    "\n",
    "\n",
    "if MLP :\n",
    "  modelClassifiers.append(\"MLP\")\n",
    "if SVM :\n",
    "  modelClassifiers.append(\"SVM\")\n",
    "if KNN :\n",
    "  modelClassifiers.append(\"KNN\")\n",
    "if LogisticRegression :\n",
    "  modelClassifiers.append(\"LogisticRegression\")\n",
    "if GradientBoost :\n",
    "  modelClassifiers.append(\"GradientBoost\")\n",
    "if RandomForest :\n",
    "  modelClassifiers.append(\"RandomForest\")"
   ]
  },
  {
   "cell_type": "markdown",
   "metadata": {
    "colab_type": "text",
    "id": "33iuVKcuO22x"
   },
   "source": [
    "### Generating the features"
   ]
  },
  {
   "cell_type": "markdown",
   "metadata": {
    "colab_type": "text",
    "id": "VUNPItgCO22y"
   },
   "source": [
    "At this step we stored the features of each image of the dataset. These features depend on the model used at this moment because each model stores different features of the image. "
   ]
  },
  {
   "cell_type": "code",
   "execution_count": null,
   "metadata": {
    "colab": {},
    "colab_type": "code",
    "id": "b6gvckU1O220"
   },
   "outputs": [],
   "source": [
    "generateFeatures(outputPath, batchSize, datasetPath, featureExtractors, verbose,multiclass=True)"
   ]
  },
  {
   "cell_type": "markdown",
   "metadata": {
    "colab_type": "text",
    "id": "u1PJ7nhvO229"
   },
   "source": [
    "### Statistical analysis"
   ]
  },
  {
   "cell_type": "markdown",
   "metadata": {
    "colab_type": "text",
    "id": "lhSVvFbcO22-"
   },
   "source": [
    "Now with the features of all the images of each model we can perform a statistical analysis to know which of this models has the best performace."
   ]
  },
  {
   "cell_type": "code",
   "execution_count": null,
   "metadata": {
    "colab": {},
    "colab_type": "code",
    "id": "LZE4lxmxO22_"
   },
   "outputs": [],
   "source": [
    "statisticalComparison(outputPath, datasetPath, featureExtractors, modelClassifiers, measure, nSteps, verbose,multiclass=True)"
   ]
  },
  {
   "cell_type": "markdown",
   "metadata": {
    "colab_type": "text",
    "id": "U1m73-GtO23D"
   },
   "source": [
    "### Train the model"
   ]
  },
  {
   "cell_type": "markdown",
   "metadata": {
    "colab_type": "text",
    "id": "3h_WKMkIO23E"
   },
   "source": [
    "The study gives us as result the best model and indicates if there are significant differences between this and the rest of the models. With this information, we can train the best model and return as a result of the framework to the user."
   ]
  },
  {
   "cell_type": "code",
   "execution_count": null,
   "metadata": {
    "colab": {},
    "colab_type": "code",
    "id": "Lw11WyDFO23G"
   },
   "outputs": [],
   "source": [
    "train(outputPath, datasetPath, trainingSize,multiclass=True)"
   ]
  },
  {
   "cell_type": "markdown",
   "metadata": {
    "colab_type": "text",
    "id": "tf8yavh2O23J"
   },
   "source": [
    "### Predict the class of the images"
   ]
  },
  {
   "cell_type": "markdown",
   "metadata": {
    "colab_type": "text",
    "id": "-HsfMflEO23K"
   },
   "source": [
    "Finally, we have the best model and we can use it to predict the class of our images. To do this we have to use the following command and we have to define the feature extractor and the classifier. The prediction will store in the predictionResults file."
   ]
  },
  {
   "cell_type": "code",
   "execution_count": null,
   "metadata": {
    "colab": {},
    "colab_type": "code",
    "id": "uHwmSwDqO23L"
   },
   "outputs": [],
   "source": [
    "image = \"./cloths/black_jeans/00000000.jpg\"\n",
    "featExt = [\"inception\", \"False\"]\n",
    "classi = \"MLP\"\n",
    "prediction(featExt, classi, image, outputPath, datasetPath,multiclass=True)"
   ]
  }
 ],
 "metadata": {
  "colab": {
   "name": "MalariaNotebook.ipynb",
   "provenance": [],
   "version": "0.3.2"
  },
  "kernelspec": {
   "display_name": "Python 3",
   "language": "python",
   "name": "python3"
  },
  "language_info": {
   "codemirror_mode": {
    "name": "ipython",
    "version": 3
   },
   "file_extension": ".py",
   "mimetype": "text/x-python",
   "name": "python",
   "nbconvert_exporter": "python",
   "pygments_lexer": "ipython3",
   "version": "3.6.7"
  }
 },
 "nbformat": 4,
 "nbformat_minor": 1
}
