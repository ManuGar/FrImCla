{
 "cells": [
  {
   "cell_type": "markdown",
   "metadata": {},
   "source": [
    "# How to study the Malaria dataset"
   ]
  },
  {
   "cell_type": "markdown",
   "metadata": {},
   "source": [
    "In this notebook, we illustrate how FrImCla can be employed to classify images. We have to train the framework to make these classifications. In particular, we use the datset provided for the Ntional Library of Medicine (NLB) - from now on we will call this dataset, the Malaria dataset.\n",
    "\n",
    "The Malaria dataset consist in 27558 mammographic images with equal instances of parasitized and uninfected cells. You can find more information about the dataset in the following link: \n",
    "\n",
    "https://ceb.nlm.nih.gov/repositories/malaria-datasets/\n",
    "\n",
    "This dataset is used in the paper \"Pre-trained convolutional neural networks as feature extractors toward improved malaria parasite detection in thin blood smear images\". You can read the paper in the following link:\n",
    "\n",
    "https://peerj.com/articles/4568/\n",
    "\n",
    "We only will use a subset of this dataset to know the performance of FrImCla. The dataset contains 500 images of parasitized cells and 500 of uninfected cells. This subset can be downloaded by executing the following command."
   ]
  },
  {
   "cell_type": "code",
   "execution_count": null,
   "metadata": {},
   "outputs": [],
   "source": [
    "!wget \"https://drive.google.com/uc?id=1ElTc5K3CNVxYiMfdRc2HX1HL-UVud4UZ&export=download&authuser=0\" -O malaria.zip\n",
    "!unzip malaria.zip"
   ]
  },
  {
   "cell_type": "markdown",
   "metadata": {},
   "source": [
    "In case that FrImCla is not installed in your system, the first task consist in installing using pip."
   ]
  },
  {
   "cell_type": "code",
   "execution_count": 1,
   "metadata": {},
   "outputs": [
    {
     "name": "stdout",
     "output_type": "stream",
     "text": [
      "Collecting frimcla\n",
      "\u001b[31m  Could not find a version that satisfies the requirement frimcla (from versions: )\u001b[0m\n",
      "\u001b[31mNo matching distribution found for frimcla\u001b[0m\n"
     ]
    }
   ],
   "source": [
    "!pip install frimcla"
   ]
  },
  {
   "cell_type": "markdown",
   "metadata": {},
   "source": [
    "This time we have to go through the process of study the best model of the melanoma dataset (with a technique called data augmentation)."
   ]
  },
  {
   "cell_type": "markdown",
   "metadata": {},
   "source": [
    "We need some libraries to execute this framework and obtain the results. "
   ]
  },
  {
   "cell_type": "code",
   "execution_count": null,
   "metadata": {},
   "outputs": [],
   "source": [
    "from frimcla.index_features import generateFeatures\n",
    "from frimcla.StatisticalComparison import statisticalComparison\n",
    "from frimcla.train import train"
   ]
  },
  {
   "cell_type": "markdown",
   "metadata": {},
   "source": [
    "### Configuring the variables of the program"
   ]
  },
  {
   "cell_type": "markdown",
   "metadata": {},
   "source": [
    "First of all, we have to indicate the variables that the program need such as the path of the dataset, the models you want to use,..."
   ]
  },
  {
   "cell_type": "code",
   "execution_count": null,
   "metadata": {},
   "outputs": [],
   "source": [
    "datasetPath = \"mias\"\n",
    "outputPath = \"output\"\n",
    "featureExtractors = [[\"inception\", \"False\"]]\n",
    "batchSize = 32 \n",
    "verbose = False\n",
    "modelClassifiers = [ \"MLP\",\"SVM\",\"KNN\"] #You can use MLP, SVM, KNN , LogisticRegression or RandomForest\n",
    "measure = \"accuracy\" #You can use accuracy, f1, auroc, precision or recall \n",
    "trainingSize = 1\n",
    "nSteps=10\n"
   ]
  },
  {
   "cell_type": "markdown",
   "metadata": {},
   "source": [
    "This variables are used to configure the envoirement of the program. We have to know where the user wants to store de results or where is the dataset that user wants to study."
   ]
  },
  {
   "cell_type": "markdown",
   "metadata": {},
   "source": [
    "### Generating the features"
   ]
  },
  {
   "cell_type": "markdown",
   "metadata": {},
   "source": [
    "At this step we stored the features of each image of the dataset. These features depend on the model used at this moment because each model stores different features of the image. "
   ]
  },
  {
   "cell_type": "code",
   "execution_count": null,
   "metadata": {},
   "outputs": [],
   "source": [
    "generateFeatures(outputPath, batchSize, datasetPath, featureExtractors, nSteps, verbose)"
   ]
  },
  {
   "cell_type": "markdown",
   "metadata": {},
   "source": [
    "### Statistical analysis"
   ]
  },
  {
   "cell_type": "markdown",
   "metadata": {},
   "source": [
    "Now with the features of all the images of each model we can perform a statistical analysis to know which of this models has the best performace."
   ]
  },
  {
   "cell_type": "code",
   "execution_count": null,
   "metadata": {},
   "outputs": [],
   "source": [
    "statisticalComparison(outputPath, datasetPath, featureExtractors, modelClassifiers, measure, verbose)"
   ]
  },
  {
   "cell_type": "markdown",
   "metadata": {},
   "source": [
    "### Train the model"
   ]
  },
  {
   "cell_type": "markdown",
   "metadata": {},
   "source": [
    "The study gives us as result the best model and indicates if there are significant differences between this and the rest of the models. With this information, we can train the best model and return as a result of the framework to the user."
   ]
  },
  {
   "cell_type": "code",
   "execution_count": null,
   "metadata": {},
   "outputs": [],
   "source": [
    "train(outputPath, datasetPath, trainingSize)"
   ]
  },
  {
   "cell_type": "markdown",
   "metadata": {},
   "source": [
    "### Predict the class of the images"
   ]
  },
  {
   "cell_type": "markdown",
   "metadata": {},
   "source": [
    "Finally, we have the best model and we can use it to predict the class of our images. To do this we have to use the following command and we have to define the feature extractor and the classifier."
   ]
  },
  {
   "cell_type": "code",
   "execution_count": null,
   "metadata": {},
   "outputs": [],
   "source": [
    "image = \"./example.jpg\"\n",
    "featExt = [\"inception\", \"False\"]\n",
    "classi = \"MLP\"\n",
    "prediction(featExt, classi, image, outputPath, datasetPath)"
   ]
  }
 ],
 "metadata": {
  "kernelspec": {
   "display_name": "Python 2",
   "language": "python",
   "name": "python2"
  },
  "language_info": {
   "codemirror_mode": {
    "name": "ipython",
    "version": 3
   },
   "file_extension": ".py",
   "mimetype": "text/x-python",
   "name": "python",
   "nbconvert_exporter": "python",
   "pygments_lexer": "ipython3",
   "version": "3.6.7"
  }
 },
 "nbformat": 4,
 "nbformat_minor": 2
}
