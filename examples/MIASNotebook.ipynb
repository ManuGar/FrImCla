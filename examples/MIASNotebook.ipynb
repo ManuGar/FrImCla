{
  "nbformat": 4,
  "nbformat_minor": 0,
  "metadata": {
    "colab": {
      "name": "MIASNotebook.ipynb",
      "version": "0.3.2",
      "provenance": []
    },
    "language_info": {
      "codemirror_mode": {
        "name": "ipython",
        "version": 3
      },
      "file_extension": ".py",
      "mimetype": "text/x-python",
      "name": "python",
      "nbconvert_exporter": "python",
      "pygments_lexer": "ipython3",
      "version": "3.6.7"
    },
    "kernelspec": {
      "display_name": "Python 3",
      "language": "python",
      "name": "python3"
    }
  },
  "cells": [
    {
      "cell_type": "markdown",
      "metadata": {
        "id": "Y3PSyhESk3yr",
        "colab_type": "text"
      },
      "source": [
        "To speed the execution procces, Colaboraty has an option to use GPU. This option is selected by default."
      ]
    },
    {
      "cell_type": "markdown",
      "metadata": {
        "colab_type": "text",
        "id": "CTUuks4nfTCo"
      },
      "source": [
        "# How to study the MIAS dataset"
      ]
    },
    {
      "cell_type": "markdown",
      "metadata": {
        "colab_type": "text",
        "id": "QcGgOJbEfTCr"
      },
      "source": [
        "In this notebook, we illustrate how FrImCla can be employed to classify images. We have to train the framework to make these classifications. In particular, we use the dataset provided for the Mammographic Image Analysis Society (MIAS) - from now on we will call this dataset, the MIAS dataset.\n",
        "\n",
        "The MIAS dataset consist in 322 mammographic images, including 113 images with abnormalities and 209 without abnormalities. You can find more information in the following link: \n",
        "\n",
        "https://www.repository.cam.ac.uk/handle/1810/250394\n",
        "\n",
        "This dataset can be downloaded by executing the following command."
      ]
    },
    {
      "cell_type": "code",
      "metadata": {
        "colab_type": "code",
        "id": "H24zEvoYfTCs",
        "outputId": "f39b7f6c-b95f-4ab6-b54b-f7cf3ae3c5f5",
        "colab": {
          "base_uri": "https://localhost:8080/",
          "height": 5494
        }
      },
      "source": [
        "!wget \"https://drive.google.com/uc?id=1ZApIHn-EvoQ6sdgJWhgfM3rmEEXWvXRJ&export=download&authuser=0\" -O mias.zip\n",
        "!unzip mias.zip"
      ],
      "execution_count": 0,
      "outputs": [
        {
          "output_type": "stream",
          "text": [
            "--2019-03-19 10:27:59--  https://drive.google.com/uc?id=1ZApIHn-EvoQ6sdgJWhgfM3rmEEXWvXRJ&export=download&authuser=0\n",
            "Resolving drive.google.com (drive.google.com)... 74.125.141.100, 74.125.141.113, 74.125.141.102, ...\n",
            "Connecting to drive.google.com (drive.google.com)|74.125.141.100|:443... connected.\n",
            "HTTP request sent, awaiting response... 302 Moved Temporarily\n",
            "Location: https://drive.google.com/uc?id=1ZApIHn-EvoQ6sdgJWhgfM3rmEEXWvXRJ&export=download [following]\n",
            "--2019-03-19 10:27:59--  https://drive.google.com/uc?id=1ZApIHn-EvoQ6sdgJWhgfM3rmEEXWvXRJ&export=download\n",
            "Reusing existing connection to drive.google.com:443.\n",
            "HTTP request sent, awaiting response... 302 Moved Temporarily\n",
            "Location: https://doc-0g-3s-docs.googleusercontent.com/docs/securesc/ha0ro937gcuc7l7deffksulhg5h7mbp1/269n3psjp6fsdtacdhsni4e25ase1a6n/1552989600000/05147614325801676241/*/1ZApIHn-EvoQ6sdgJWhgfM3rmEEXWvXRJ?e=download [following]\n",
            "Warning: wildcards not supported in HTTP.\n",
            "--2019-03-19 10:28:02--  https://doc-0g-3s-docs.googleusercontent.com/docs/securesc/ha0ro937gcuc7l7deffksulhg5h7mbp1/269n3psjp6fsdtacdhsni4e25ase1a6n/1552989600000/05147614325801676241/*/1ZApIHn-EvoQ6sdgJWhgfM3rmEEXWvXRJ?e=download\n",
            "Resolving doc-0g-3s-docs.googleusercontent.com (doc-0g-3s-docs.googleusercontent.com)... 74.125.141.132, 2607:f8b0:400c:c06::84\n",
            "Connecting to doc-0g-3s-docs.googleusercontent.com (doc-0g-3s-docs.googleusercontent.com)|74.125.141.132|:443... connected.\n",
            "HTTP request sent, awaiting response... 200 OK\n",
            "Length: unspecified [application/zip]\n",
            "Saving to: ‘mias.zip’\n",
            "\n",
            "mias.zip                [ <=>                ]   2.82M  --.-KB/s    in 0.02s   \n",
            "\n",
            "2019-03-19 10:28:03 (149 MB/s) - ‘mias.zip’ saved [2955320]\n",
            "\n",
            "Archive:  mias.zip\n",
            "   creating: Mias/\n",
            "   creating: Mias/ABNORMAL/\n",
            "  inflating: Mias/ABNORMAL/mdb001.jpg  \n",
            "  inflating: Mias/ABNORMAL/mdb005.jpg  \n",
            "  inflating: Mias/ABNORMAL/mdb010.jpg  \n",
            "  inflating: Mias/ABNORMAL/mdb012.jpg  \n",
            "  inflating: Mias/ABNORMAL/mdb013.jpg  \n",
            "  inflating: Mias/ABNORMAL/mdb015.jpg  \n",
            "  inflating: Mias/ABNORMAL/mdb017.jpg  \n",
            "  inflating: Mias/ABNORMAL/mdb019.jpg  \n",
            "  inflating: Mias/ABNORMAL/mdb021.jpg  \n",
            "  inflating: Mias/ABNORMAL/mdb023.jpg  \n",
            "  inflating: Mias/ABNORMAL/mdb028.jpg  \n",
            "  inflating: Mias/ABNORMAL/mdb030.jpg  \n",
            "  inflating: Mias/ABNORMAL/mdb032.jpg  \n",
            "  inflating: Mias/ABNORMAL/mdb058.jpg  \n",
            "  inflating: Mias/ABNORMAL/mdb063.jpg  \n",
            "  inflating: Mias/ABNORMAL/mdb069.jpg  \n",
            "  inflating: Mias/ABNORMAL/mdb072.jpg  \n",
            "  inflating: Mias/ABNORMAL/mdb075.jpg  \n",
            "  inflating: Mias/ABNORMAL/mdb080.jpg  \n",
            "  inflating: Mias/ABNORMAL/mdb081.jpg  \n",
            "  inflating: Mias/ABNORMAL/mdb083.jpg  \n",
            "  inflating: Mias/ABNORMAL/mdb090.jpg  \n",
            "  inflating: Mias/ABNORMAL/mdb091.jpg  \n",
            "  inflating: Mias/ABNORMAL/mdb092.jpg  \n",
            "  inflating: Mias/ABNORMAL/mdb095.jpg  \n",
            "  inflating: Mias/ABNORMAL/mdb097.jpg  \n",
            "  inflating: Mias/ABNORMAL/mdb102.jpg  \n",
            "  inflating: Mias/ABNORMAL/mdb104.jpg  \n",
            "  inflating: Mias/ABNORMAL/mdb105.jpg  \n",
            "  inflating: Mias/ABNORMAL/mdb107.jpg  \n",
            "  inflating: Mias/ABNORMAL/mdb110.jpg  \n",
            "  inflating: Mias/ABNORMAL/mdb115.jpg  \n",
            "  inflating: Mias/ABNORMAL/mdb117.jpg  \n",
            "  inflating: Mias/ABNORMAL/mdb120.jpg  \n",
            "  inflating: Mias/ABNORMAL/mdb121.jpg  \n",
            "  inflating: Mias/ABNORMAL/mdb124.jpg  \n",
            "  inflating: Mias/ABNORMAL/mdb125.jpg  \n",
            "  inflating: Mias/ABNORMAL/mdb126.jpg  \n",
            "  inflating: Mias/ABNORMAL/mdb127.jpg  \n",
            "  inflating: Mias/ABNORMAL/mdb130.jpg  \n",
            "  inflating: Mias/ABNORMAL/mdb132.jpg  \n",
            "  inflating: Mias/ABNORMAL/mdb134.jpg  \n",
            "  inflating: Mias/ABNORMAL/mdb141.jpg  \n",
            "  inflating: Mias/ABNORMAL/mdb142.jpg  \n",
            "  inflating: Mias/ABNORMAL/mdb144.jpg  \n",
            "  inflating: Mias/ABNORMAL/mdb145.jpg  \n",
            "  inflating: Mias/ABNORMAL/mdb150.jpg  \n",
            "  inflating: Mias/ABNORMAL/mdb152.jpg  \n",
            "  inflating: Mias/ABNORMAL/mdb155.jpg  \n",
            "  inflating: Mias/ABNORMAL/mdb158.jpg  \n",
            "  inflating: Mias/ABNORMAL/mdb160.jpg  \n",
            "  inflating: Mias/ABNORMAL/mdb163.jpg  \n",
            "  inflating: Mias/ABNORMAL/mdb165.jpg  \n",
            "  inflating: Mias/ABNORMAL/mdb167.jpg  \n",
            "  inflating: Mias/ABNORMAL/mdb170.jpg  \n",
            "  inflating: Mias/ABNORMAL/mdb175.jpg  \n",
            "  inflating: Mias/ABNORMAL/mdb178.jpg  \n",
            "  inflating: Mias/ABNORMAL/mdb179.jpg  \n",
            "  inflating: Mias/ABNORMAL/mdb181.jpg  \n",
            "  inflating: Mias/ABNORMAL/mdb184.jpg  \n",
            "  inflating: Mias/ABNORMAL/mdb186.jpg  \n",
            "  inflating: Mias/ABNORMAL/mdb188.jpg  \n",
            "  inflating: Mias/ABNORMAL/mdb190.jpg  \n",
            "  inflating: Mias/ABNORMAL/mdb191.jpg  \n",
            "  inflating: Mias/ABNORMAL/mdb193.jpg  \n",
            "  inflating: Mias/ABNORMAL/mdb195.jpg  \n",
            "  inflating: Mias/ABNORMAL/mdb199.jpg  \n",
            "  inflating: Mias/ABNORMAL/mdb202.jpg  \n",
            "  inflating: Mias/ABNORMAL/mdb204.jpg  \n",
            "  inflating: Mias/ABNORMAL/mdb206.jpg  \n",
            "  inflating: Mias/ABNORMAL/mdb207.jpg  \n",
            "  inflating: Mias/ABNORMAL/mdb209.jpg  \n",
            "  inflating: Mias/ABNORMAL/mdb211.jpg  \n",
            "  inflating: Mias/ABNORMAL/mdb213.jpg  \n",
            "  inflating: Mias/ABNORMAL/mdb218.jpg  \n",
            "  inflating: Mias/ABNORMAL/mdb219.jpg  \n",
            "  inflating: Mias/ABNORMAL/mdb222.jpg  \n",
            "  inflating: Mias/ABNORMAL/mdb223.jpg  \n",
            "  inflating: Mias/ABNORMAL/mdb226.jpg  \n",
            "  inflating: Mias/ABNORMAL/mdb227.jpg  \n",
            "  inflating: Mias/ABNORMAL/mdb231.jpg  \n",
            "  inflating: Mias/ABNORMAL/mdb236.jpg  \n",
            "  inflating: Mias/ABNORMAL/mdb239.jpg  \n",
            "  inflating: Mias/ABNORMAL/mdb240.jpg  \n",
            "  inflating: Mias/ABNORMAL/mdb244.jpg  \n",
            "  inflating: Mias/ABNORMAL/mdb248.jpg  \n",
            "  inflating: Mias/ABNORMAL/mdb249.jpg  \n",
            "  inflating: Mias/ABNORMAL/mdb252.jpg  \n",
            "  inflating: Mias/ABNORMAL/mdb253.jpg  \n",
            "  inflating: Mias/ABNORMAL/mdb256.jpg  \n",
            "  inflating: Mias/ABNORMAL/mdb264.jpg  \n",
            "  inflating: Mias/ABNORMAL/mdb265.jpg  \n",
            "  inflating: Mias/ABNORMAL/mdb267.jpg  \n",
            "  inflating: Mias/ABNORMAL/mdb270.jpg  \n",
            "  inflating: Mias/ABNORMAL/mdb271.jpg  \n",
            "  inflating: Mias/ABNORMAL/mdb290.jpg  \n",
            "  inflating: Mias/ABNORMAL/mdb312.jpg  \n",
            "  inflating: Mias/ABNORMAL/mdb314.jpg  \n",
            "   creating: Mias/NORMAL/\n",
            "  inflating: Mias/NORMAL/mdb003.jpg  \n",
            "  inflating: Mias/NORMAL/mdb004.jpg  \n",
            "  inflating: Mias/NORMAL/mdb006.jpg  \n",
            "  inflating: Mias/NORMAL/mdb007.jpg  \n",
            "  inflating: Mias/NORMAL/mdb008.jpg  \n",
            "  inflating: Mias/NORMAL/mdb009.jpg  \n",
            "  inflating: Mias/NORMAL/mdb011.jpg  \n",
            "  inflating: Mias/NORMAL/mdb014.jpg  \n",
            "  inflating: Mias/NORMAL/mdb016.jpg  \n",
            "  inflating: Mias/NORMAL/mdb018.jpg  \n",
            "  inflating: Mias/NORMAL/mdb022.jpg  \n",
            "  inflating: Mias/NORMAL/mdb024.jpg  \n",
            "  inflating: Mias/NORMAL/mdb026.jpg  \n",
            "  inflating: Mias/NORMAL/mdb027.jpg  \n",
            "  inflating: Mias/NORMAL/mdb029.jpg  \n",
            "  inflating: Mias/NORMAL/mdb031.jpg  \n",
            "  inflating: Mias/NORMAL/mdb033.jpg  \n",
            "  inflating: Mias/NORMAL/mdb034.jpg  \n",
            "  inflating: Mias/NORMAL/mdb035.jpg  \n",
            "  inflating: Mias/NORMAL/mdb036.jpg  \n",
            "  inflating: Mias/NORMAL/mdb037.jpg  \n",
            "  inflating: Mias/NORMAL/mdb038.jpg  \n",
            "  inflating: Mias/NORMAL/mdb039.jpg  \n",
            "  inflating: Mias/NORMAL/mdb040.jpg  \n",
            "  inflating: Mias/NORMAL/mdb041.jpg  \n",
            "  inflating: Mias/NORMAL/mdb042.jpg  \n",
            "  inflating: Mias/NORMAL/mdb043.jpg  \n",
            "  inflating: Mias/NORMAL/mdb044.jpg  \n",
            "  inflating: Mias/NORMAL/mdb045.jpg  \n",
            "  inflating: Mias/NORMAL/mdb046.jpg  \n",
            "  inflating: Mias/NORMAL/mdb047.jpg  \n",
            "  inflating: Mias/NORMAL/mdb048.jpg  \n",
            "  inflating: Mias/NORMAL/mdb049.jpg  \n",
            "  inflating: Mias/NORMAL/mdb050.jpg  \n",
            "  inflating: Mias/NORMAL/mdb051.jpg  \n",
            "  inflating: Mias/NORMAL/mdb052.jpg  \n",
            "  inflating: Mias/NORMAL/mdb053.jpg  \n",
            "  inflating: Mias/NORMAL/mdb054.jpg  \n",
            "  inflating: Mias/NORMAL/mdb055.jpg  \n",
            "  inflating: Mias/NORMAL/mdb056.jpg  \n",
            "  inflating: Mias/NORMAL/mdb060.jpg  \n",
            "  inflating: Mias/NORMAL/mdb061.jpg  \n",
            "  inflating: Mias/NORMAL/mdb062.jpg  \n",
            "  inflating: Mias/NORMAL/mdb064.jpg  \n",
            "  inflating: Mias/NORMAL/mdb065.jpg  \n",
            "  inflating: Mias/NORMAL/mdb066.jpg  \n",
            "  inflating: Mias/NORMAL/mdb067.jpg  \n",
            "  inflating: Mias/NORMAL/mdb068.jpg  \n",
            "  inflating: Mias/NORMAL/mdb071.jpg  \n",
            "  inflating: Mias/NORMAL/mdb073.jpg  \n",
            "  inflating: Mias/NORMAL/mdb074.jpg  \n",
            "  inflating: Mias/NORMAL/mdb076.jpg  \n",
            "  inflating: Mias/NORMAL/mdb077.jpg  \n",
            "  inflating: Mias/NORMAL/mdb078.jpg  \n",
            "  inflating: Mias/NORMAL/mdb079.jpg  \n",
            "  inflating: Mias/NORMAL/mdb082.jpg  \n",
            "  inflating: Mias/NORMAL/mdb084.jpg  \n",
            "  inflating: Mias/NORMAL/mdb085.jpg  \n",
            "  inflating: Mias/NORMAL/mdb086.jpg  \n",
            "  inflating: Mias/NORMAL/mdb087.jpg  \n",
            "  inflating: Mias/NORMAL/mdb088.jpg  \n",
            "  inflating: Mias/NORMAL/mdb089.jpg  \n",
            "  inflating: Mias/NORMAL/mdb093.jpg  \n",
            "  inflating: Mias/NORMAL/mdb094.jpg  \n",
            "  inflating: Mias/NORMAL/mdb096.jpg  \n",
            "  inflating: Mias/NORMAL/mdb098.jpg  \n",
            "  inflating: Mias/NORMAL/mdb100.jpg  \n",
            "  inflating: Mias/NORMAL/mdb101.jpg  \n",
            "  inflating: Mias/NORMAL/mdb103.jpg  \n",
            "  inflating: Mias/NORMAL/mdb106.jpg  \n",
            "  inflating: Mias/NORMAL/mdb108.jpg  \n",
            "  inflating: Mias/NORMAL/mdb109.jpg  \n",
            "  inflating: Mias/NORMAL/mdb112.jpg  \n",
            "  inflating: Mias/NORMAL/mdb113.jpg  \n",
            "  inflating: Mias/NORMAL/mdb114.jpg  \n",
            "  inflating: Mias/NORMAL/mdb116.jpg  \n",
            "  inflating: Mias/NORMAL/mdb118.jpg  \n",
            "  inflating: Mias/NORMAL/mdb119.jpg  \n",
            "  inflating: Mias/NORMAL/mdb123.jpg  \n",
            "  inflating: Mias/NORMAL/mdb128.jpg  \n",
            "  inflating: Mias/NORMAL/mdb129.jpg  \n",
            "  inflating: Mias/NORMAL/mdb131.jpg  \n",
            "  inflating: Mias/NORMAL/mdb133.jpg  \n",
            "  inflating: Mias/NORMAL/mdb135.jpg  \n",
            "  inflating: Mias/NORMAL/mdb136.jpg  \n",
            "  inflating: Mias/NORMAL/mdb137.jpg  \n",
            "  inflating: Mias/NORMAL/mdb138.jpg  \n",
            "  inflating: Mias/NORMAL/mdb139.jpg  \n",
            "  inflating: Mias/NORMAL/mdb140.jpg  \n",
            "  inflating: Mias/NORMAL/mdb143.jpg  \n",
            "  inflating: Mias/NORMAL/mdb146.jpg  \n",
            "  inflating: Mias/NORMAL/mdb147.jpg  \n",
            "  inflating: Mias/NORMAL/mdb149.jpg  \n",
            "  inflating: Mias/NORMAL/mdb151.jpg  \n",
            "  inflating: Mias/NORMAL/mdb153.jpg  \n",
            "  inflating: Mias/NORMAL/mdb154.jpg  \n",
            "  inflating: Mias/NORMAL/mdb156.jpg  \n",
            "  inflating: Mias/NORMAL/mdb157.jpg  \n",
            "  inflating: Mias/NORMAL/mdb159.jpg  \n",
            "  inflating: Mias/NORMAL/mdb161.jpg  \n",
            "  inflating: Mias/NORMAL/mdb162.jpg  \n",
            "  inflating: Mias/NORMAL/mdb164.jpg  \n",
            "  inflating: Mias/NORMAL/mdb166.jpg  \n",
            "  inflating: Mias/NORMAL/mdb168.jpg  \n",
            "  inflating: Mias/NORMAL/mdb172.jpg  \n",
            "  inflating: Mias/NORMAL/mdb173.jpg  \n",
            "  inflating: Mias/NORMAL/mdb174.jpg  \n",
            "  inflating: Mias/NORMAL/mdb176.jpg  \n",
            "  inflating: Mias/NORMAL/mdb177.jpg  \n",
            "  inflating: Mias/NORMAL/mdb180.jpg  \n",
            "  inflating: Mias/NORMAL/mdb182.jpg  \n",
            "  inflating: Mias/NORMAL/mdb183.jpg  \n",
            "  inflating: Mias/NORMAL/mdb185.jpg  \n",
            "  inflating: Mias/NORMAL/mdb189.jpg  \n",
            "  inflating: Mias/NORMAL/mdb192.jpg  \n",
            "  inflating: Mias/NORMAL/mdb194.jpg  \n",
            "  inflating: Mias/NORMAL/mdb196.jpg  \n",
            "  inflating: Mias/NORMAL/mdb197.jpg  \n",
            "  inflating: Mias/NORMAL/mdb200.jpg  \n",
            "  inflating: Mias/NORMAL/mdb201.jpg  \n",
            "  inflating: Mias/NORMAL/mdb203.jpg  \n",
            "  inflating: Mias/NORMAL/mdb205.jpg  \n",
            "  inflating: Mias/NORMAL/mdb210.jpg  \n",
            "  inflating: Mias/NORMAL/mdb212.jpg  \n",
            "  inflating: Mias/NORMAL/mdb214.jpg  \n",
            "  inflating: Mias/NORMAL/mdb215.jpg  \n",
            "  inflating: Mias/NORMAL/mdb217.jpg  \n",
            "  inflating: Mias/NORMAL/mdb220.jpg  \n",
            "  inflating: Mias/NORMAL/mdb221.jpg  \n",
            "  inflating: Mias/NORMAL/mdb224.jpg  \n",
            "  inflating: Mias/NORMAL/mdb225.jpg  \n",
            "  inflating: Mias/NORMAL/mdb228.jpg  \n",
            "  inflating: Mias/NORMAL/mdb229.jpg  \n",
            "  inflating: Mias/NORMAL/mdb230.jpg  \n",
            "  inflating: Mias/NORMAL/mdb232.jpg  \n",
            "  inflating: Mias/NORMAL/mdb234.jpg  \n",
            "  inflating: Mias/NORMAL/mdb235.jpg  \n",
            "  inflating: Mias/NORMAL/mdb237.jpg  \n",
            "  inflating: Mias/NORMAL/mdb242.jpg  \n",
            "  inflating: Mias/NORMAL/mdb243.jpg  \n",
            "  inflating: Mias/NORMAL/mdb246.jpg  \n",
            "  inflating: Mias/NORMAL/mdb247.jpg  \n",
            "  inflating: Mias/NORMAL/mdb250.jpg  \n",
            "  inflating: Mias/NORMAL/mdb251.jpg  \n",
            "  inflating: Mias/NORMAL/mdb254.jpg  \n",
            "  inflating: Mias/NORMAL/mdb255.jpg  \n",
            "  inflating: Mias/NORMAL/mdb258.jpg  \n",
            "  inflating: Mias/NORMAL/mdb259.jpg  \n",
            "  inflating: Mias/NORMAL/mdb260.jpg  \n",
            "  inflating: Mias/NORMAL/mdb261.jpg  \n",
            "  inflating: Mias/NORMAL/mdb262.jpg  \n",
            "  inflating: Mias/NORMAL/mdb263.jpg  \n",
            "  inflating: Mias/NORMAL/mdb266.jpg  \n",
            "  inflating: Mias/NORMAL/mdb268.jpg  \n",
            "  inflating: Mias/NORMAL/mdb269.jpg  \n",
            "  inflating: Mias/NORMAL/mdb272.jpg  \n",
            "  inflating: Mias/NORMAL/mdb273.jpg  \n",
            "  inflating: Mias/NORMAL/mdb275.jpg  \n",
            "  inflating: Mias/NORMAL/mdb277.jpg  \n",
            "  inflating: Mias/NORMAL/mdb278.jpg  \n",
            "  inflating: Mias/NORMAL/mdb279.jpg  \n",
            "  inflating: Mias/NORMAL/mdb280.jpg  \n",
            "  inflating: Mias/NORMAL/mdb281.jpg  \n",
            "  inflating: Mias/NORMAL/mdb282.jpg  \n",
            "  inflating: Mias/NORMAL/mdb283.jpg  \n",
            "  inflating: Mias/NORMAL/mdb284.jpg  \n",
            "  inflating: Mias/NORMAL/mdb285.jpg  \n",
            "  inflating: Mias/NORMAL/mdb286.jpg  \n",
            "  inflating: Mias/NORMAL/mdb287.jpg  \n",
            "  inflating: Mias/NORMAL/mdb288.jpg  \n",
            "  inflating: Mias/NORMAL/mdb289.jpg  \n",
            "  inflating: Mias/NORMAL/mdb291.jpg  \n",
            "  inflating: Mias/NORMAL/mdb292.jpg  \n",
            "  inflating: Mias/NORMAL/mdb293.jpg  \n",
            "  inflating: Mias/NORMAL/mdb295.jpg  \n",
            "  inflating: Mias/NORMAL/mdb296.jpg  \n",
            "  inflating: Mias/NORMAL/mdb297.jpg  \n",
            "  inflating: Mias/NORMAL/mdb298.jpg  \n",
            "  inflating: Mias/NORMAL/mdb299.jpg  \n",
            "  inflating: Mias/NORMAL/mdb300.jpg  \n",
            "  inflating: Mias/NORMAL/mdb301.jpg  \n",
            "  inflating: Mias/NORMAL/mdb302.jpg  \n",
            "  inflating: Mias/NORMAL/mdb303.jpg  \n",
            "  inflating: Mias/NORMAL/mdb304.jpg  \n",
            "  inflating: Mias/NORMAL/mdb305.jpg  \n",
            "  inflating: Mias/NORMAL/mdb306.jpg  \n",
            "  inflating: Mias/NORMAL/mdb307.jpg  \n",
            "  inflating: Mias/NORMAL/mdb308.jpg  \n",
            "  inflating: Mias/NORMAL/mdb309.jpg  \n",
            "  inflating: Mias/NORMAL/mdb310.jpg  \n",
            "  inflating: Mias/NORMAL/mdb311.jpg  \n",
            "  inflating: Mias/NORMAL/mdb313.jpg  \n",
            "  inflating: Mias/NORMAL/mdb316.jpg  \n",
            "  inflating: Mias/NORMAL/mdb317.jpg  \n",
            "  inflating: Mias/NORMAL/mdb318.jpg  \n",
            "  inflating: Mias/NORMAL/mdb319.jpg  \n",
            "  inflating: Mias/NORMAL/mdb320.jpg  \n",
            "  inflating: Mias/NORMAL/mdb321.jpg  \n"
          ],
          "name": "stdout"
        }
      ]
    },
    {
      "cell_type": "markdown",
      "metadata": {
        "colab_type": "text",
        "id": "GgJBv7qifTC0"
      },
      "source": [
        "In case that FrImCla is not installed in your system, the first task consist in installing using pip."
      ]
    },
    {
      "cell_type": "code",
      "metadata": {
        "colab_type": "code",
        "id": "R2UHXAYlfTC1",
        "outputId": "757bfad9-9c7b-4c8c-ab6a-e37bf99c16c5",
        "colab": {
          "base_uri": "https://localhost:8080/",
          "height": 782
        }
      },
      "source": [
        "!pip3 install frimcla"
      ],
      "execution_count": 0,
      "outputs": [
        {
          "output_type": "stream",
          "text": [
            "Requirement already satisfied: frimcla in /usr/local/lib/python3.6/dist-packages (0.0.543)\n",
            "Requirement already satisfied: matplotlib in /usr/local/lib/python3.6/dist-packages (from frimcla) (3.0.3)\n",
            "Requirement already satisfied: commentjson in /usr/local/lib/python3.6/dist-packages (from frimcla) (0.7.1)\n",
            "Requirement already satisfied: scikit-learn in /usr/local/lib/python3.6/dist-packages (from frimcla) (0.20.3)\n",
            "Requirement already satisfied: Keras==2.1.6 in /usr/local/lib/python3.6/dist-packages (from frimcla) (2.1.6)\n",
            "Requirement already satisfied: pandas in /usr/local/lib/python3.6/dist-packages (from frimcla) (0.22.0)\n",
            "Requirement already satisfied: h5py in /usr/local/lib/python3.6/dist-packages (from frimcla) (2.8.0)\n",
            "Requirement already satisfied: mahotas in /usr/local/lib/python3.6/dist-packages (from frimcla) (1.4.5)\n",
            "Requirement already satisfied: wget in /usr/local/lib/python3.6/dist-packages (from frimcla) (3.2)\n",
            "Requirement already satisfied: theano in /usr/local/lib/python3.6/dist-packages (from frimcla) (1.0.4)\n",
            "Requirement already satisfied: tensorflow in /usr/local/lib/python3.6/dist-packages (from frimcla) (1.13.1)\n",
            "Requirement already satisfied: opencv-python in /usr/local/lib/python3.6/dist-packages (from frimcla) (3.4.5.20)\n",
            "Requirement already satisfied: tabulate in /usr/local/lib/python3.6/dist-packages (from frimcla) (0.8.3)\n",
            "Requirement already satisfied: imutils in /usr/local/lib/python3.6/dist-packages (from frimcla) (0.5.2)\n",
            "Requirement already satisfied: numpy in /usr/local/lib/python3.6/dist-packages (from frimcla) (1.14.6)\n",
            "Requirement already satisfied: scikit-image in /usr/local/lib/python3.6/dist-packages (from frimcla) (0.13.1)\n",
            "Requirement already satisfied: kiwisolver>=1.0.1 in /usr/local/lib/python3.6/dist-packages (from matplotlib->frimcla) (1.0.1)\n",
            "Requirement already satisfied: python-dateutil>=2.1 in /usr/local/lib/python3.6/dist-packages (from matplotlib->frimcla) (2.5.3)\n",
            "Requirement already satisfied: cycler>=0.10 in /usr/local/lib/python3.6/dist-packages (from matplotlib->frimcla) (0.10.0)\n",
            "Requirement already satisfied: pyparsing!=2.0.4,!=2.1.2,!=2.1.6,>=2.0.1 in /usr/local/lib/python3.6/dist-packages (from matplotlib->frimcla) (2.3.1)\n",
            "Requirement already satisfied: scipy>=0.13.3 in /usr/local/lib/python3.6/dist-packages (from scikit-learn->frimcla) (1.1.0)\n",
            "Requirement already satisfied: six>=1.9.0 in /usr/local/lib/python3.6/dist-packages (from Keras==2.1.6->frimcla) (1.11.0)\n",
            "Requirement already satisfied: pyyaml in /usr/local/lib/python3.6/dist-packages (from Keras==2.1.6->frimcla) (3.13)\n",
            "Requirement already satisfied: pytz>=2011k in /usr/local/lib/python3.6/dist-packages (from pandas->frimcla) (2018.9)\n",
            "Requirement already satisfied: protobuf>=3.6.1 in /usr/local/lib/python3.6/dist-packages (from tensorflow->frimcla) (3.7.0)\n",
            "Requirement already satisfied: gast>=0.2.0 in /usr/local/lib/python3.6/dist-packages (from tensorflow->frimcla) (0.2.2)\n",
            "Requirement already satisfied: termcolor>=1.1.0 in /usr/local/lib/python3.6/dist-packages (from tensorflow->frimcla) (1.1.0)\n",
            "Requirement already satisfied: keras-preprocessing>=1.0.5 in /usr/local/lib/python3.6/dist-packages (from tensorflow->frimcla) (1.0.9)\n",
            "Requirement already satisfied: grpcio>=1.8.6 in /usr/local/lib/python3.6/dist-packages (from tensorflow->frimcla) (1.15.0)\n",
            "Requirement already satisfied: wheel>=0.26 in /usr/local/lib/python3.6/dist-packages (from tensorflow->frimcla) (0.33.1)\n",
            "Requirement already satisfied: tensorboard<1.14.0,>=1.13.0 in /usr/local/lib/python3.6/dist-packages (from tensorflow->frimcla) (1.13.1)\n",
            "Requirement already satisfied: astor>=0.6.0 in /usr/local/lib/python3.6/dist-packages (from tensorflow->frimcla) (0.7.1)\n",
            "Requirement already satisfied: tensorflow-estimator<1.14.0rc0,>=1.13.0 in /usr/local/lib/python3.6/dist-packages (from tensorflow->frimcla) (1.13.0)\n",
            "Requirement already satisfied: absl-py>=0.1.6 in /usr/local/lib/python3.6/dist-packages (from tensorflow->frimcla) (0.7.0)\n",
            "Requirement already satisfied: keras-applications>=1.0.6 in /usr/local/lib/python3.6/dist-packages (from tensorflow->frimcla) (1.0.7)\n",
            "Requirement already satisfied: PyWavelets>=0.4.0 in /usr/local/lib/python3.6/dist-packages (from scikit-image->frimcla) (1.0.2)\n",
            "Requirement already satisfied: networkx>=1.8 in /usr/local/lib/python3.6/dist-packages (from scikit-image->frimcla) (2.2)\n",
            "Requirement already satisfied: pillow>=2.1.0 in /usr/local/lib/python3.6/dist-packages (from scikit-image->frimcla) (4.1.1)\n",
            "Requirement already satisfied: setuptools in /usr/local/lib/python3.6/dist-packages (from kiwisolver>=1.0.1->matplotlib->frimcla) (40.8.0)\n",
            "Requirement already satisfied: werkzeug>=0.11.15 in /usr/local/lib/python3.6/dist-packages (from tensorboard<1.14.0,>=1.13.0->tensorflow->frimcla) (0.14.1)\n",
            "Requirement already satisfied: markdown>=2.6.8 in /usr/local/lib/python3.6/dist-packages (from tensorboard<1.14.0,>=1.13.0->tensorflow->frimcla) (3.0.1)\n",
            "Requirement already satisfied: mock>=2.0.0 in /usr/local/lib/python3.6/dist-packages (from tensorflow-estimator<1.14.0rc0,>=1.13.0->tensorflow->frimcla) (2.0.0)\n",
            "Requirement already satisfied: decorator>=4.3.0 in /usr/local/lib/python3.6/dist-packages (from networkx>=1.8->scikit-image->frimcla) (4.3.2)\n",
            "Requirement already satisfied: olefile in /usr/local/lib/python3.6/dist-packages (from pillow>=2.1.0->scikit-image->frimcla) (0.46)\n",
            "Requirement already satisfied: pbr>=0.11 in /usr/local/lib/python3.6/dist-packages (from mock>=2.0.0->tensorflow-estimator<1.14.0rc0,>=1.13.0->tensorflow->frimcla) (5.1.3)\n"
          ],
          "name": "stdout"
        }
      ]
    },
    {
      "cell_type": "markdown",
      "metadata": {
        "colab_type": "text",
        "id": "icKrdbNlfTC8"
      },
      "source": [
        "We need some libraries to execute this framework and obtain the results. "
      ]
    },
    {
      "cell_type": "code",
      "metadata": {
        "colab_type": "code",
        "id": "KjqQB2GGfTC9",
        "outputId": "8984c816-08ee-4035-974d-29b184c7325e",
        "scrolled": true,
        "colab": {
          "base_uri": "https://localhost:8080/",
          "height": 34
        }
      },
      "source": [
        "from frimcla.index_features import generateFeatures\n",
        "from frimcla.StatisticalComparison import statisticalComparison\n",
        "from frimcla.train import train\n",
        "from frimcla.prediction import prediction"
      ],
      "execution_count": 0,
      "outputs": [
        {
          "output_type": "stream",
          "text": [
            "Using TensorFlow backend.\n"
          ],
          "name": "stderr"
        }
      ]
    },
    {
      "cell_type": "markdown",
      "metadata": {
        "colab_type": "text",
        "id": "74pR5g-DfTDC"
      },
      "source": [
        "### Configuring the variables of the program"
      ]
    },
    {
      "cell_type": "markdown",
      "metadata": {
        "colab_type": "text",
        "id": "se0QnVWnfTDD"
      },
      "source": [
        "First of all, we have to indicate the variables that the program need such as the path of the dataset, the models you want to use,..."
      ]
    },
    {
      "cell_type": "code",
      "metadata": {
        "colab_type": "code",
        "id": "2PD094EJfTDE",
        "colab": {}
      },
      "source": [
        "datasetPath = \"./Mias\"\n",
        "outputPath = \"./output\"\n",
        "# featureExtractors = [[\"inception\", \"False\"]]\n",
        "batchSize = 32 \n",
        "verbose = False\n",
        "# modelClassifiers = [ \"MLP\",\"SVM\",\"KNN\"] #You can use MLP, SVM, KNN , LogisticRegression or RandomForest\n",
        "measure = \"accuracy\" #You can use accuracy, f1, auroc, precision or recall \n",
        "trainingSize = 1\n",
        "nSteps=10\n"
      ],
      "execution_count": 0,
      "outputs": []
    },
    {
      "cell_type": "markdown",
      "metadata": {
        "colab_type": "text",
        "id": "9tGVgXnIfTDI"
      },
      "source": [
        "In the next section we have to select the feature extractors that we want to use (It is mandatory to **select at least one option**)"
      ]
    },
    {
      "cell_type": "code",
      "metadata": {
        "id": "oWOoIo0FlEY4",
        "colab_type": "code",
        "colab": {}
      },
      "source": [
        "VGG16 = True #@param {type:\"boolean\"}\n",
        "VGG19 = True #@param {type:\"boolean\"}\n",
        "ResNet = True #@param {type:\"boolean\"}\n",
        "Inception = True #@param {type:\"boolean\"}\n",
        "GoogleNet = True #@param {type:\"boolean\"}\n",
        "Overfeat = True #@param {type:\"boolean\"}\n",
        "Xception = True #@param {type:\"boolean\"}\n",
        "Densenet = True #@param {type:\"boolean\"}\n",
        "LAB888 = True #@param {type:\"boolean\"}\n",
        "LAB444 = True #@param {type:\"boolean\"}\n",
        "HSV888 = True #@param {type:\"boolean\"}\n",
        "HSV444 = True #@param {type:\"boolean\"}\n",
        "Haralick = True #@param {type:\"boolean\"}\n",
        "Hog = True #@param {type:\"boolean\"}\n",
        "Haarhog = True #@param {type:\"boolean\"}\n",
        "\n",
        "featureExtractors = []\n",
        "\n",
        "if VGG19 :\n",
        "  featureExtractors.append([\"vgg19\",\"False\"])\n",
        "if VGG16 :\n",
        "  featureExtractors.append([\"vgg16\",\"False\"])\n",
        "if ResNet :\n",
        "  featureExtractors.append([\"resnet\",\"False\"])\n",
        "if Inception :\n",
        "  featureExtractors.append([\"inception\",\"False\"])\n",
        "if GoogleNet :\n",
        "  featureExtractors.append([\"googlenet\"])\n",
        "if Overfeat :\n",
        "  featureExtractors.append([\"overfeat\",\"[-3]\"])\n",
        "if Xception :\n",
        "  featureExtractors.append([\"xception\",\"False\"])\n",
        "if Densenet :\n",
        "  featureExtractors.append([\"densenet\"])\n",
        "if LAB888 :\n",
        "  featureExtractors.append([\"lab888\"])\n",
        "if LAB444 :\n",
        "  featureExtractors.append([\"lab444\",\"4,4,4\"])\n",
        "if HSV888 :\n",
        "  featureExtractors.append([\"hsv888\"])\n",
        "if HSV444 :\n",
        "  featureExtractors.append([\"hsv444\",\"4,4,4\"])\n",
        "if Haralick :\n",
        "  featureExtractors.append([\"haralick\"])\n",
        "if Hog :\n",
        "  featureExtractors.append([\"hog\"])\n",
        "if Haarhog :\n",
        "  featureExtractors.append([\"haarhog\"])"
      ],
      "execution_count": 0,
      "outputs": []
    },
    {
      "cell_type": "markdown",
      "metadata": {
        "id": "8hUEaglalJE5",
        "colab_type": "text"
      },
      "source": [
        "Now we have to indicate the classifier models that we want to use (It is mandatory to **select at least one option**)"
      ]
    },
    {
      "cell_type": "code",
      "metadata": {
        "id": "Uvb6ZdnmlJha",
        "colab_type": "code",
        "colab": {}
      },
      "source": [
        "MLP = True #@param {type:\"boolean\"}\n",
        "SVM = True #@param {type:\"boolean\"}\n",
        "KNN = True #@param {type:\"boolean\"}\n",
        "LogisticRegression = True #@param {type:\"boolean\"}\n",
        "GradientBoost = True #@param {type:\"boolean\"}\n",
        "RandomForest = True #@param {type:\"boolean\"}\n",
        "\n",
        "modelClassifiers = []\n",
        "\n",
        "\n",
        "if MLP :\n",
        "  modelClassifiers.append(\"MLP\")\n",
        "if SVM :\n",
        "  modelClassifiers.append(\"SVM\")\n",
        "if KNN :\n",
        "  modelClassifiers.append(\"KNN\")\n",
        "if LogisticRegression :\n",
        "  modelClassifiers.append(\"LogisticRegression\")\n",
        "if GradientBoost :\n",
        "  modelClassifiers.append(\"GradientBoost\")\n",
        "if RandomForest :\n",
        "  modelClassifiers.append(\"RandomForest\")"
      ],
      "execution_count": 0,
      "outputs": []
    },
    {
      "cell_type": "markdown",
      "metadata": {
        "colab_type": "text",
        "id": "N6HADHBKfTDJ"
      },
      "source": [
        "### Generating the features"
      ]
    },
    {
      "cell_type": "markdown",
      "metadata": {
        "colab_type": "text",
        "id": "K--fenI9fTDL"
      },
      "source": [
        "At this step we stored the features of each image of the dataset. These features depend on the model used at this moment because each model stores different features of the image. "
      ]
    },
    {
      "cell_type": "code",
      "metadata": {
        "colab_type": "code",
        "id": "TVzzyegcfTDM",
        "outputId": "04fe3328-be7f-4ae9-c0ee-2d0b44c13e83",
        "colab": {
          "base_uri": "https://localhost:8080/",
          "height": 241
        }
      },
      "source": [
        "generateFeatures(outputPath, batchSize, datasetPath, featureExtractors, verbose)"
      ],
      "execution_count": 0,
      "outputs": [
        {
          "output_type": "stream",
          "text": [
            "[INFO] loading ['inception', 'False']...\n",
            "WARNING:tensorflow:From /usr/local/lib/python3.6/dist-packages/tensorflow/python/framework/op_def_library.py:263: colocate_with (from tensorflow.python.framework.ops) is deprecated and will be removed in a future version.\n",
            "Instructions for updating:\n",
            "Colocations handled automatically by placer.\n",
            "[WARN] minimum init buffer not reached - 2019-03-19 10:32:12.911769\n",
            "[INFO] creating datasets... - 2019-03-19 10:32:12.911958\n",
            "[INFO] writing un-empty buffers... - 2019-03-19 10:32:12.913071\n",
            "[INFO] writing `image_ids` buffer - 2019-03-19 10:32:12.913235\n",
            "[INFO] writing `features` buffer - 2019-03-19 10:32:12.914783\n",
            "[INFO] compacting datasets... - 2019-03-19 10:32:12.918660\n",
            "[INFO] old size of `image_ids`: 296; new size: 296 - 2019-03-19 10:32:12.918833\n",
            "[INFO] old size of `features`: 296; new size: 296 - 2019-03-19 10:32:12.918912\n"
          ],
          "name": "stdout"
        }
      ]
    },
    {
      "cell_type": "markdown",
      "metadata": {
        "colab_type": "text",
        "id": "YpuChZiCfTDR"
      },
      "source": [
        "### Statistical analysis"
      ]
    },
    {
      "cell_type": "markdown",
      "metadata": {
        "colab_type": "text",
        "id": "XVq3arDsfTDT"
      },
      "source": [
        "Now with the features of all the images of each model we can perform a statistical analysis to know which of this models has the best performace."
      ]
    },
    {
      "cell_type": "code",
      "metadata": {
        "colab_type": "code",
        "id": "Gj1DQ88PfTDV",
        "outputId": "7a39b706-9e6d-479a-e063-a52591a3b1ea",
        "colab": {
          "base_uri": "https://localhost:8080/",
          "height": 755
        }
      },
      "source": [
        "statisticalComparison(outputPath, datasetPath, featureExtractors, modelClassifiers, measure, nSteps, verbose)"
      ],
      "execution_count": 0,
      "outputs": [
        {
          "output_type": "display_data",
          "data": {
            "image/png": "[encoded data removed]",
            "text/plain": [
              "<Figure size 576x396 with 1 Axes>"
            ]
          },
          "metadata": {
            "tags": []
          }
        },
        {
          "output_type": "display_data",
          "data": {
            "image/png": "[encoded data removed]",
            "text/plain": [
              "<Figure size 576x396 with 1 Axes>"
            ]
          },
          "metadata": {
            "tags": []
          }
        }
      ]
    },
    {
      "cell_type": "markdown",
      "metadata": {
        "colab_type": "text",
        "id": "-FkkzGCGfTDc"
      },
      "source": [
        "### Train the model"
      ]
    },
    {
      "cell_type": "markdown",
      "metadata": {
        "colab_type": "text",
        "id": "D4oP9OPPfTDd"
      },
      "source": [
        "The study gives us as result the best model and indicates if there are significant differences between this and the rest of the models. With this information, we can train the best model and return as a result of the framework to the user.\n",
        "\n",
        "In this function FrImCla asks the user if he/she wants a web application or not (Y if the user wants the webapp). This web application uses the best model selected by FrImCla for this problem. The application generated is very simple and only contains a text box and a button to predict the class of new images. FrImCla generates a zip file that must be decompressed to be used. Inside the folder the user has to open a new terminal in this path and run the following command:\n",
        "\n",
        "`python3 FlaskApp/app.py`\n",
        "\n",
        "The comand executes the web application in http://localhost:5000/ To use the application the user has to write open the link in his/her browser."
      ]
    },
    {
      "cell_type": "code",
      "metadata": {
        "colab_type": "code",
        "id": "rDsLLwmafTDe",
        "outputId": "3d0c2ff5-4d9c-4e7d-9446-51727a1de62b",
        "colab": {
          "base_uri": "https://localhost:8080/",
          "height": 119
        }
      },
      "source": [
        "train(outputPath, datasetPath, trainingSize)"
      ],
      "execution_count": 0,
      "outputs": [
        {
          "output_type": "stream",
          "text": [
            "[INFO] gathering train/test splits...\n",
            "[INFO] tuning hyperparameters...\n",
            "[INFO] best hyperparameters: {'kernel': 'linear', 'gamma': 0.0001, 'C': 1000}\n",
            "[INFO] dumping classifier...\n",
            "Do you want to generate a web app to classify the images with the best combination? y/n\n",
            "y\n"
          ],
          "name": "stdout"
        }
      ]
    },
    {
      "cell_type": "markdown",
      "metadata": {
        "colab_type": "text",
        "id": "RU8fmtbffTDi"
      },
      "source": [
        "### Predict the class of the images"
      ]
    },
    {
      "cell_type": "markdown",
      "metadata": {
        "colab_type": "text",
        "id": "8u6mLgC8fTDj"
      },
      "source": [
        "Finally, we have the best model and we can use it to predict the class of our images. To do this we have to use the following command and we have to define the feature extractor and the classifier."
      ]
    },
    {
      "cell_type": "code",
      "metadata": {
        "colab_type": "code",
        "id": "dYh9iMmTfTDk",
        "outputId": "54e03858-82c0-4a9e-ee2d-9f836a19900e",
        "colab": {
          "base_uri": "https://localhost:8080/",
          "height": 306
        }
      },
      "source": [
        "image = \"./Mias/NORMAL/mdb035.jpg\"\n",
        "featExt = [\"inception\", \"False\"]\n",
        "classi = \"MLP\"\n",
        "prediction(featExt, classi, image, outputPath, datasetPath)"
      ],
      "execution_count": 0,
      "outputs": [
        {
          "output_type": "stream",
          "text": [
            "[INFO] loading model...\n",
            "This is not the best model. Are you sure you want to predict with it?\n",
            "y\n"
          ],
          "name": "stdout"
        },
        {
          "output_type": "stream",
          "text": [
            "/usr/local/lib/python3.6/dist-packages/sklearn/neural_network/multilayer_perceptron.py:562: ConvergenceWarning: Stochastic Optimizer: Maximum iterations (200) reached and the optimization hasn't converged yet.\n",
            "  % self.max_iter, ConvergenceWarning)\n",
            "/usr/local/lib/python3.6/dist-packages/sklearn/neural_network/multilayer_perceptron.py:562: ConvergenceWarning: Stochastic Optimizer: Maximum iterations (200) reached and the optimization hasn't converged yet.\n",
            "  % self.max_iter, ConvergenceWarning)\n",
            "/usr/local/lib/python3.6/dist-packages/sklearn/neural_network/multilayer_perceptron.py:562: ConvergenceWarning: Stochastic Optimizer: Maximum iterations (200) reached and the optimization hasn't converged yet.\n",
            "  % self.max_iter, ConvergenceWarning)\n",
            "/usr/local/lib/python3.6/dist-packages/sklearn/neural_network/multilayer_perceptron.py:562: ConvergenceWarning: Stochastic Optimizer: Maximum iterations (200) reached and the optimization hasn't converged yet.\n",
            "  % self.max_iter, ConvergenceWarning)\n",
            "/usr/local/lib/python3.6/dist-packages/sklearn/neural_network/multilayer_perceptron.py:562: ConvergenceWarning: Stochastic Optimizer: Maximum iterations (200) reached and the optimization hasn't converged yet.\n",
            "  % self.max_iter, ConvergenceWarning)\n",
            "/usr/local/lib/python3.6/dist-packages/sklearn/neural_network/multilayer_perceptron.py:562: ConvergenceWarning: Stochastic Optimizer: Maximum iterations (200) reached and the optimization hasn't converged yet.\n",
            "  % self.max_iter, ConvergenceWarning)\n"
          ],
          "name": "stderr"
        },
        {
          "output_type": "stream",
          "text": [
            "[INFO] loading ['inception', 'False']...\n",
            "[INFO] class predicted for the image NORMAL:mdb035.jpg: ['NORMAL']\n"
          ],
          "name": "stdout"
        }
      ]
    },
    {
      "cell_type": "code",
      "metadata": {
        "colab_type": "code",
        "id": "hZdfLLy-fTDp",
        "outputId": "e031d972-b4d0-4d6d-ca2b-f30c856e2c6d",
        "colab": {
          "base_uri": "https://localhost:8080/",
          "height": 51
        }
      },
      "source": [
        "!cat output/Mias/predictionResults.csv"
      ],
      "execution_count": 0,
      "outputs": [
        {
          "output_type": "stream",
          "text": [
            "image_id, /Mias\n",
            "NORMAL:mdb035.jpg, 1\r\n"
          ],
          "name": "stdout"
        }
      ]
    }
  ]
}