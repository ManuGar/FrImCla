{
 "cells": [
  {
   "cell_type": "markdown",
   "metadata": {},
   "source": [
    "# How to study the MIAS dataset"
   ]
  },
  {
   "cell_type": "markdown",
   "metadata": {},
   "source": [
    "In this notebook, we illustrate how FrImCla can be employed to classify images. We have to train the framework to make these classifications. In particular, we use the datset provided for the Mammographic Image Analysis Society (MIAS) - from now on we will call this dataset, the MIAS dataset.\n",
    "\n",
    "The MIAS dataset consist in 322 mammographic images, including 113 images with abnormalities and 209 without abnormalities. You can find more information in the following link: \n",
    "\n",
    "https://www.repository.cam.ac.uk/handle/1810/250394\n",
    "\n",
    "This dataset can be downloaded by executing the following command."
   ]
  },
  {
   "cell_type": "code",
   "execution_count": 1,
   "metadata": {},
   "outputs": [
    {
     "name": "stdout",
     "output_type": "stream",
     "text": [
      "--2019-03-13 09:53:02--  https://drive.google.com/uc?id=1ZApIHn-EvoQ6sdgJWhgfM3rmEEXWvXRJ&export=download&authuser=0\n",
      "Resolviendo drive.google.com (drive.google.com)... 216.58.210.174, 2a00:1450:4003:808::200e\n",
      "Conectando con drive.google.com (drive.google.com)[216.58.210.174]:443... conectado.\n",
      "Petición HTTP enviada, esperando respuesta... 302 Moved Temporarily\n",
      "Ubicación: https://drive.google.com/uc?id=1ZApIHn-EvoQ6sdgJWhgfM3rmEEXWvXRJ&export=download [siguiente]\n",
      "--2019-03-13 09:53:02--  https://drive.google.com/uc?id=1ZApIHn-EvoQ6sdgJWhgfM3rmEEXWvXRJ&export=download\n",
      "Reutilizando la conexión con drive.google.com:443.\n",
      "Petición HTTP enviada, esperando respuesta... 302 Moved Temporarily\n",
      "Ubicación: https://doc-0g-3s-docs.googleusercontent.com/docs/securesc/ha0ro937gcuc7l7deffksulhg5h7mbp1/ub39iitln3qn0c09uk7od4a1gppeqsm7/1552464000000/05147614325801676241/*/1ZApIHn-EvoQ6sdgJWhgfM3rmEEXWvXRJ?e=download [siguiente]\n",
      "Aviso: HTTP no permite comodines.\n",
      "--2019-03-13 09:53:06--  https://doc-0g-3s-docs.googleusercontent.com/docs/securesc/ha0ro937gcuc7l7deffksulhg5h7mbp1/ub39iitln3qn0c09uk7od4a1gppeqsm7/1552464000000/05147614325801676241/*/1ZApIHn-EvoQ6sdgJWhgfM3rmEEXWvXRJ?e=download\n",
      "Resolviendo doc-0g-3s-docs.googleusercontent.com (doc-0g-3s-docs.googleusercontent.com)... 216.58.210.129, 2a00:1450:4003:807::2001\n",
      "Conectando con doc-0g-3s-docs.googleusercontent.com (doc-0g-3s-docs.googleusercontent.com)[216.58.210.129]:443... conectado.\n",
      "Petición HTTP enviada, esperando respuesta... 200 OK\n",
      "Longitud: no especificado [application/zip]\n",
      "Guardando como: “mias.zip”\n",
      "\n",
      "mias.zip                [ <=>                ]   2,82M  17,0MB/s    en 0,2s    \n",
      "\n",
      "2019-03-13 09:53:06 (17,0 MB/s) - “mias.zip” guardado [2955320]\n",
      "\n",
      "Archive:  mias.zip\n",
      "replace Mias/ABNORMAL/mdb001.jpg? [y]es, [n]o, [A]ll, [N]one, [r]ename: ^C\n"
     ]
    }
   ],
   "source": [
    "!wget \"https://drive.google.com/uc?id=1ZApIHn-EvoQ6sdgJWhgfM3rmEEXWvXRJ&export=download&authuser=0\" -O mias.zip\n",
    "!unzip mias.zip"
   ]
  },
  {
   "cell_type": "markdown",
   "metadata": {},
   "source": [
    "In case that FrImCla is not installed in your system, the first task consist in installing using pip."
   ]
  },
  {
   "cell_type": "code",
   "execution_count": 1,
   "metadata": {},
   "outputs": [
    {
     "name": "stdout",
     "output_type": "stream",
     "text": [
      "Requirement already satisfied: frimcla in /home/magarcd/Escritorio/frimcla (0.0.539)\n",
      "Requirement already satisfied: opencv-python in /usr/local/lib/python3.6/dist-packages (from frimcla) (4.0.0.21)\n",
      "Requirement already satisfied: mahotas in /usr/local/lib/python3.6/dist-packages (from frimcla) (1.4.5)\n",
      "Requirement already satisfied: pandas in /usr/local/lib/python3.6/dist-packages (from frimcla) (0.24.1)\n",
      "Requirement already satisfied: imutils in /usr/local/lib/python3.6/dist-packages (from frimcla) (0.4.6)\n",
      "Requirement already satisfied: scikit-image in /usr/local/lib/python3.6/dist-packages (from frimcla) (0.14.2)\n",
      "Requirement already satisfied: tabulate in /usr/local/lib/python3.6/dist-packages (from frimcla) (0.8.3)\n",
      "Requirement already satisfied: tensorflow in /usr/local/lib/python3.6/dist-packages (from frimcla) (1.13.1)\n",
      "Requirement already satisfied: matplotlib in /usr/local/lib/python3.6/dist-packages (from frimcla) (3.0.3)\n",
      "Requirement already satisfied: Keras==2.1.6 in /usr/local/lib/python3.6/dist-packages (from frimcla) (2.1.6)\n",
      "Requirement already satisfied: commentjson in /usr/local/lib/python3.6/dist-packages (from frimcla) (0.7.1)\n",
      "Requirement already satisfied: theano in /usr/local/lib/python3.6/dist-packages (from frimcla) (1.0.4)\n",
      "Requirement already satisfied: h5py in /usr/local/lib/python3.6/dist-packages (from frimcla) (2.9.0)\n",
      "Requirement already satisfied: wget in /usr/local/lib/python3.6/dist-packages (from frimcla) (3.2)\n",
      "Requirement already satisfied: numpy in /usr/lib/python3/dist-packages (from frimcla) (1.13.3)\n",
      "Requirement already satisfied: scikit-learn in /usr/local/lib/python3.6/dist-packages (from frimcla) (0.20.3)\n",
      "Requirement already satisfied: python-dateutil>=2.5.0 in /usr/local/lib/python3.6/dist-packages (from pandas->frimcla) (2.8.0)\n",
      "Requirement already satisfied: pytz>=2011k in /usr/lib/python3/dist-packages (from pandas->frimcla) (2018.3)\n",
      "Requirement already satisfied: PyWavelets>=0.4.0 in /usr/local/lib/python3.6/dist-packages (from scikit-image->frimcla) (1.0.2)\n",
      "Requirement already satisfied: scipy>=0.17.0 in /usr/local/lib/python3.6/dist-packages (from scikit-image->frimcla) (1.2.1)\n",
      "Requirement already satisfied: networkx>=1.8 in /usr/local/lib/python3.6/dist-packages (from scikit-image->frimcla) (2.2)\n",
      "Requirement already satisfied: pillow>=4.3.0 in /usr/lib/python3/dist-packages (from scikit-image->frimcla) (5.1.0)\n",
      "Requirement already satisfied: six>=1.10.0 in /usr/lib/python3/dist-packages (from scikit-image->frimcla) (1.11.0)\n",
      "Requirement already satisfied: cloudpickle>=0.2.1 in /usr/local/lib/python3.6/dist-packages (from scikit-image->frimcla) (0.8.0)\n",
      "Requirement already satisfied: dask[array]>=1.0.0 in /usr/local/lib/python3.6/dist-packages (from scikit-image->frimcla) (1.1.3)\n",
      "Requirement already satisfied: protobuf>=3.6.1 in /usr/local/lib/python3.6/dist-packages (from tensorflow->frimcla) (3.7.0)\n",
      "Requirement already satisfied: gast>=0.2.0 in /usr/local/lib/python3.6/dist-packages (from tensorflow->frimcla) (0.2.2)\n",
      "Requirement already satisfied: absl-py>=0.1.6 in /usr/local/lib/python3.6/dist-packages (from tensorflow->frimcla) (0.7.0)\n",
      "Requirement already satisfied: tensorflow-estimator<1.14.0rc0,>=1.13.0 in /usr/local/lib/python3.6/dist-packages (from tensorflow->frimcla) (1.13.0)\n",
      "Requirement already satisfied: keras-preprocessing>=1.0.5 in /usr/local/lib/python3.6/dist-packages (from tensorflow->frimcla) (1.0.9)\n",
      "Requirement already satisfied: keras-applications>=1.0.6 in /usr/local/lib/python3.6/dist-packages (from tensorflow->frimcla) (1.0.7)\n",
      "Requirement already satisfied: tensorboard<1.14.0,>=1.13.0 in /usr/local/lib/python3.6/dist-packages (from tensorflow->frimcla) (1.13.0)\n",
      "Requirement already satisfied: grpcio>=1.8.6 in /usr/local/lib/python3.6/dist-packages (from tensorflow->frimcla) (1.19.0)\n",
      "Requirement already satisfied: astor>=0.6.0 in /usr/local/lib/python3.6/dist-packages (from tensorflow->frimcla) (0.7.1)\n",
      "Requirement already satisfied: wheel>=0.26 in /usr/lib/python3/dist-packages (from tensorflow->frimcla) (0.30.0)\n",
      "Requirement already satisfied: termcolor>=1.1.0 in /usr/local/lib/python3.6/dist-packages (from tensorflow->frimcla) (1.1.0)\n",
      "Requirement already satisfied: pyparsing!=2.0.4,!=2.1.2,!=2.1.6,>=2.0.1 in /usr/local/lib/python3.6/dist-packages (from matplotlib->frimcla) (2.3.1)\n",
      "Requirement already satisfied: cycler>=0.10 in /usr/local/lib/python3.6/dist-packages (from matplotlib->frimcla) (0.10.0)\n",
      "Requirement already satisfied: kiwisolver>=1.0.1 in /usr/local/lib/python3.6/dist-packages (from matplotlib->frimcla) (1.0.1)\n",
      "Requirement already satisfied: pyyaml in /usr/lib/python3/dist-packages (from Keras==2.1.6->frimcla) (3.12)\n",
      "Requirement already satisfied: decorator>=4.3.0 in /usr/local/lib/python3.6/dist-packages (from networkx>=1.8->scikit-image->frimcla) (4.3.2)\n",
      "Requirement already satisfied: toolz>=0.7.3; extra == \"array\" in /usr/local/lib/python3.6/dist-packages (from dask[array]>=1.0.0->scikit-image->frimcla) (0.9.0)\n",
      "Requirement already satisfied: setuptools in /usr/lib/python3/dist-packages (from protobuf>=3.6.1->tensorflow->frimcla) (39.0.1)\n",
      "Requirement already satisfied: mock>=2.0.0 in /usr/local/lib/python3.6/dist-packages (from tensorflow-estimator<1.14.0rc0,>=1.13.0->tensorflow->frimcla) (2.0.0)\n",
      "Requirement already satisfied: markdown>=2.6.8 in /usr/local/lib/python3.6/dist-packages (from tensorboard<1.14.0,>=1.13.0->tensorflow->frimcla) (3.0.1)\n",
      "Requirement already satisfied: werkzeug>=0.11.15 in /usr/local/lib/python3.6/dist-packages (from tensorboard<1.14.0,>=1.13.0->tensorflow->frimcla) (0.14.1)\n",
      "Requirement already satisfied: pbr>=0.11 in /usr/local/lib/python3.6/dist-packages (from mock>=2.0.0->tensorflow-estimator<1.14.0rc0,>=1.13.0->tensorflow->frimcla) (5.1.3)\n"
     ]
    }
   ],
   "source": [
    "!pip install frimcla"
   ]
  },
  {
   "cell_type": "markdown",
   "metadata": {},
   "source": [
    "This time we have to go through the process of study the best model of the melanoma dataset (with a technique called data augmentation)."
   ]
  },
  {
   "cell_type": "markdown",
   "metadata": {},
   "source": [
    "We need some libraries to execute this framework and obtain the results. "
   ]
  },
  {
   "cell_type": "code",
   "execution_count": 12,
   "metadata": {
    "scrolled": true
   },
   "outputs": [],
   "source": [
    "from frimcla.index_features import generateFeatures\n",
    "from frimcla.StatisticalComparison import statisticalComparison\n",
    "from frimcla.train import train\n",
    "from frimcla.prediction import prediction"
   ]
  },
  {
   "cell_type": "markdown",
   "metadata": {},
   "source": [
    "### Configuring the variables of the program"
   ]
  },
  {
   "cell_type": "markdown",
   "metadata": {},
   "source": [
    "First of all, we have to indicate the variables that the program need such as the path of the dataset, the models you want to use,..."
   ]
  },
  {
   "cell_type": "code",
   "execution_count": 8,
   "metadata": {},
   "outputs": [],
   "source": [
    "datasetPath = \"./Mias\"\n",
    "outputPath = \"./output\"\n",
    "featureExtractors = [[\"inception\", \"False\"]]\n",
    "batchSize = 32 \n",
    "verbose = False\n",
    "modelClassifiers = [ \"MLP\",\"SVM\",\"KNN\"] #You can use MLP, SVM, KNN , LogisticRegression or RandomForest\n",
    "measure = \"accuracy\" #You can use accuracy, f1, auroc, precision or recall \n",
    "trainingSize = 1\n",
    "nSteps=10\n"
   ]
  },
  {
   "cell_type": "markdown",
   "metadata": {},
   "source": [
    "This variables are used to configure the envoirement of the program. We have to know where the user wants to store de results or where is the dataset that user wants to study."
   ]
  },
  {
   "cell_type": "markdown",
   "metadata": {},
   "source": [
    "### Generating the features"
   ]
  },
  {
   "cell_type": "markdown",
   "metadata": {},
   "source": [
    "At this step we stored the features of each image of the dataset. These features depend on the model used at this moment because each model stores different features of the image. "
   ]
  },
  {
   "cell_type": "code",
   "execution_count": 6,
   "metadata": {},
   "outputs": [
    {
     "name": "stdout",
     "output_type": "stream",
     "text": [
      "[INFO] loading ['inception', 'False']...\n",
      "[WARN] minimum init buffer not reached - 2019-03-13 09:56:52.104893\n",
      "[INFO] creating datasets... - 2019-03-13 09:56:52.105005\n",
      "[INFO] writing un-empty buffers... - 2019-03-13 09:56:52.105821\n",
      "[INFO] writing `image_ids` buffer - 2019-03-13 09:56:52.105894\n",
      "[INFO] writing `features` buffer - 2019-03-13 09:56:52.106428\n",
      "[INFO] compacting datasets... - 2019-03-13 09:56:52.109310\n",
      "[INFO] old size of `image_ids`: 296; new size: 296 - 2019-03-13 09:56:52.110029\n",
      "[INFO] old size of `features`: 296; new size: 296 - 2019-03-13 09:56:52.110104\n"
     ]
    }
   ],
   "source": [
    "generateFeatures(outputPath, batchSize, datasetPath, featureExtractors, verbose)"
   ]
  },
  {
   "cell_type": "markdown",
   "metadata": {},
   "source": [
    "### Statistical analysis"
   ]
  },
  {
   "cell_type": "markdown",
   "metadata": {},
   "source": [
    "Now with the features of all the images of each model we can perform a statistical analysis to know which of this models has the best performace."
   ]
  },
  {
   "cell_type": "code",
   "execution_count": 9,
   "metadata": {},
   "outputs": [
    {
     "name": "stderr",
     "output_type": "stream",
     "text": [
      "/usr/local/lib/python3.6/dist-packages/scipy/stats/morestats.py:2778: UserWarning: Warning: sample size too small for normal approximation.\n",
      "  warnings.warn(\"Warning: sample size too small for normal approximation.\")\n"
     ]
    },
    {
     "data": {
      "image/png": "[encoded data removed]",
      "text/plain": [
       "<Figure size 432x288 with 1 Axes>"
      ]
     },
     "metadata": {
      "needs_background": "light"
     },
     "output_type": "display_data"
    },
    {
     "data": {
      "image/png": "[encoded data removed]",
      "text/plain": [
       "<Figure size 432x288 with 1 Axes>"
      ]
     },
     "metadata": {
      "needs_background": "light"
     },
     "output_type": "display_data"
    }
   ],
   "source": [
    "statisticalComparison(outputPath, datasetPath, featureExtractors, modelClassifiers, measure, nSteps, verbose)"
   ]
  },
  {
   "cell_type": "markdown",
   "metadata": {},
   "source": [
    "### Train the model"
   ]
  },
  {
   "cell_type": "markdown",
   "metadata": {},
   "source": [
    "The study gives us as result the best model and indicates if there are significant differences between this and the rest of the models. With this information, we can train the best model and return as a result of the framework to the user."
   ]
  },
  {
   "cell_type": "code",
   "execution_count": 10,
   "metadata": {},
   "outputs": [
    {
     "name": "stdout",
     "output_type": "stream",
     "text": [
      "[INFO] gathering train/test splits...\n",
      "[INFO] tuning hyperparameters...\n",
      "[INFO] best hyperparameters: {'kernel': 'linear', 'gamma': 0.001, 'C': 1000}\n",
      "[INFO] dumping classifier...\n",
      "Do you want to generate a web app to classify the images with the best combination? y/n\n",
      "y\n"
     ]
    }
   ],
   "source": [
    "train(outputPath, datasetPath, trainingSize)"
   ]
  },
  {
   "cell_type": "markdown",
   "metadata": {},
   "source": [
    "### Predict the class of the images"
   ]
  },
  {
   "cell_type": "markdown",
   "metadata": {},
   "source": [
    "Finally, we have the best model and we can use it to predict the class of our images. To do this we have to use the following command and we have to define the feature extractor and the classifier."
   ]
  },
  {
   "cell_type": "code",
   "execution_count": 13,
   "metadata": {},
   "outputs": [
    {
     "name": "stdout",
     "output_type": "stream",
     "text": [
      "[INFO] loading model...\n",
      "This is not the best model. Are you sure you want to predict with it?\n",
      "y\n"
     ]
    },
    {
     "ename": "IndexError",
     "evalue": "list index out of range",
     "output_type": "error",
     "traceback": [
      "\u001b[0;31m---------------------------------------------------------------------------\u001b[0m",
      "\u001b[0;31mIndexError\u001b[0m                                Traceback (most recent call last)",
      "\u001b[0;32m<ipython-input-13-d4afa10826f3>\u001b[0m in \u001b[0;36m<module>\u001b[0;34m\u001b[0m\n\u001b[1;32m      2\u001b[0m \u001b[0mfeatExt\u001b[0m \u001b[0;34m=\u001b[0m \u001b[0;34m[\u001b[0m\u001b[0;34m\"inception\"\u001b[0m\u001b[0;34m,\u001b[0m \u001b[0;34m\"False\"\u001b[0m\u001b[0;34m]\u001b[0m\u001b[0;34m\u001b[0m\u001b[0;34m\u001b[0m\u001b[0m\n\u001b[1;32m      3\u001b[0m \u001b[0mclassi\u001b[0m \u001b[0;34m=\u001b[0m \u001b[0;34m\"MLP\"\u001b[0m\u001b[0;34m\u001b[0m\u001b[0;34m\u001b[0m\u001b[0m\n\u001b[0;32m----> 4\u001b[0;31m \u001b[0mprediction\u001b[0m\u001b[0;34m(\u001b[0m\u001b[0mfeatExt\u001b[0m\u001b[0;34m,\u001b[0m \u001b[0mclassi\u001b[0m\u001b[0;34m,\u001b[0m \u001b[0mimage\u001b[0m\u001b[0;34m,\u001b[0m \u001b[0moutputPath\u001b[0m\u001b[0;34m,\u001b[0m \u001b[0mdatasetPath\u001b[0m\u001b[0;34m)\u001b[0m\u001b[0;34m\u001b[0m\u001b[0;34m\u001b[0m\u001b[0m\n\u001b[0m",
      "\u001b[0;32m~/Escritorio/frimcla/frimcla/prediction.py\u001b[0m in \u001b[0;36mprediction\u001b[0;34m(featExt, classi, imagePath, outputPath, datasetPath)\u001b[0m\n\u001b[1;32m     44\u001b[0m             \u001b[0;32mfor\u001b[0m \u001b[0m_\u001b[0m\u001b[0;34m,\u001b[0m \u001b[0m_\u001b[0m\u001b[0;34m,\u001b[0m \u001b[0mfile\u001b[0m \u001b[0;32min\u001b[0m \u001b[0mfiles\u001b[0m\u001b[0;34m:\u001b[0m\u001b[0;34m\u001b[0m\u001b[0;34m\u001b[0m\u001b[0m\n\u001b[1;32m     45\u001b[0m                 \u001b[0;32mfor\u001b[0m \u001b[0mfeat\u001b[0m \u001b[0;32min\u001b[0m \u001b[0mfile\u001b[0m\u001b[0;34m:\u001b[0m\u001b[0;34m\u001b[0m\u001b[0;34m\u001b[0m\u001b[0m\n\u001b[0;32m---> 46\u001b[0;31m                     \u001b[0mfeat\u001b[0m \u001b[0;34m=\u001b[0m \u001b[0mfeat\u001b[0m\u001b[0;34m.\u001b[0m\u001b[0msplit\u001b[0m\u001b[0;34m(\u001b[0m\u001b[0;34m\"-\"\u001b[0m\u001b[0;34m)\u001b[0m\u001b[0;34m[\u001b[0m\u001b[0;36m1\u001b[0m\u001b[0;34m]\u001b[0m\u001b[0;34m.\u001b[0m\u001b[0msplit\u001b[0m\u001b[0;34m(\u001b[0m\u001b[0;34m\".\"\u001b[0m\u001b[0;34m)\u001b[0m\u001b[0;34m[\u001b[0m\u001b[0;36m0\u001b[0m\u001b[0;34m]\u001b[0m\u001b[0;34m\u001b[0m\u001b[0;34m\u001b[0m\u001b[0m\n\u001b[0m\u001b[1;32m     47\u001b[0m                     \u001b[0mlistFeatExt\u001b[0m\u001b[0;34m.\u001b[0m\u001b[0mappend\u001b[0m\u001b[0;34m(\u001b[0m\u001b[0mfeat\u001b[0m\u001b[0;34m)\u001b[0m\u001b[0;34m\u001b[0m\u001b[0;34m\u001b[0m\u001b[0m\n\u001b[1;32m     48\u001b[0m             \u001b[0mlistFeatExt\u001b[0m \u001b[0;34m=\u001b[0m \u001b[0mlist\u001b[0m\u001b[0;34m(\u001b[0m\u001b[0mset\u001b[0m\u001b[0;34m(\u001b[0m\u001b[0mlistFeatExt\u001b[0m\u001b[0;34m)\u001b[0m\u001b[0;34m)\u001b[0m\u001b[0;34m\u001b[0m\u001b[0;34m\u001b[0m\u001b[0m\n",
      "\u001b[0;31mIndexError\u001b[0m: list index out of range"
     ]
    }
   ],
   "source": [
    "image = \"./example.jpg\"\n",
    "featExt = [\"inception\", \"False\"]\n",
    "classi = \"MLP\"\n",
    "prediction(featExt, classi, image, outputPath, datasetPath)"
   ]
  },
  {
   "cell_type": "code",
   "execution_count": null,
   "metadata": {},
   "outputs": [],
   "source": []
  }
 ],
 "metadata": {
  "kernelspec": {
   "display_name": "Python 3",
   "language": "python",
   "name": "python3"
  },
  "language_info": {
   "codemirror_mode": {
    "name": "ipython",
    "version": 3
   },
   "file_extension": ".py",
   "mimetype": "text/x-python",
   "name": "python",
   "nbconvert_exporter": "python",
   "pygments_lexer": "ipython3",
   "version": "3.6.7"
  }
 },
 "nbformat": 4,
 "nbformat_minor": 2
}
