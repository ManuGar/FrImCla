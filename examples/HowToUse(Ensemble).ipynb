{
 "cells": [
  {
   "cell_type": "markdown",
   "metadata": {
    "colab_type": "text",
    "id": "B-pdj3n71M9L"
   },
   "source": [
    "# How to use the framework\n"
   ]
  },
  {
   "cell_type": "markdown",
   "metadata": {
    "colab_type": "text",
    "id": "L_bEcf2v1M9O"
   },
   "source": [
    "In case that FrImCla is not installed in your system, the first task consist in installing using pip."
   ]
  },
  {
   "cell_type": "code",
   "execution_count": 1,
   "metadata": {
    "colab": {
     "base_uri": "https://localhost:8080/",
     "height": 782
    },
    "colab_type": "code",
    "id": "8pbLmGXX1M9P",
    "outputId": "f329ec79-4294-407a-ce46-0c00d8b6dcc9"
   },
   "outputs": [
    {
     "name": "stdout",
     "output_type": "stream",
     "text": [
      "Requirement already satisfied: frimcla in /usr/local/lib/python3.6/dist-packages (0.0.543)\n",
      "Requirement already satisfied: tensorflow in /usr/local/lib/python3.6/dist-packages (from frimcla) (1.13.1)\n",
      "Requirement already satisfied: tabulate in /usr/local/lib/python3.6/dist-packages (from frimcla) (0.8.3)\n",
      "Requirement already satisfied: wget in /usr/local/lib/python3.6/dist-packages (from frimcla) (3.2)\n",
      "Requirement already satisfied: numpy in /usr/local/lib/python3.6/dist-packages (from frimcla) (1.14.6)\n",
      "Requirement already satisfied: scikit-image in /usr/local/lib/python3.6/dist-packages (from frimcla) (0.13.1)\n",
      "Requirement already satisfied: mahotas in /usr/local/lib/python3.6/dist-packages (from frimcla) (1.4.5)\n",
      "Requirement already satisfied: Keras==2.1.6 in /usr/local/lib/python3.6/dist-packages (from frimcla) (2.1.6)\n",
      "Requirement already satisfied: commentjson in /usr/local/lib/python3.6/dist-packages (from frimcla) (0.7.1)\n",
      "Requirement already satisfied: h5py in /usr/local/lib/python3.6/dist-packages (from frimcla) (2.8.0)\n",
      "Requirement already satisfied: scikit-learn in /usr/local/lib/python3.6/dist-packages (from frimcla) (0.20.3)\n",
      "Requirement already satisfied: opencv-python in /usr/local/lib/python3.6/dist-packages (from frimcla) (3.4.5.20)\n",
      "Requirement already satisfied: imutils in /usr/local/lib/python3.6/dist-packages (from frimcla) (0.5.2)\n",
      "Requirement already satisfied: pandas in /usr/local/lib/python3.6/dist-packages (from frimcla) (0.22.0)\n",
      "Requirement already satisfied: matplotlib in /usr/local/lib/python3.6/dist-packages (from frimcla) (3.0.3)\n",
      "Requirement already satisfied: theano in /usr/local/lib/python3.6/dist-packages (from frimcla) (1.0.4)\n",
      "Requirement already satisfied: protobuf>=3.6.1 in /usr/local/lib/python3.6/dist-packages (from tensorflow->frimcla) (3.7.0)\n",
      "Requirement already satisfied: keras-preprocessing>=1.0.5 in /usr/local/lib/python3.6/dist-packages (from tensorflow->frimcla) (1.0.9)\n",
      "Requirement already satisfied: six>=1.10.0 in /usr/local/lib/python3.6/dist-packages (from tensorflow->frimcla) (1.11.0)\n",
      "Requirement already satisfied: wheel>=0.26 in /usr/local/lib/python3.6/dist-packages (from tensorflow->frimcla) (0.33.1)\n",
      "Requirement already satisfied: grpcio>=1.8.6 in /usr/local/lib/python3.6/dist-packages (from tensorflow->frimcla) (1.15.0)\n",
      "Requirement already satisfied: tensorboard<1.14.0,>=1.13.0 in /usr/local/lib/python3.6/dist-packages (from tensorflow->frimcla) (1.13.1)\n",
      "Requirement already satisfied: absl-py>=0.1.6 in /usr/local/lib/python3.6/dist-packages (from tensorflow->frimcla) (0.7.0)\n",
      "Requirement already satisfied: keras-applications>=1.0.6 in /usr/local/lib/python3.6/dist-packages (from tensorflow->frimcla) (1.0.7)\n",
      "Requirement already satisfied: gast>=0.2.0 in /usr/local/lib/python3.6/dist-packages (from tensorflow->frimcla) (0.2.2)\n",
      "Requirement already satisfied: termcolor>=1.1.0 in /usr/local/lib/python3.6/dist-packages (from tensorflow->frimcla) (1.1.0)\n",
      "Requirement already satisfied: tensorflow-estimator<1.14.0rc0,>=1.13.0 in /usr/local/lib/python3.6/dist-packages (from tensorflow->frimcla) (1.13.0)\n",
      "Requirement already satisfied: astor>=0.6.0 in /usr/local/lib/python3.6/dist-packages (from tensorflow->frimcla) (0.7.1)\n",
      "Requirement already satisfied: PyWavelets>=0.4.0 in /usr/local/lib/python3.6/dist-packages (from scikit-image->frimcla) (1.0.2)\n",
      "Requirement already satisfied: pillow>=2.1.0 in /usr/local/lib/python3.6/dist-packages (from scikit-image->frimcla) (4.1.1)\n",
      "Requirement already satisfied: scipy>=0.17.0 in /usr/local/lib/python3.6/dist-packages (from scikit-image->frimcla) (1.1.0)\n",
      "Requirement already satisfied: networkx>=1.8 in /usr/local/lib/python3.6/dist-packages (from scikit-image->frimcla) (2.2)\n",
      "Requirement already satisfied: pyyaml in /usr/local/lib/python3.6/dist-packages (from Keras==2.1.6->frimcla) (3.13)\n",
      "Requirement already satisfied: pytz>=2011k in /usr/local/lib/python3.6/dist-packages (from pandas->frimcla) (2018.9)\n",
      "Requirement already satisfied: python-dateutil>=2 in /usr/local/lib/python3.6/dist-packages (from pandas->frimcla) (2.5.3)\n",
      "Requirement already satisfied: pyparsing!=2.0.4,!=2.1.2,!=2.1.6,>=2.0.1 in /usr/local/lib/python3.6/dist-packages (from matplotlib->frimcla) (2.3.1)\n",
      "Requirement already satisfied: kiwisolver>=1.0.1 in /usr/local/lib/python3.6/dist-packages (from matplotlib->frimcla) (1.0.1)\n",
      "Requirement already satisfied: cycler>=0.10 in /usr/local/lib/python3.6/dist-packages (from matplotlib->frimcla) (0.10.0)\n",
      "Requirement already satisfied: setuptools in /usr/local/lib/python3.6/dist-packages (from protobuf>=3.6.1->tensorflow->frimcla) (40.8.0)\n",
      "Requirement already satisfied: werkzeug>=0.11.15 in /usr/local/lib/python3.6/dist-packages (from tensorboard<1.14.0,>=1.13.0->tensorflow->frimcla) (0.14.1)\n",
      "Requirement already satisfied: markdown>=2.6.8 in /usr/local/lib/python3.6/dist-packages (from tensorboard<1.14.0,>=1.13.0->tensorflow->frimcla) (3.0.1)\n",
      "Requirement already satisfied: mock>=2.0.0 in /usr/local/lib/python3.6/dist-packages (from tensorflow-estimator<1.14.0rc0,>=1.13.0->tensorflow->frimcla) (2.0.0)\n",
      "Requirement already satisfied: olefile in /usr/local/lib/python3.6/dist-packages (from pillow>=2.1.0->scikit-image->frimcla) (0.46)\n",
      "Requirement already satisfied: decorator>=4.3.0 in /usr/local/lib/python3.6/dist-packages (from networkx>=1.8->scikit-image->frimcla) (4.3.2)\n",
      "Requirement already satisfied: pbr>=0.11 in /usr/local/lib/python3.6/dist-packages (from mock>=2.0.0->tensorflow-estimator<1.14.0rc0,>=1.13.0->tensorflow->frimcla) (5.1.3)\n"
     ]
    }
   ],
   "source": [
    "!pip install frimcla"
   ]
  },
  {
   "cell_type": "markdown",
   "metadata": {
    "colab_type": "text",
    "id": "2Wr2_pYV1M9W"
   },
   "source": [
    "To begin, we have to import all the classes that we will need to be able to use our framework."
   ]
  },
  {
   "cell_type": "code",
   "execution_count": 2,
   "metadata": {
    "colab": {
     "base_uri": "https://localhost:8080/",
     "height": 34
    },
    "colab_type": "code",
    "id": "yZlKqBwh1M9Y",
    "outputId": "6d706415-e285-484a-9b7c-bdce51e24ce3"
   },
   "outputs": [
    {
     "name": "stderr",
     "output_type": "stream",
     "text": [
      "Using TensorFlow backend.\n"
     ]
    }
   ],
   "source": [
    "import warnings\n",
    "import time\n",
    "import json\n",
    "import argparse\n",
    "from frimcla.utils.conf import Conf\n",
    "from imutils import paths\n",
    "from frimcla.index_features import generateFeatures\n",
    "from frimcla.StatisticalComparison import statisticalComparison, majorityVoting\n",
    "from frimcla.train import train\n",
    "from frimcla.prediction import prediction,predictionEnsemble\n",
    "warnings.simplefilter(action=\"ignore\", category=FutureWarning)"
   ]
  },
  {
   "cell_type": "markdown",
   "metadata": {
    "colab_type": "text",
    "id": "cprdenZz1M9c"
   },
   "source": [
    "### Configuring the dataset path"
   ]
  },
  {
   "cell_type": "markdown",
   "metadata": {
    "colab_type": "text",
    "id": "Swd_Mwgs1M9d"
   },
   "source": [
    "First of all we have to know the path which we have our dataset. The dataset must have a folder for each class that we want to predict. "
   ]
  },
  {
   "cell_type": "code",
   "execution_count": 3,
   "metadata": {
    "colab": {
     "base_uri": "https://localhost:8080/",
     "height": 5494
    },
    "colab_type": "code",
    "id": "QSiGPTUR1M9e",
    "outputId": "1c15de35-6cc4-4428-925c-9be0f0a16831"
   },
   "outputs": [
    {
     "name": "stdout",
     "output_type": "stream",
     "text": [
      "--2019-03-19 16:27:11--  https://drive.google.com/uc?id=1ZApIHn-EvoQ6sdgJWhgfM3rmEEXWvXRJ&export=download&authuser=0\n",
      "Resolving drive.google.com (drive.google.com)... 172.217.212.138, 172.217.212.139, 172.217.212.102, ...\n",
      "Connecting to drive.google.com (drive.google.com)|172.217.212.138|:443... connected.\n",
      "HTTP request sent, awaiting response... 302 Moved Temporarily\n",
      "Location: https://drive.google.com/uc?id=1ZApIHn-EvoQ6sdgJWhgfM3rmEEXWvXRJ&export=download [following]\n",
      "--2019-03-19 16:27:11--  https://drive.google.com/uc?id=1ZApIHn-EvoQ6sdgJWhgfM3rmEEXWvXRJ&export=download\n",
      "Reusing existing connection to drive.google.com:443.\n",
      "HTTP request sent, awaiting response... 302 Moved Temporarily\n",
      "Location: https://doc-0g-3s-docs.googleusercontent.com/docs/securesc/ha0ro937gcuc7l7deffksulhg5h7mbp1/jdmkem3ge3qi6phhk2gmkct5isrnfago/1553011200000/05147614325801676241/*/1ZApIHn-EvoQ6sdgJWhgfM3rmEEXWvXRJ?e=download [following]\n",
      "Warning: wildcards not supported in HTTP.\n",
      "--2019-03-19 16:27:15--  https://doc-0g-3s-docs.googleusercontent.com/docs/securesc/ha0ro937gcuc7l7deffksulhg5h7mbp1/jdmkem3ge3qi6phhk2gmkct5isrnfago/1553011200000/05147614325801676241/*/1ZApIHn-EvoQ6sdgJWhgfM3rmEEXWvXRJ?e=download\n",
      "Resolving doc-0g-3s-docs.googleusercontent.com (doc-0g-3s-docs.googleusercontent.com)... 172.217.212.132, 2607:f8b0:4001:c03::84\n",
      "Connecting to doc-0g-3s-docs.googleusercontent.com (doc-0g-3s-docs.googleusercontent.com)|172.217.212.132|:443... connected.\n",
      "HTTP request sent, awaiting response... 200 OK\n",
      "Length: unspecified [application/zip]\n",
      "Saving to: ‘mias.zip’\n",
      "\n",
      "mias.zip                [ <=>                ]   2.82M  --.-KB/s    in 0.02s   \n",
      "\n",
      "2019-03-19 16:27:15 (139 MB/s) - ‘mias.zip’ saved [2955320]\n",
      "\n",
      "Archive:  mias.zip\n",
      "   creating: Mias/\n",
      "   creating: Mias/ABNORMAL/\n",
      "  inflating: Mias/ABNORMAL/mdb001.jpg  \n",
      "  inflating: Mias/ABNORMAL/mdb005.jpg  \n",
      "  inflating: Mias/ABNORMAL/mdb010.jpg  \n",
      "  inflating: Mias/ABNORMAL/mdb012.jpg  \n",
      "  inflating: Mias/ABNORMAL/mdb013.jpg  \n",
      "  inflating: Mias/ABNORMAL/mdb015.jpg  \n",
      "  inflating: Mias/ABNORMAL/mdb017.jpg  \n",
      "  inflating: Mias/ABNORMAL/mdb019.jpg  \n",
      "  inflating: Mias/ABNORMAL/mdb021.jpg  \n",
      "  inflating: Mias/ABNORMAL/mdb023.jpg  \n",
      "  inflating: Mias/ABNORMAL/mdb028.jpg  \n",
      "  inflating: Mias/ABNORMAL/mdb030.jpg  \n",
      "  inflating: Mias/ABNORMAL/mdb032.jpg  \n",
      "  inflating: Mias/ABNORMAL/mdb058.jpg  \n",
      "  inflating: Mias/ABNORMAL/mdb063.jpg  \n",
      "  inflating: Mias/ABNORMAL/mdb069.jpg  \n",
      "  inflating: Mias/ABNORMAL/mdb072.jpg  \n",
      "  inflating: Mias/ABNORMAL/mdb075.jpg  \n",
      "  inflating: Mias/ABNORMAL/mdb080.jpg  \n",
      "  inflating: Mias/ABNORMAL/mdb081.jpg  \n",
      "  inflating: Mias/ABNORMAL/mdb083.jpg  \n",
      "  inflating: Mias/ABNORMAL/mdb090.jpg  \n",
      "  inflating: Mias/ABNORMAL/mdb091.jpg  \n",
      "  inflating: Mias/ABNORMAL/mdb092.jpg  \n",
      "  inflating: Mias/ABNORMAL/mdb095.jpg  \n",
      "  inflating: Mias/ABNORMAL/mdb097.jpg  \n",
      "  inflating: Mias/ABNORMAL/mdb102.jpg  \n",
      "  inflating: Mias/ABNORMAL/mdb104.jpg  \n",
      "  inflating: Mias/ABNORMAL/mdb105.jpg  \n",
      "  inflating: Mias/ABNORMAL/mdb107.jpg  \n",
      "  inflating: Mias/ABNORMAL/mdb110.jpg  \n",
      "  inflating: Mias/ABNORMAL/mdb115.jpg  \n",
      "  inflating: Mias/ABNORMAL/mdb117.jpg  \n",
      "  inflating: Mias/ABNORMAL/mdb120.jpg  \n",
      "  inflating: Mias/ABNORMAL/mdb121.jpg  \n",
      "  inflating: Mias/ABNORMAL/mdb124.jpg  \n",
      "  inflating: Mias/ABNORMAL/mdb125.jpg  \n",
      "  inflating: Mias/ABNORMAL/mdb126.jpg  \n",
      "  inflating: Mias/ABNORMAL/mdb127.jpg  \n",
      "  inflating: Mias/ABNORMAL/mdb130.jpg  \n",
      "  inflating: Mias/ABNORMAL/mdb132.jpg  \n",
      "  inflating: Mias/ABNORMAL/mdb134.jpg  \n",
      "  inflating: Mias/ABNORMAL/mdb141.jpg  \n",
      "  inflating: Mias/ABNORMAL/mdb142.jpg  \n",
      "  inflating: Mias/ABNORMAL/mdb144.jpg  \n",
      "  inflating: Mias/ABNORMAL/mdb145.jpg  \n",
      "  inflating: Mias/ABNORMAL/mdb150.jpg  \n",
      "  inflating: Mias/ABNORMAL/mdb152.jpg  \n",
      "  inflating: Mias/ABNORMAL/mdb155.jpg  \n",
      "  inflating: Mias/ABNORMAL/mdb158.jpg  \n",
      "  inflating: Mias/ABNORMAL/mdb160.jpg  \n",
      "  inflating: Mias/ABNORMAL/mdb163.jpg  \n",
      "  inflating: Mias/ABNORMAL/mdb165.jpg  \n",
      "  inflating: Mias/ABNORMAL/mdb167.jpg  \n",
      "  inflating: Mias/ABNORMAL/mdb170.jpg  \n",
      "  inflating: Mias/ABNORMAL/mdb175.jpg  \n",
      "  inflating: Mias/ABNORMAL/mdb178.jpg  \n",
      "  inflating: Mias/ABNORMAL/mdb179.jpg  \n",
      "  inflating: Mias/ABNORMAL/mdb181.jpg  \n",
      "  inflating: Mias/ABNORMAL/mdb184.jpg  \n",
      "  inflating: Mias/ABNORMAL/mdb186.jpg  \n",
      "  inflating: Mias/ABNORMAL/mdb188.jpg  \n",
      "  inflating: Mias/ABNORMAL/mdb190.jpg  \n",
      "  inflating: Mias/ABNORMAL/mdb191.jpg  \n",
      "  inflating: Mias/ABNORMAL/mdb193.jpg  \n",
      "  inflating: Mias/ABNORMAL/mdb195.jpg  \n",
      "  inflating: Mias/ABNORMAL/mdb199.jpg  \n",
      "  inflating: Mias/ABNORMAL/mdb202.jpg  \n",
      "  inflating: Mias/ABNORMAL/mdb204.jpg  \n",
      "  inflating: Mias/ABNORMAL/mdb206.jpg  \n",
      "  inflating: Mias/ABNORMAL/mdb207.jpg  \n",
      "  inflating: Mias/ABNORMAL/mdb209.jpg  \n",
      "  inflating: Mias/ABNORMAL/mdb211.jpg  \n",
      "  inflating: Mias/ABNORMAL/mdb213.jpg  \n",
      "  inflating: Mias/ABNORMAL/mdb218.jpg  \n",
      "  inflating: Mias/ABNORMAL/mdb219.jpg  \n",
      "  inflating: Mias/ABNORMAL/mdb222.jpg  \n",
      "  inflating: Mias/ABNORMAL/mdb223.jpg  \n",
      "  inflating: Mias/ABNORMAL/mdb226.jpg  \n",
      "  inflating: Mias/ABNORMAL/mdb227.jpg  \n",
      "  inflating: Mias/ABNORMAL/mdb231.jpg  \n",
      "  inflating: Mias/ABNORMAL/mdb236.jpg  \n",
      "  inflating: Mias/ABNORMAL/mdb239.jpg  \n",
      "  inflating: Mias/ABNORMAL/mdb240.jpg  \n",
      "  inflating: Mias/ABNORMAL/mdb244.jpg  \n",
      "  inflating: Mias/ABNORMAL/mdb248.jpg  \n",
      "  inflating: Mias/ABNORMAL/mdb249.jpg  \n",
      "  inflating: Mias/ABNORMAL/mdb252.jpg  \n",
      "  inflating: Mias/ABNORMAL/mdb253.jpg  \n",
      "  inflating: Mias/ABNORMAL/mdb256.jpg  \n",
      "  inflating: Mias/ABNORMAL/mdb264.jpg  \n",
      "  inflating: Mias/ABNORMAL/mdb265.jpg  \n",
      "  inflating: Mias/ABNORMAL/mdb267.jpg  \n",
      "  inflating: Mias/ABNORMAL/mdb270.jpg  \n",
      "  inflating: Mias/ABNORMAL/mdb271.jpg  \n",
      "  inflating: Mias/ABNORMAL/mdb290.jpg  \n",
      "  inflating: Mias/ABNORMAL/mdb312.jpg  \n",
      "  inflating: Mias/ABNORMAL/mdb314.jpg  \n",
      "   creating: Mias/NORMAL/\n",
      "  inflating: Mias/NORMAL/mdb003.jpg  \n",
      "  inflating: Mias/NORMAL/mdb004.jpg  \n",
      "  inflating: Mias/NORMAL/mdb006.jpg  \n",
      "  inflating: Mias/NORMAL/mdb007.jpg  \n",
      "  inflating: Mias/NORMAL/mdb008.jpg  \n",
      "  inflating: Mias/NORMAL/mdb009.jpg  \n",
      "  inflating: Mias/NORMAL/mdb011.jpg  \n",
      "  inflating: Mias/NORMAL/mdb014.jpg  \n",
      "  inflating: Mias/NORMAL/mdb016.jpg  \n",
      "  inflating: Mias/NORMAL/mdb018.jpg  \n",
      "  inflating: Mias/NORMAL/mdb022.jpg  \n",
      "  inflating: Mias/NORMAL/mdb024.jpg  \n",
      "  inflating: Mias/NORMAL/mdb026.jpg  \n",
      "  inflating: Mias/NORMAL/mdb027.jpg  \n",
      "  inflating: Mias/NORMAL/mdb029.jpg  \n",
      "  inflating: Mias/NORMAL/mdb031.jpg  \n",
      "  inflating: Mias/NORMAL/mdb033.jpg  \n",
      "  inflating: Mias/NORMAL/mdb034.jpg  \n",
      "  inflating: Mias/NORMAL/mdb035.jpg  \n",
      "  inflating: Mias/NORMAL/mdb036.jpg  \n",
      "  inflating: Mias/NORMAL/mdb037.jpg  \n",
      "  inflating: Mias/NORMAL/mdb038.jpg  \n",
      "  inflating: Mias/NORMAL/mdb039.jpg  \n",
      "  inflating: Mias/NORMAL/mdb040.jpg  \n",
      "  inflating: Mias/NORMAL/mdb041.jpg  \n",
      "  inflating: Mias/NORMAL/mdb042.jpg  \n",
      "  inflating: Mias/NORMAL/mdb043.jpg  \n",
      "  inflating: Mias/NORMAL/mdb044.jpg  \n",
      "  inflating: Mias/NORMAL/mdb045.jpg  \n",
      "  inflating: Mias/NORMAL/mdb046.jpg  \n",
      "  inflating: Mias/NORMAL/mdb047.jpg  \n",
      "  inflating: Mias/NORMAL/mdb048.jpg  \n",
      "  inflating: Mias/NORMAL/mdb049.jpg  \n",
      "  inflating: Mias/NORMAL/mdb050.jpg  \n",
      "  inflating: Mias/NORMAL/mdb051.jpg  \n",
      "  inflating: Mias/NORMAL/mdb052.jpg  \n",
      "  inflating: Mias/NORMAL/mdb053.jpg  \n",
      "  inflating: Mias/NORMAL/mdb054.jpg  \n",
      "  inflating: Mias/NORMAL/mdb055.jpg  \n",
      "  inflating: Mias/NORMAL/mdb056.jpg  \n",
      "  inflating: Mias/NORMAL/mdb060.jpg  \n",
      "  inflating: Mias/NORMAL/mdb061.jpg  \n",
      "  inflating: Mias/NORMAL/mdb062.jpg  \n",
      "  inflating: Mias/NORMAL/mdb064.jpg  \n",
      "  inflating: Mias/NORMAL/mdb065.jpg  \n",
      "  inflating: Mias/NORMAL/mdb066.jpg  \n",
      "  inflating: Mias/NORMAL/mdb067.jpg  \n",
      "  inflating: Mias/NORMAL/mdb068.jpg  \n",
      "  inflating: Mias/NORMAL/mdb071.jpg  \n",
      "  inflating: Mias/NORMAL/mdb073.jpg  \n",
      "  inflating: Mias/NORMAL/mdb074.jpg  \n",
      "  inflating: Mias/NORMAL/mdb076.jpg  \n",
      "  inflating: Mias/NORMAL/mdb077.jpg  \n",
      "  inflating: Mias/NORMAL/mdb078.jpg  \n",
      "  inflating: Mias/NORMAL/mdb079.jpg  \n",
      "  inflating: Mias/NORMAL/mdb082.jpg  \n",
      "  inflating: Mias/NORMAL/mdb084.jpg  \n",
      "  inflating: Mias/NORMAL/mdb085.jpg  \n",
      "  inflating: Mias/NORMAL/mdb086.jpg  \n",
      "  inflating: Mias/NORMAL/mdb087.jpg  \n",
      "  inflating: Mias/NORMAL/mdb088.jpg  \n",
      "  inflating: Mias/NORMAL/mdb089.jpg  \n",
      "  inflating: Mias/NORMAL/mdb093.jpg  \n",
      "  inflating: Mias/NORMAL/mdb094.jpg  \n",
      "  inflating: Mias/NORMAL/mdb096.jpg  \n",
      "  inflating: Mias/NORMAL/mdb098.jpg  \n",
      "  inflating: Mias/NORMAL/mdb100.jpg  \n",
      "  inflating: Mias/NORMAL/mdb101.jpg  \n",
      "  inflating: Mias/NORMAL/mdb103.jpg  \n",
      "  inflating: Mias/NORMAL/mdb106.jpg  \n",
      "  inflating: Mias/NORMAL/mdb108.jpg  \n",
      "  inflating: Mias/NORMAL/mdb109.jpg  \n",
      "  inflating: Mias/NORMAL/mdb112.jpg  \n",
      "  inflating: Mias/NORMAL/mdb113.jpg  \n",
      "  inflating: Mias/NORMAL/mdb114.jpg  \n",
      "  inflating: Mias/NORMAL/mdb116.jpg  \n",
      "  inflating: Mias/NORMAL/mdb118.jpg  \n",
      "  inflating: Mias/NORMAL/mdb119.jpg  \n",
      "  inflating: Mias/NORMAL/mdb123.jpg  \n",
      "  inflating: Mias/NORMAL/mdb128.jpg  \n",
      "  inflating: Mias/NORMAL/mdb129.jpg  \n",
      "  inflating: Mias/NORMAL/mdb131.jpg  \n",
      "  inflating: Mias/NORMAL/mdb133.jpg  \n",
      "  inflating: Mias/NORMAL/mdb135.jpg  \n",
      "  inflating: Mias/NORMAL/mdb136.jpg  \n",
      "  inflating: Mias/NORMAL/mdb137.jpg  \n",
      "  inflating: Mias/NORMAL/mdb138.jpg  \n",
      "  inflating: Mias/NORMAL/mdb139.jpg  \n",
      "  inflating: Mias/NORMAL/mdb140.jpg  \n",
      "  inflating: Mias/NORMAL/mdb143.jpg  \n",
      "  inflating: Mias/NORMAL/mdb146.jpg  \n",
      "  inflating: Mias/NORMAL/mdb147.jpg  \n",
      "  inflating: Mias/NORMAL/mdb149.jpg  \n",
      "  inflating: Mias/NORMAL/mdb151.jpg  \n",
      "  inflating: Mias/NORMAL/mdb153.jpg  \n",
      "  inflating: Mias/NORMAL/mdb154.jpg  \n",
      "  inflating: Mias/NORMAL/mdb156.jpg  \n",
      "  inflating: Mias/NORMAL/mdb157.jpg  \n",
      "  inflating: Mias/NORMAL/mdb159.jpg  \n",
      "  inflating: Mias/NORMAL/mdb161.jpg  \n",
      "  inflating: Mias/NORMAL/mdb162.jpg  \n",
      "  inflating: Mias/NORMAL/mdb164.jpg  \n",
      "  inflating: Mias/NORMAL/mdb166.jpg  \n",
      "  inflating: Mias/NORMAL/mdb168.jpg  \n",
      "  inflating: Mias/NORMAL/mdb172.jpg  \n",
      "  inflating: Mias/NORMAL/mdb173.jpg  \n",
      "  inflating: Mias/NORMAL/mdb174.jpg  \n",
      "  inflating: Mias/NORMAL/mdb176.jpg  \n",
      "  inflating: Mias/NORMAL/mdb177.jpg  \n",
      "  inflating: Mias/NORMAL/mdb180.jpg  \n",
      "  inflating: Mias/NORMAL/mdb182.jpg  \n",
      "  inflating: Mias/NORMAL/mdb183.jpg  \n",
      "  inflating: Mias/NORMAL/mdb185.jpg  \n",
      "  inflating: Mias/NORMAL/mdb189.jpg  \n",
      "  inflating: Mias/NORMAL/mdb192.jpg  \n",
      "  inflating: Mias/NORMAL/mdb194.jpg  \n",
      "  inflating: Mias/NORMAL/mdb196.jpg  \n",
      "  inflating: Mias/NORMAL/mdb197.jpg  \n",
      "  inflating: Mias/NORMAL/mdb200.jpg  \n",
      "  inflating: Mias/NORMAL/mdb201.jpg  \n",
      "  inflating: Mias/NORMAL/mdb203.jpg  \n",
      "  inflating: Mias/NORMAL/mdb205.jpg  \n",
      "  inflating: Mias/NORMAL/mdb210.jpg  \n",
      "  inflating: Mias/NORMAL/mdb212.jpg  \n",
      "  inflating: Mias/NORMAL/mdb214.jpg  \n",
      "  inflating: Mias/NORMAL/mdb215.jpg  \n",
      "  inflating: Mias/NORMAL/mdb217.jpg  \n",
      "  inflating: Mias/NORMAL/mdb220.jpg  \n",
      "  inflating: Mias/NORMAL/mdb221.jpg  \n",
      "  inflating: Mias/NORMAL/mdb224.jpg  \n",
      "  inflating: Mias/NORMAL/mdb225.jpg  \n",
      "  inflating: Mias/NORMAL/mdb228.jpg  \n",
      "  inflating: Mias/NORMAL/mdb229.jpg  \n",
      "  inflating: Mias/NORMAL/mdb230.jpg  \n",
      "  inflating: Mias/NORMAL/mdb232.jpg  \n",
      "  inflating: Mias/NORMAL/mdb234.jpg  \n",
      "  inflating: Mias/NORMAL/mdb235.jpg  \n",
      "  inflating: Mias/NORMAL/mdb237.jpg  \n",
      "  inflating: Mias/NORMAL/mdb242.jpg  \n",
      "  inflating: Mias/NORMAL/mdb243.jpg  \n",
      "  inflating: Mias/NORMAL/mdb246.jpg  \n",
      "  inflating: Mias/NORMAL/mdb247.jpg  \n",
      "  inflating: Mias/NORMAL/mdb250.jpg  \n",
      "  inflating: Mias/NORMAL/mdb251.jpg  \n",
      "  inflating: Mias/NORMAL/mdb254.jpg  \n",
      "  inflating: Mias/NORMAL/mdb255.jpg  \n",
      "  inflating: Mias/NORMAL/mdb258.jpg  \n",
      "  inflating: Mias/NORMAL/mdb259.jpg  \n",
      "  inflating: Mias/NORMAL/mdb260.jpg  \n",
      "  inflating: Mias/NORMAL/mdb261.jpg  \n",
      "  inflating: Mias/NORMAL/mdb262.jpg  \n",
      "  inflating: Mias/NORMAL/mdb263.jpg  \n",
      "  inflating: Mias/NORMAL/mdb266.jpg  \n",
      "  inflating: Mias/NORMAL/mdb268.jpg  \n",
      "  inflating: Mias/NORMAL/mdb269.jpg  \n",
      "  inflating: Mias/NORMAL/mdb272.jpg  \n",
      "  inflating: Mias/NORMAL/mdb273.jpg  \n",
      "  inflating: Mias/NORMAL/mdb275.jpg  \n",
      "  inflating: Mias/NORMAL/mdb277.jpg  \n",
      "  inflating: Mias/NORMAL/mdb278.jpg  \n",
      "  inflating: Mias/NORMAL/mdb279.jpg  \n",
      "  inflating: Mias/NORMAL/mdb280.jpg  \n",
      "  inflating: Mias/NORMAL/mdb281.jpg  \n",
      "  inflating: Mias/NORMAL/mdb282.jpg  \n",
      "  inflating: Mias/NORMAL/mdb283.jpg  \n",
      "  inflating: Mias/NORMAL/mdb284.jpg  \n",
      "  inflating: Mias/NORMAL/mdb285.jpg  \n",
      "  inflating: Mias/NORMAL/mdb286.jpg  \n",
      "  inflating: Mias/NORMAL/mdb287.jpg  \n",
      "  inflating: Mias/NORMAL/mdb288.jpg  \n",
      "  inflating: Mias/NORMAL/mdb289.jpg  \n",
      "  inflating: Mias/NORMAL/mdb291.jpg  \n",
      "  inflating: Mias/NORMAL/mdb292.jpg  \n",
      "  inflating: Mias/NORMAL/mdb293.jpg  \n",
      "  inflating: Mias/NORMAL/mdb295.jpg  \n",
      "  inflating: Mias/NORMAL/mdb296.jpg  \n",
      "  inflating: Mias/NORMAL/mdb297.jpg  \n",
      "  inflating: Mias/NORMAL/mdb298.jpg  \n",
      "  inflating: Mias/NORMAL/mdb299.jpg  \n",
      "  inflating: Mias/NORMAL/mdb300.jpg  \n",
      "  inflating: Mias/NORMAL/mdb301.jpg  \n",
      "  inflating: Mias/NORMAL/mdb302.jpg  \n",
      "  inflating: Mias/NORMAL/mdb303.jpg  \n",
      "  inflating: Mias/NORMAL/mdb304.jpg  \n",
      "  inflating: Mias/NORMAL/mdb305.jpg  \n",
      "  inflating: Mias/NORMAL/mdb306.jpg  \n",
      "  inflating: Mias/NORMAL/mdb307.jpg  \n",
      "  inflating: Mias/NORMAL/mdb308.jpg  \n",
      "  inflating: Mias/NORMAL/mdb309.jpg  \n",
      "  inflating: Mias/NORMAL/mdb310.jpg  \n",
      "  inflating: Mias/NORMAL/mdb311.jpg  \n",
      "  inflating: Mias/NORMAL/mdb313.jpg  \n",
      "  inflating: Mias/NORMAL/mdb316.jpg  \n",
      "  inflating: Mias/NORMAL/mdb317.jpg  \n",
      "  inflating: Mias/NORMAL/mdb318.jpg  \n",
      "  inflating: Mias/NORMAL/mdb319.jpg  \n",
      "  inflating: Mias/NORMAL/mdb320.jpg  \n",
      "  inflating: Mias/NORMAL/mdb321.jpg  \n"
     ]
    }
   ],
   "source": [
    "!wget \"https://drive.google.com/uc?id=1ZApIHn-EvoQ6sdgJWhgfM3rmEEXWvXRJ&export=download&authuser=0\" -O mias.zip\n",
    "!unzip mias.zip\n",
    "\n",
    "datasetPath = \"./Mias\""
   ]
  },
  {
   "cell_type": "markdown",
   "metadata": {
    "colab_type": "text",
    "id": "Ld2ssDQ31M9h"
   },
   "source": [
    "### Feature Extractor"
   ]
  },
  {
   "cell_type": "markdown",
   "metadata": {
    "colab_type": "text",
    "id": "suNNKcK71M9i"
   },
   "source": [
    "In this step we decide the feature extractor models that we are going to use with our dataset. These models will extract the most important points of the images. Then we save the points and with the classifier models that we will choose after this, we will classify the images with the classes of the dataset. Each feature extractor model has a different way to collect the most important points and for this reason we have to compare the models, because there is not a model that always fits better with the datasets."
   ]
  },
  {
   "cell_type": "code",
   "execution_count": 0,
   "metadata": {
    "colab": {},
    "colab_type": "code",
    "id": "R1rRnjQy1M9j"
   },
   "outputs": [],
   "source": [
    "featureExtractors = [[\"resnet\", \"False\"],[\"vgg16\", \"False\"]]"
   ]
  },
  {
   "cell_type": "markdown",
   "metadata": {
    "colab_type": "text",
    "id": "hksM1aMw1M9l"
   },
   "source": [
    "Now that we have the feature extractor models we can execute the algorithm that collect the features of the dataset for each model. The only thing that we have to do is indicate the paths of the dataset and the output and the models that we want to use for the study. The verbose parameter is to indicate whether we want to appear information about the execution on console."
   ]
  },
  {
   "cell_type": "code",
   "execution_count": 5,
   "metadata": {
    "colab": {
     "base_uri": "https://localhost:8080/",
     "height": 462
    },
    "colab_type": "code",
    "id": "ag0hN1s11M9m",
    "outputId": "6ed15a68-204e-4bed-86d3-8288c84b28c9",
    "scrolled": true
   },
   "outputs": [
    {
     "name": "stdout",
     "output_type": "stream",
     "text": [
      "[INFO] loading ['resnet', 'False']...\n",
      "WARNING:tensorflow:From /usr/local/lib/python3.6/dist-packages/tensorflow/python/framework/op_def_library.py:263: colocate_with (from tensorflow.python.framework.ops) is deprecated and will be removed in a future version.\n",
      "Instructions for updating:\n",
      "Colocations handled automatically by placer.\n",
      "Downloading data from https://github.com/fchollet/deep-learning-models/releases/download/v0.2/resnet50_weights_tf_dim_ordering_tf_kernels.h5\n",
      "102858752/102853048 [==============================] - 2s 0us/step\n",
      "[WARN] minimum init buffer not reached - 2019-03-19 16:27:48.860938\n",
      "[INFO] creating datasets... - 2019-03-19 16:27:48.861521\n",
      "[INFO] writing un-empty buffers... - 2019-03-19 16:27:48.862509\n",
      "[INFO] writing `image_ids` buffer - 2019-03-19 16:27:48.863047\n",
      "[INFO] writing `features` buffer - 2019-03-19 16:27:48.864031\n",
      "[INFO] compacting datasets... - 2019-03-19 16:27:48.868315\n",
      "[INFO] old size of `image_ids`: 296; new size: 296 - 2019-03-19 16:27:48.868475\n",
      "[INFO] old size of `features`: 296; new size: 296 - 2019-03-19 16:27:48.868951\n",
      "[INFO] loading ['vgg16', 'False']...\n",
      "Downloading data from https://github.com/fchollet/deep-learning-models/releases/download/v0.1/vgg16_weights_tf_dim_ordering_tf_kernels.h5\n",
      "553467904/553467096 [==============================] - 26s 0us/step\n",
      "[WARN] minimum init buffer not reached - 2019-03-19 16:28:26.525212\n",
      "[INFO] creating datasets... - 2019-03-19 16:28:26.525867\n",
      "[INFO] writing un-empty buffers... - 2019-03-19 16:28:26.526825\n",
      "[INFO] writing `image_ids` buffer - 2019-03-19 16:28:26.527342\n",
      "[INFO] writing `features` buffer - 2019-03-19 16:28:26.528239\n",
      "[INFO] compacting datasets... - 2019-03-19 16:28:26.532831\n",
      "[INFO] old size of `image_ids`: 296; new size: 296 - 2019-03-19 16:28:26.533266\n",
      "[INFO] old size of `features`: 296; new size: 296 - 2019-03-19 16:28:26.533648\n"
     ]
    }
   ],
   "source": [
    "generateFeatures(\"./output\", 32, datasetPath, featureExtractors, False)"
   ]
  },
  {
   "cell_type": "markdown",
   "metadata": {
    "colab_type": "text",
    "id": "ZicpFJyF1M9r"
   },
   "source": [
    "This algorithm will create a set of files that contains the features of the images. Each file corresponds to a model of those indicated above. "
   ]
  },
  {
   "cell_type": "markdown",
   "metadata": {
    "colab_type": "text",
    "id": "KK5RQtAL1M9s"
   },
   "source": [
    "### Classification models"
   ]
  },
  {
   "cell_type": "markdown",
   "metadata": {
    "colab_type": "text",
    "id": "GJSnYJ131M9t"
   },
   "source": [
    "Once we have stored the features of the images, we have to choose the clasiffication models that we are going to use for the dataset. All these classifiers will be used for each feature extractor model to know which is the performance of every combination."
   ]
  },
  {
   "cell_type": "code",
   "execution_count": 0,
   "metadata": {
    "colab": {},
    "colab_type": "code",
    "id": "PVxYm1Lk1M9u"
   },
   "outputs": [],
   "source": [
    "modelClassifiers = [ \"MLP\",\"SVM\",\"KNN\", \"LogisticRegression\", \"GradientBoost\", \"RandomForest\"]"
   ]
  },
  {
   "cell_type": "markdown",
   "metadata": {
    "colab_type": "text",
    "id": "TaBWS3D11M9y"
   },
   "source": [
    "With the classifiers chosen, now that we have to do is to carry out a statistical analysis. The analysis studies and compares every combination. Once the analysis has compared all the combinations gives us the best combination of feature extractor model and classifier model and all the combinations that have not significant differencies with the best result.  "
   ]
  },
  {
   "cell_type": "markdown",
   "metadata": {
    "colab_type": "text",
    "id": "aZM7yvdr1M9z"
   },
   "source": [
    "### Performance measures and ensemble"
   ]
  },
  {
   "cell_type": "markdown",
   "metadata": {
    "colab_type": "text",
    "id": "5_0k0URm1M90"
   },
   "source": [
    "We have to select a performance measure to know which is the performance of the algorithm. In this case, there are five different measures (accuracy, recall, precision, auroc and f1). The user have to select only one of the five measures. Accuracy is the default measure.\n",
    "\n",
    "To improve the performance, the framework uses an ensemble technique called majority voting. This technique use all the models generated to predict the class of the image. The framework only saves the models that have a certain percentage of the measure chosen by the user. Then these models will be trained to classify the images. "
   ]
  },
  {
   "cell_type": "code",
   "execution_count": 0,
   "metadata": {
    "colab": {},
    "colab_type": "code",
    "id": "22Ep8OsL1M91"
   },
   "outputs": [],
   "source": [
    "measure = \"accuracy\""
   ]
  },
  {
   "cell_type": "code",
   "execution_count": 0,
   "metadata": {
    "colab": {},
    "colab_type": "code",
    "id": "3OPhdaMH1M97",
    "scrolled": true
   },
   "outputs": [],
   "source": [
    "majorityVoting(\"./output\", datasetPath, featureExtractors, modelClassifiers, measure, False)"
   ]
  },
  {
   "cell_type": "markdown",
   "metadata": {
    "colab_type": "text",
    "id": "hjS5bXam1M-B"
   },
   "source": [
    "### Training the models"
   ]
  },
  {
   "cell_type": "markdown",
   "metadata": {
    "colab_type": "text",
    "id": "li0MQFlF1M-E"
   },
   "source": [
    "Finally, we have to train the models. In this step, all the models that have been selected will be trained. But only models with more than 56% of the measure chosen previously. Thus, the framework prevents models with bad results from worsening the prediction. In this case we do not split the dataset in test and train data, we need all the images to train and improve the results of the model. \n",
    "\n",
    "In this function FrImCla asks the user if he/she wants a web application or not (Y if the user wants the webapp). This web application uses the best model selected by FrImCla for this problem. The application generated is very simple and only contains a text box and a button to predict the class of new images. FrImCla generates a zip file that must be decompressed to be used. Inside the folder the user has to open a new terminal in this path and run the following command:\n",
    "\n",
    "`python3 FlaskApp/app.py`\n",
    "\n",
    "The comand executes the web application in http://localhost:5000/ To use the application the user has to write open the link in his/her browser.\n"
   ]
  },
  {
   "cell_type": "code",
   "execution_count": 9,
   "metadata": {
    "colab": {
     "base_uri": "https://localhost:8080/",
     "height": 887
    },
    "colab_type": "code",
    "id": "4pVLJ3Ho1M-G",
    "outputId": "0fed992e-15f2-4aec-d9e9-db25cb5dac4f"
   },
   "outputs": [
    {
     "name": "stdout",
     "output_type": "stream",
     "text": [
      "[INFO] gathering train/test splits...\n",
      "[INFO] tuning hyperparameters...\n",
      "[INFO] best hyperparameters: {'activation': 'tanh', 'alpha': 0, 'learning_rate': 'adaptive', 'momentum': 0.9, 'solver': 'lbfgs'}\n",
      "[INFO] dumping classifier...\n"
     ]
    },
    {
     "name": "stderr",
     "output_type": "stream",
     "text": [
      "/usr/local/lib/python3.6/dist-packages/sklearn/model_selection/_search.py:841: DeprecationWarning: The default of the `iid` parameter will change from True to False in version 0.22 and will be removed in 0.24. This will change numeric results when test-set sizes are unequal.\n",
      "  DeprecationWarning)\n"
     ]
    },
    {
     "name": "stdout",
     "output_type": "stream",
     "text": [
      "[INFO] best hyperparameters: {'kernel': 'linear', 'gamma': 0.0001, 'C': 1000}\n",
      "[INFO] dumping classifier...\n"
     ]
    },
    {
     "name": "stderr",
     "output_type": "stream",
     "text": [
      "/usr/local/lib/python3.6/dist-packages/sklearn/model_selection/_search.py:841: DeprecationWarning: The default of the `iid` parameter will change from True to False in version 0.22 and will be removed in 0.24. This will change numeric results when test-set sizes are unequal.\n",
      "  DeprecationWarning)\n"
     ]
    },
    {
     "name": "stdout",
     "output_type": "stream",
     "text": [
      "[INFO] best hyperparameters: {'n_neighbors': 11}\n",
      "[INFO] dumping classifier...\n",
      "[INFO] best hyperparameters: {'C': 10000.0}\n",
      "[INFO] dumping classifier...\n"
     ]
    },
    {
     "name": "stderr",
     "output_type": "stream",
     "text": [
      "/usr/local/lib/python3.6/dist-packages/sklearn/model_selection/_search.py:841: DeprecationWarning: The default of the `iid` parameter will change from True to False in version 0.22 and will be removed in 0.24. This will change numeric results when test-set sizes are unequal.\n",
      "  DeprecationWarning)\n"
     ]
    },
    {
     "name": "stdout",
     "output_type": "stream",
     "text": [
      "[INFO] best hyperparameters: {'min_samples_leaf': 1, 'max_features': 10, 'max_depth': 3}\n",
      "[INFO] dumping classifier...\n"
     ]
    },
    {
     "name": "stderr",
     "output_type": "stream",
     "text": [
      "/usr/local/lib/python3.6/dist-packages/sklearn/model_selection/_search.py:841: DeprecationWarning: The default of the `iid` parameter will change from True to False in version 0.22 and will be removed in 0.24. This will change numeric results when test-set sizes are unequal.\n",
      "  DeprecationWarning)\n"
     ]
    },
    {
     "name": "stdout",
     "output_type": "stream",
     "text": [
      "[INFO] best hyperparameters: {'min_samples_leaf': 1, 'max_features': 10, 'max_depth': None, 'criterion': 'entropy', 'bootstrap': False}\n",
      "[INFO] dumping classifier...\n",
      "[INFO] gathering train/test splits...\n",
      "[INFO] tuning hyperparameters...\n"
     ]
    },
    {
     "name": "stderr",
     "output_type": "stream",
     "text": [
      "/usr/local/lib/python3.6/dist-packages/sklearn/neural_network/multilayer_perceptron.py:562: ConvergenceWarning: Stochastic Optimizer: Maximum iterations (200) reached and the optimization hasn't converged yet.\n",
      "  % self.max_iter, ConvergenceWarning)\n",
      "/usr/local/lib/python3.6/dist-packages/sklearn/neural_network/multilayer_perceptron.py:562: ConvergenceWarning: Stochastic Optimizer: Maximum iterations (200) reached and the optimization hasn't converged yet.\n",
      "  % self.max_iter, ConvergenceWarning)\n",
      "/usr/local/lib/python3.6/dist-packages/sklearn/neural_network/multilayer_perceptron.py:562: ConvergenceWarning: Stochastic Optimizer: Maximum iterations (200) reached and the optimization hasn't converged yet.\n",
      "  % self.max_iter, ConvergenceWarning)\n",
      "/usr/local/lib/python3.6/dist-packages/sklearn/neural_network/multilayer_perceptron.py:562: ConvergenceWarning: Stochastic Optimizer: Maximum iterations (200) reached and the optimization hasn't converged yet.\n",
      "  % self.max_iter, ConvergenceWarning)\n",
      "/usr/local/lib/python3.6/dist-packages/sklearn/neural_network/multilayer_perceptron.py:562: ConvergenceWarning: Stochastic Optimizer: Maximum iterations (200) reached and the optimization hasn't converged yet.\n",
      "  % self.max_iter, ConvergenceWarning)\n",
      "/usr/local/lib/python3.6/dist-packages/sklearn/neural_network/multilayer_perceptron.py:562: ConvergenceWarning: Stochastic Optimizer: Maximum iterations (200) reached and the optimization hasn't converged yet.\n",
      "  % self.max_iter, ConvergenceWarning)\n"
     ]
    },
    {
     "name": "stdout",
     "output_type": "stream",
     "text": [
      "[INFO] best hyperparameters: {'activation': 'logistic', 'alpha': 0, 'learning_rate': 'constant', 'momentum': 0.9, 'solver': 'lbfgs'}\n",
      "[INFO] dumping classifier...\n",
      "[INFO] best hyperparameters: {'kernel': 'linear', 'gamma': 0.001, 'C': 1000}\n",
      "[INFO] dumping classifier...\n",
      "[INFO] best hyperparameters: {'n_neighbors': 5}\n",
      "[INFO] dumping classifier...\n",
      "[INFO] best hyperparameters: {'C': 1000.0}\n",
      "[INFO] dumping classifier...\n",
      "[INFO] best hyperparameters: {'min_samples_leaf': 1, 'max_features': 3, 'max_depth': None}\n",
      "[INFO] dumping classifier...\n",
      "[INFO] best hyperparameters: {'min_samples_leaf': 1, 'max_features': 10, 'max_depth': 3, 'criterion': 'gini', 'bootstrap': False}\n",
      "[INFO] dumping classifier...\n",
      "Do you want to generate a web app to classify the images with the best combination? y/n\n",
      "y\n"
     ]
    }
   ],
   "source": [
    "train(\"./output\", datasetPath, 1)"
   ]
  },
  {
   "cell_type": "markdown",
   "metadata": {
    "colab_type": "text",
    "id": "Q_SE2wO51M-U"
   },
   "source": [
    "Once we have the model trained, we can predict the class of the new images.\n",
    "\n",
    "\n",
    "If you want to download the web application you have to execute the following code."
   ]
  },
  {
   "cell_type": "code",
   "execution_count": 0,
   "metadata": {
    "colab": {},
    "colab_type": "code",
    "id": "HTFcIOjyMQnN"
   },
   "outputs": [],
   "source": [
    "from google.colab import files\n",
    "files.download('./output/Mias/web.zip') "
   ]
  },
  {
   "cell_type": "markdown",
   "metadata": {
    "colab_type": "text",
    "id": "_AeDuW491M-W"
   },
   "source": [
    "### Prediction"
   ]
  },
  {
   "cell_type": "markdown",
   "metadata": {
    "colab_type": "text",
    "id": "A_-7R6fm1M-Z"
   },
   "source": [
    "Now, with the models trained we can predict the classes of our images. For this task, we have developed another algorithm to use the models. This execution will give us the predicted class of the image that we choose. "
   ]
  },
  {
   "cell_type": "code",
   "execution_count": 15,
   "metadata": {
    "colab": {
     "base_uri": "https://localhost:8080/",
     "height": 3417
    },
    "colab_type": "code",
    "id": "I1zCDf_v1M-e",
    "outputId": "d4146872-5041-449a-d62d-88be21b48f2f"
   },
   "outputs": [
    {
     "name": "stdout",
     "output_type": "stream",
     "text": [
      "[INFO] loading ['resnet', 'False']...\n",
      "[INFO] loading ['vgg16', 'False']...\n",
      "[INFO] class predicted for the image ./Mias/NORMAL/mdb234.jpg: 1\n",
      "[INFO] class predicted for the image ./Mias/NORMAL/mdb237.jpg: 1\n",
      "[INFO] class predicted for the image ./Mias/NORMAL/mdb112.jpg: 1\n",
      "[INFO] class predicted for the image ./Mias/NORMAL/mdb210.jpg: 1\n",
      "[INFO] class predicted for the image ./Mias/NORMAL/mdb047.jpg: 1\n",
      "[INFO] class predicted for the image ./Mias/NORMAL/mdb133.jpg: 1\n",
      "[INFO] class predicted for the image ./Mias/NORMAL/mdb162.jpg: 1\n",
      "[INFO] class predicted for the image ./Mias/NORMAL/mdb129.jpg: 1\n",
      "[INFO] class predicted for the image ./Mias/NORMAL/mdb255.jpg: 1\n",
      "[INFO] class predicted for the image ./Mias/NORMAL/mdb297.jpg: 1\n",
      "[INFO] class predicted for the image ./Mias/NORMAL/mdb064.jpg: 1\n",
      "[INFO] class predicted for the image ./Mias/NORMAL/mdb192.jpg: 1\n",
      "[INFO] class predicted for the image ./Mias/NORMAL/mdb029.jpg: 1\n",
      "[INFO] class predicted for the image ./Mias/NORMAL/mdb022.jpg: 1\n",
      "[INFO] class predicted for the image ./Mias/NORMAL/mdb033.jpg: 1\n",
      "[INFO] class predicted for the image ./Mias/NORMAL/mdb295.jpg: 1\n",
      "[INFO] class predicted for the image ./Mias/NORMAL/mdb067.jpg: 1\n",
      "[INFO] class predicted for the image ./Mias/NORMAL/mdb286.jpg: 1\n",
      "[INFO] class predicted for the image ./Mias/NORMAL/mdb200.jpg: 1\n",
      "[INFO] class predicted for the image ./Mias/NORMAL/mdb182.jpg: 1\n",
      "[INFO] class predicted for the image ./Mias/NORMAL/mdb291.jpg: 1\n",
      "[INFO] class predicted for the image ./Mias/NORMAL/mdb103.jpg: 1\n",
      "[INFO] class predicted for the image ./Mias/NORMAL/mdb056.jpg: 1\n",
      "[INFO] class predicted for the image ./Mias/NORMAL/mdb229.jpg: 1\n",
      "[INFO] class predicted for the image ./Mias/NORMAL/mdb275.jpg: 1\n",
      "[INFO] class predicted for the image ./Mias/NORMAL/mdb084.jpg: 1\n",
      "[INFO] class predicted for the image ./Mias/NORMAL/mdb194.jpg: 1\n",
      "[INFO] class predicted for the image ./Mias/NORMAL/mdb308.jpg: 1\n",
      "[INFO] class predicted for the image ./Mias/NORMAL/mdb254.jpg: 1\n",
      "[INFO] class predicted for the image ./Mias/NORMAL/mdb277.jpg: 1\n",
      "[INFO] class predicted for the image ./Mias/NORMAL/mdb011.jpg: 1\n",
      "[INFO] class predicted for the image ./Mias/NORMAL/mdb045.jpg: 1\n",
      "[INFO] class predicted for the image ./Mias/NORMAL/mdb246.jpg: 1\n",
      "[INFO] class predicted for the image ./Mias/NORMAL/mdb306.jpg: 1\n",
      "[INFO] class predicted for the image ./Mias/NORMAL/mdb177.jpg: 1\n",
      "[INFO] class predicted for the image ./Mias/NORMAL/mdb288.jpg: 1\n",
      "[INFO] class predicted for the image ./Mias/NORMAL/mdb183.jpg: 1\n",
      "[INFO] class predicted for the image ./Mias/NORMAL/mdb203.jpg: 1\n",
      "[INFO] class predicted for the image ./Mias/NORMAL/mdb051.jpg: 1\n",
      "[INFO] class predicted for the image ./Mias/NORMAL/mdb082.jpg: 1\n",
      "[INFO] class predicted for the image ./Mias/NORMAL/mdb258.jpg: 1\n",
      "[INFO] class predicted for the image ./Mias/NORMAL/mdb283.jpg: 1\n",
      "[INFO] class predicted for the image ./Mias/NORMAL/mdb260.jpg: 1\n",
      "[INFO] class predicted for the image ./Mias/NORMAL/mdb228.jpg: 1\n",
      "[INFO] class predicted for the image ./Mias/NORMAL/mdb307.jpg: 1\n",
      "[INFO] class predicted for the image ./Mias/NORMAL/mdb173.jpg: 1\n",
      "[INFO] class predicted for the image ./Mias/NORMAL/mdb071.jpg: 1\n",
      "[INFO] class predicted for the image ./Mias/NORMAL/mdb061.jpg: 1\n",
      "[INFO] class predicted for the image ./Mias/NORMAL/mdb266.jpg: 1\n",
      "[INFO] class predicted for the image ./Mias/NORMAL/mdb042.jpg: 1\n",
      "[INFO] class predicted for the image ./Mias/NORMAL/mdb113.jpg: 1\n",
      "[INFO] class predicted for the image ./Mias/NORMAL/mdb319.jpg: 1\n",
      "[INFO] class predicted for the image ./Mias/NORMAL/mdb313.jpg: 1\n",
      "[INFO] class predicted for the image ./Mias/NORMAL/mdb128.jpg: 1\n",
      "[INFO] class predicted for the image ./Mias/NORMAL/mdb157.jpg: 1\n",
      "[INFO] class predicted for the image ./Mias/NORMAL/mdb147.jpg: 1\n",
      "[INFO] class predicted for the image ./Mias/NORMAL/mdb232.jpg: 1\n",
      "[INFO] class predicted for the image ./Mias/NORMAL/mdb048.jpg: 1\n",
      "[INFO] class predicted for the image ./Mias/NORMAL/mdb318.jpg: 1\n",
      "[INFO] class predicted for the image ./Mias/NORMAL/mdb014.jpg: 1\n",
      "[INFO] class predicted for the image ./Mias/NORMAL/mdb087.jpg: 1\n",
      "[INFO] class predicted for the image ./Mias/NORMAL/mdb050.jpg: 1\n",
      "[INFO] class predicted for the image ./Mias/NORMAL/mdb250.jpg: 1\n",
      "[INFO] class predicted for the image ./Mias/NORMAL/mdb034.jpg: 1\n",
      "[INFO] class predicted for the image ./Mias/NORMAL/mdb094.jpg: 1\n",
      "[INFO] class predicted for the image ./Mias/NORMAL/mdb215.jpg: 1\n",
      "[INFO] class predicted for the image ./Mias/NORMAL/mdb137.jpg: 1\n",
      "[INFO] class predicted for the image ./Mias/NORMAL/mdb201.jpg: 1\n",
      "[INFO] class predicted for the image ./Mias/NORMAL/mdb243.jpg: 1\n",
      "[INFO] class predicted for the image ./Mias/NORMAL/mdb299.jpg: 1\n",
      "[INFO] class predicted for the image ./Mias/NORMAL/mdb220.jpg: 1\n",
      "[INFO] class predicted for the image ./Mias/NORMAL/mdb242.jpg: 1\n",
      "[INFO] class predicted for the image ./Mias/NORMAL/mdb031.jpg: 1\n",
      "[INFO] class predicted for the image ./Mias/NORMAL/mdb161.jpg: 1\n",
      "[INFO] class predicted for the image ./Mias/NORMAL/mdb135.jpg: 1\n",
      "[INFO] class predicted for the image ./Mias/NORMAL/mdb131.jpg: 1\n",
      "[INFO] class predicted for the image ./Mias/NORMAL/mdb062.jpg: 1\n",
      "[INFO] class predicted for the image ./Mias/NORMAL/mdb268.jpg: 1\n",
      "[INFO] class predicted for the image ./Mias/NORMAL/mdb289.jpg: 1\n",
      "[INFO] class predicted for the image ./Mias/NORMAL/mdb138.jpg: 1\n",
      "[INFO] class predicted for the image ./Mias/NORMAL/mdb282.jpg: 1\n",
      "[INFO] class predicted for the image ./Mias/NORMAL/mdb039.jpg: 1\n",
      "[INFO] class predicted for the image ./Mias/NORMAL/mdb055.jpg: 1\n",
      "[INFO] class predicted for the image ./Mias/NORMAL/mdb088.jpg: 1\n",
      "[INFO] class predicted for the image ./Mias/NORMAL/mdb166.jpg: 1\n",
      "[INFO] class predicted for the image ./Mias/NORMAL/mdb196.jpg: 1\n",
      "[INFO] class predicted for the image ./Mias/NORMAL/mdb008.jpg: 1\n",
      "[INFO] class predicted for the image ./Mias/NORMAL/mdb320.jpg: 1\n",
      "[INFO] class predicted for the image ./Mias/NORMAL/mdb214.jpg: 1\n",
      "[INFO] class predicted for the image ./Mias/NORMAL/mdb154.jpg: 1\n",
      "[INFO] class predicted for the image ./Mias/NORMAL/mdb009.jpg: 1\n",
      "[INFO] class predicted for the image ./Mias/NORMAL/mdb007.jpg: 1\n",
      "[INFO] class predicted for the image ./Mias/NORMAL/mdb205.jpg: 1\n",
      "[INFO] class predicted for the image ./Mias/NORMAL/mdb143.jpg: 1\n",
      "[INFO] class predicted for the image ./Mias/NORMAL/mdb235.jpg: 1\n",
      "[INFO] class predicted for the image ./Mias/NORMAL/mdb310.jpg: 1\n",
      "[INFO] class predicted for the image ./Mias/NORMAL/mdb309.jpg: 1\n",
      "[INFO] class predicted for the image ./Mias/NORMAL/mdb292.jpg: 1\n",
      "[INFO] class predicted for the image ./Mias/NORMAL/mdb225.jpg: 1\n",
      "[INFO] class predicted for the image ./Mias/NORMAL/mdb036.jpg: 1\n",
      "[INFO] class predicted for the image ./Mias/NORMAL/mdb065.jpg: 1\n",
      "[INFO] class predicted for the image ./Mias/NORMAL/mdb053.jpg: 1\n",
      "[INFO] class predicted for the image ./Mias/NORMAL/mdb263.jpg: 1\n",
      "[INFO] class predicted for the image ./Mias/NORMAL/mdb006.jpg: 1\n",
      "[INFO] class predicted for the image ./Mias/NORMAL/mdb085.jpg: 1\n",
      "[INFO] class predicted for the image ./Mias/NORMAL/mdb119.jpg: 1\n",
      "[INFO] class predicted for the image ./Mias/NORMAL/mdb068.jpg: 1\n",
      "[INFO] class predicted for the image ./Mias/NORMAL/mdb305.jpg: 1\n",
      "[INFO] class predicted for the image ./Mias/NORMAL/mdb038.jpg: 1\n",
      "[INFO] class predicted for the image ./Mias/NORMAL/mdb114.jpg: 1\n",
      "[INFO] class predicted for the image ./Mias/NORMAL/mdb098.jpg: 1\n",
      "[INFO] class predicted for the image ./Mias/NORMAL/mdb269.jpg: 1\n",
      "[INFO] class predicted for the image ./Mias/NORMAL/mdb049.jpg: 1\n",
      "[INFO] class predicted for the image ./Mias/NORMAL/mdb003.jpg: 1\n",
      "[INFO] class predicted for the image ./Mias/NORMAL/mdb317.jpg: 1\n",
      "[INFO] class predicted for the image ./Mias/NORMAL/mdb230.jpg: 1\n",
      "[INFO] class predicted for the image ./Mias/NORMAL/mdb172.jpg: 1\n",
      "[INFO] class predicted for the image ./Mias/NORMAL/mdb089.jpg: 1\n",
      "[INFO] class predicted for the image ./Mias/NORMAL/mdb303.jpg: 1\n",
      "[INFO] class predicted for the image ./Mias/NORMAL/mdb293.jpg: 1\n",
      "[INFO] class predicted for the image ./Mias/NORMAL/mdb212.jpg: 1\n",
      "[INFO] class predicted for the image ./Mias/NORMAL/mdb300.jpg: 1\n",
      "[INFO] class predicted for the image ./Mias/NORMAL/mdb156.jpg: 1\n",
      "[INFO] class predicted for the image ./Mias/NORMAL/mdb278.jpg: 1\n",
      "[INFO] class predicted for the image ./Mias/NORMAL/mdb074.jpg: 1\n",
      "[INFO] class predicted for the image ./Mias/NORMAL/mdb101.jpg: 1\n",
      "[INFO] class predicted for the image ./Mias/NORMAL/mdb280.jpg: 1\n",
      "[INFO] class predicted for the image ./Mias/NORMAL/mdb284.jpg: 1\n",
      "[INFO] class predicted for the image ./Mias/NORMAL/mdb136.jpg: 1\n",
      "[INFO] class predicted for the image ./Mias/NORMAL/mdb279.jpg: 1\n",
      "[INFO] class predicted for the image ./Mias/NORMAL/mdb302.jpg: 1\n",
      "[INFO] class predicted for the image ./Mias/NORMAL/mdb106.jpg: 1\n",
      "[INFO] class predicted for the image ./Mias/NORMAL/mdb168.jpg: 1\n",
      "[INFO] class predicted for the image ./Mias/NORMAL/mdb301.jpg: 1\n",
      "[INFO] class predicted for the image ./Mias/NORMAL/mdb046.jpg: 1\n",
      "[INFO] class predicted for the image ./Mias/NORMAL/mdb164.jpg: 1\n",
      "[INFO] class predicted for the image ./Mias/NORMAL/mdb077.jpg: 1\n",
      "[INFO] class predicted for the image ./Mias/NORMAL/mdb016.jpg: 1\n",
      "[INFO] class predicted for the image ./Mias/NORMAL/mdb272.jpg: 1\n",
      "[INFO] class predicted for the image ./Mias/NORMAL/mdb027.jpg: 1\n",
      "[INFO] class predicted for the image ./Mias/NORMAL/mdb273.jpg: 1\n",
      "[INFO] class predicted for the image ./Mias/NORMAL/mdb146.jpg: 1\n",
      "[INFO] class predicted for the image ./Mias/NORMAL/mdb123.jpg: 1\n",
      "[INFO] class predicted for the image ./Mias/NORMAL/mdb217.jpg: 1\n",
      "[INFO] class predicted for the image ./Mias/NORMAL/mdb153.jpg: 1\n",
      "[INFO] class predicted for the image ./Mias/NORMAL/mdb304.jpg: 1\n",
      "[INFO] class predicted for the image ./Mias/NORMAL/mdb321.jpg: 1\n",
      "[INFO] class predicted for the image ./Mias/NORMAL/mdb221.jpg: 1\n",
      "[INFO] class predicted for the image ./Mias/NORMAL/mdb100.jpg: 1\n",
      "[INFO] class predicted for the image ./Mias/NORMAL/mdb296.jpg: 1\n",
      "[INFO] class predicted for the image ./Mias/NORMAL/mdb185.jpg: 1\n",
      "[INFO] class predicted for the image ./Mias/NORMAL/mdb316.jpg: 1\n",
      "[INFO] class predicted for the image ./Mias/NORMAL/mdb174.jpg: 1\n",
      "[INFO] class predicted for the image ./Mias/NORMAL/mdb159.jpg: 1\n",
      "[INFO] class predicted for the image ./Mias/NORMAL/mdb197.jpg: 1\n",
      "[INFO] class predicted for the image ./Mias/NORMAL/mdb151.jpg: 1\n",
      "[INFO] class predicted for the image ./Mias/NORMAL/mdb189.jpg: 1\n",
      "[INFO] class predicted for the image ./Mias/NORMAL/mdb298.jpg: 1\n",
      "[INFO] class predicted for the image ./Mias/NORMAL/mdb311.jpg: 1\n",
      "[INFO] class predicted for the image ./Mias/NORMAL/mdb262.jpg: 1\n",
      "[INFO] class predicted for the image ./Mias/NORMAL/mdb037.jpg: 1\n",
      "[INFO] class predicted for the image ./Mias/NORMAL/mdb116.jpg: 1\n",
      "[INFO] class predicted for the image ./Mias/NORMAL/mdb041.jpg: 1\n",
      "[INFO] class predicted for the image ./Mias/NORMAL/mdb176.jpg: 1\n",
      "[INFO] class predicted for the image ./Mias/NORMAL/mdb040.jpg: 1\n",
      "[INFO] class predicted for the image ./Mias/NORMAL/mdb060.jpg: 1\n",
      "[INFO] class predicted for the image ./Mias/NORMAL/mdb139.jpg: 1\n",
      "[INFO] class predicted for the image ./Mias/NORMAL/mdb096.jpg: 1\n",
      "[INFO] class predicted for the image ./Mias/NORMAL/mdb076.jpg: 1\n",
      "[INFO] class predicted for the image ./Mias/NORMAL/mdb149.jpg: 1\n",
      "[INFO] class predicted for the image ./Mias/NORMAL/mdb043.jpg: 1\n",
      "[INFO] class predicted for the image ./Mias/NORMAL/mdb018.jpg: 1\n",
      "[INFO] class predicted for the image ./Mias/NORMAL/mdb109.jpg: 1\n",
      "[INFO] class predicted for the image ./Mias/NORMAL/mdb118.jpg: 1\n",
      "[INFO] class predicted for the image ./Mias/NORMAL/mdb078.jpg: 1\n",
      "[INFO] class predicted for the image ./Mias/NORMAL/mdb035.jpg: 1\n",
      "[INFO] class predicted for the image ./Mias/NORMAL/mdb140.jpg: 1\n",
      "[INFO] class predicted for the image ./Mias/NORMAL/mdb054.jpg: 1\n",
      "[INFO] class predicted for the image ./Mias/NORMAL/mdb180.jpg: 1\n",
      "[INFO] class predicted for the image ./Mias/NORMAL/mdb024.jpg: 1\n",
      "[INFO] class predicted for the image ./Mias/NORMAL/mdb093.jpg: 1\n",
      "[INFO] class predicted for the image ./Mias/NORMAL/mdb251.jpg: 1\n",
      "[INFO] class predicted for the image ./Mias/NORMAL/mdb044.jpg: 1\n",
      "[INFO] class predicted for the image ./Mias/NORMAL/mdb052.jpg: 1\n",
      "[INFO] class predicted for the image ./Mias/NORMAL/mdb247.jpg: 1\n",
      "[INFO] class predicted for the image ./Mias/NORMAL/mdb026.jpg: 1\n",
      "[INFO] class predicted for the image ./Mias/NORMAL/mdb086.jpg: 1\n",
      "[INFO] class predicted for the image ./Mias/NORMAL/mdb287.jpg: 1\n",
      "[INFO] class predicted for the image ./Mias/NORMAL/mdb259.jpg: 1\n",
      "[INFO] class predicted for the image ./Mias/NORMAL/mdb281.jpg: 1\n",
      "[INFO] class predicted for the image ./Mias/NORMAL/mdb285.jpg: 1\n",
      "[INFO] class predicted for the image ./Mias/NORMAL/mdb066.jpg: 1\n",
      "[INFO] class predicted for the image ./Mias/NORMAL/mdb261.jpg: 1\n",
      "[INFO] class predicted for the image ./Mias/NORMAL/mdb224.jpg: 1\n",
      "[INFO] class predicted for the image ./Mias/NORMAL/mdb004.jpg: 1\n",
      "[INFO] class predicted for the image ./Mias/NORMAL/mdb108.jpg: 1\n",
      "[INFO] class predicted for the image ./Mias/NORMAL/mdb073.jpg: 1\n",
      "[INFO] class predicted for the image ./Mias/NORMAL/mdb079.jpg: 1\n"
     ]
    }
   ],
   "source": [
    "datasetName = datasetPath[datasetPath.rfind(\"/\")+1:]\n",
    "\n",
    "with open(\"./output/\" + datasetName +'/ConfModel.json') as data:\n",
    "    datos = json.load(data)\n",
    "\n",
    "extractors = datos[\"featureExtractors\"]\n",
    "classifiers = [\"GradientBoost\",\"RandomForest\", \"SVM\",\"KNN\",\"LogisticRegression\", \"MLP\"]\n",
    "\n",
    "imagePaths = \"./Mias/NORMAL\"\n",
    "predictionEnsemble(featureExtractors, classifiers, imagePaths, \"./output\", datasetName)\n"
   ]
  },
  {
   "cell_type": "code",
   "execution_count": 0,
   "metadata": {
    "colab": {},
    "colab_type": "code",
    "id": "G0z22pZS8Bwz"
   },
   "outputs": [],
   "source": []
  }
 ],
 "metadata": {
  "accelerator": "GPU",
  "colab": {
   "name": "HowToUse(Ensemble).ipynb",
   "provenance": [],
   "version": "0.3.2"
  },
  "kernelspec": {
   "display_name": "Python 3",
   "language": "python",
   "name": "python3"
  },
  "language_info": {
   "codemirror_mode": {
    "name": "ipython",
    "version": 3
   },
   "file_extension": ".py",
   "mimetype": "text/x-python",
   "name": "python",
   "nbconvert_exporter": "python",
   "pygments_lexer": "ipython3",
   "version": "3.6.7"
  }
 },
 "nbformat": 4,
 "nbformat_minor": 1
}
